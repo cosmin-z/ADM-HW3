{
 "cells": [
  {
   "cell_type": "markdown",
   "metadata": {},
   "source": [
    "## Q 1.1"
   ]
  },
  {
   "cell_type": "code",
   "execution_count": 1,
   "metadata": {},
   "outputs": [
    {
     "data": {
      "text/plain": [
       "<function TextIOWrapper.close()>"
      ]
     },
     "execution_count": 1,
     "metadata": {},
     "output_type": "execute_result"
    }
   ],
   "source": [
    "from bs4 import BeautifulSoup\n",
    "import requests\n",
    "import re\n",
    "\n",
    "\n",
    "\n",
    "c = 0\n",
    "reg = r'href=\\\"https://[\\w\\W]*\" id'\n",
    "htt = list()\n",
    "for i in range(8):\n",
    "    cnt = requests.get(\"https://myanimelist.net/topanime.php?limit=\"+str(i*50))\n",
    "    soup = BeautifulSoup(cnt.content, features=\"lxml\")\n",
    "    links = soup.find_all('h3')\n",
    "    for l in range(len(links)-3):\n",
    "        li = links[l].find('a')\n",
    "        m = re.findall(reg, str(li))\n",
    "        s = m[0][6:][:-4]+'\\n'\n",
    "        htt.append(s)\n",
    "f = open(\"https.txt\", 'w')\n",
    "for i in htt:\n",
    "    f.write(i)\n",
    "f.close"
   ]
  },
  {
   "cell_type": "markdown",
   "metadata": {},
   "source": [
    "## Q 1.2"
   ]
  },
  {
   "cell_type": "code",
   "execution_count": null,
   "metadata": {},
   "outputs": [],
   "source": [
    "with open('https.txt', 'r',encoding='utf-8') as f:\n",
    "    for line in enumerate(f): \n",
    "            req = requests.get(line[1])\n",
    "            type(req)\n",
    "            with open(\"test.html\", 'w') as file:\n",
    "                file.write(req.text)\n",
    "                "
   ]
  },
  {
   "cell_type": "code",
   "execution_count": null,
   "metadata": {},
   "outputs": [],
   "source": []
  },
  {
   "cell_type": "code",
   "execution_count": null,
   "metadata": {},
   "outputs": [],
   "source": []
  }
 ],
 "metadata": {
  "kernelspec": {
   "display_name": "Python 3",
   "language": "python",
   "name": "python3"
  },
  "language_info": {
   "codemirror_mode": {
    "name": "ipython",
    "version": 3
   },
   "file_extension": ".py",
   "mimetype": "text/x-python",
   "name": "python",
   "nbconvert_exporter": "python",
   "pygments_lexer": "ipython3",
   "version": "3.8.8"
  }
 },
 "nbformat": 4,
 "nbformat_minor": 4
}
