{
 "cells": [
  {
   "cell_type": "markdown",
   "metadata": {},
   "source": [
    "#### Imports"
   ]
  },
  {
   "cell_type": "code",
   "execution_count": 1,
   "metadata": {},
   "outputs": [
    {
     "name": "stderr",
     "output_type": "stream",
     "text": [
      "[nltk_data] Downloading package stopwords to\n",
      "[nltk_data]     /home/ec2-user/nltk_data...\n",
      "[nltk_data]   Package stopwords is already up-to-date!\n"
     ]
    }
   ],
   "source": [
    "from bs4 import BeautifulSoup\n",
    "import requests\n",
    "import re\n",
    "import os\n",
    "import time\n",
    "import numpy as np, heapq\n",
    "import pandas as pd\n",
    "import codecs\n",
    "import lxml\n",
    "import csv\n",
    "import os.path\n",
    "from nltk.sentiment import SentimentIntensityAnalyzer\n",
    "from nltk.corpus import stopwords\n",
    "from nltk.stem import PorterStemmer \n",
    "import nltk\n",
    "from collections import defaultdict\n",
    "import pickle\n",
    "from tqdm import tqdm\n",
    "import math\n",
    "import time\n",
    "from pathlib import Path\n",
    "from joblib import Parallel, delayed # parallel processing\n",
    "import functions\n",
    "from numpy.linalg import norm\n",
    "import pandas as pd\n",
    "import numpy as np\n",
    "import ast"
   ]
  },
  {
   "cell_type": "markdown",
   "metadata": {},
   "source": [
    "#### Constant variable"
   ]
  },
  {
   "cell_type": "code",
   "execution_count": 2,
   "metadata": {},
   "outputs": [],
   "source": [
    "urls_txt = \"https.txt\"\n",
    "folder = 'Task 1.2/dataset'\n",
    "folder2 = 'Task 1.3/anime_tsv'\n",
    "headers = {\n",
    "    'user-agent': \"Mozilla/5.0 (Macintosh; Intel Mac OS X 10_15_7) AppleWebKit/537.36 (KHTML, like Gecko) Chrome/95.0.4638.69 Safari/537.36\",\n",
    "    'accept': \"image/avif,image/webp,image/apng,image/svg+xml,image/*,*/*;q=0.8\",\n",
    "    'referer': \"https://myanimelist.net/\"\n",
    "} \n",
    "save_path = 'simplePath'\n",
    "trfile = 'file.csv'"
   ]
  },
  {
   "cell_type": "markdown",
   "metadata": {},
   "source": [
    "## 1 Data Collection"
   ]
  },
  {
   "cell_type": "markdown",
   "metadata": {},
   "source": [
    "### 1.1 Get the list of animes"
   ]
  },
  {
   "cell_type": "markdown",
   "metadata": {},
   "source": []
  },
  {
   "cell_type": "code",
   "execution_count": 4,
   "metadata": {},
   "outputs": [
    {
     "data": {
      "text/plain": [
       "<function TextIOWrapper.close()>"
      ]
     },
     "execution_count": 4,
     "metadata": {},
     "output_type": "execute_result"
    }
   ],
   "source": [
    "c = 0\n",
    "reg = r'href=\\\"https://[\\w\\W]*\" id'\n",
    "htt = list()\n",
    "for i in range(400):\n",
    "    cnt = requests.get(\"https://myanimelist.net/topanime.php?limit=\"+str(i*50))\n",
    "    soup = BeautifulSoup(cnt.content, features=\"lxml\")\n",
    "    links = soup.find_all('h3')\n",
    "    for l in range(len(links)-3):\n",
    "        li = links[l].find('a')\n",
    "        m = re.findall(reg, str(li))\n",
    "        s = m[0][6:][:-4]+'\\n'\n",
    "        htt.append(s)\n",
    "f = open(\"urls_txt\", 'w')\n",
    "for i in htt:\n",
    "    f.write(i)\n",
    "f.close"
   ]
  },
  {
   "cell_type": "markdown",
   "metadata": {},
   "source": [
    "### 1.2 Crawl animes"
   ]
  },
  {
   "cell_type": "markdown",
   "metadata": {},
   "source": [
    "htmls_by_urls"
   ]
  },
  {
   "cell_type": "code",
   "execution_count": null,
   "metadata": {},
   "outputs": [],
   "source": [
    "functions.htmls_by_urls(urls_txt, folder)"
   ]
  },
  {
   "cell_type": "markdown",
   "metadata": {},
   "source": [
    "### 1.3 Parse downloaded pages"
   ]
  },
  {
   "cell_type": "code",
   "execution_count": 7,
   "metadata": {},
   "outputs": [],
   "source": [
    "# find all the path to the file\n",
    "alarr = functions.getHTML(folder)"
   ]
  },
  {
   "cell_type": "code",
   "execution_count": 8,
   "metadata": {
    "scrolled": true
   },
   "outputs": [],
   "source": [
    "reg1 = r'\\n[\\w\\W]*to'\n",
    "reg2 = r'to[\\w\\W]*\\n'\n",
    "animeTitle = []\n",
    "animeTypes = []\n",
    "animeNumEpisode = []\n",
    "releaseDate = []\n",
    "endDate = []\n",
    "animeNumMembers = []\n",
    "animeScore = []\n",
    "animeUsers = []\n",
    "animeRank = []\n",
    "animePopularity = []\n",
    "animeDescription = []\n",
    "animeRelated = []\n",
    "animeCharacters = []\n",
    "animeVoices = []\n",
    "animeStaff = [] \n",
    "df = pd.DataFrame(\n",
    "[animeTitle, animeTypes, animeNumEpisode, releaseDate, endDate, animeNumMembers, animeScore, animeUsers, animeRank, animePopularity, animeDescription, animeRelated, animeCharacters, animeVoices, animeStaff], \n",
    "index=['Title', 'Type', 'Episodes','Release date', 'End date', 'Members', 'Score', 'Users', 'Rank', 'Popularity', 'Description', 'Related', 'Characters', 'Voices', 'Staff']\n",
    ").T\n",
    "bs = 9\n",
    "for fiName in range(len(alarr)):\n",
    "    # anime titles\n",
    "    path = folder+'/'+alarr[fiName]\n",
    "    #print(path)\n",
    "    file = codecs.open(path, \"r\", \"utf-8\")\n",
    "    soup = BeautifulSoup(file, 'html.parser')\n",
    "    animeTitle.append(soup.find_all('strong')[0].contents[0])\n",
    "    \n",
    "    # left sied of the html------------------------------------------------------------\n",
    "    divs = soup.find_all(\"div\", {\"class\": \"spaceit_pad\"})\n",
    "    for div in divs:\n",
    "        spans = div.find_all(\"span\")\n",
    "        for span in spans:\n",
    "            # anime types\n",
    "            if span.contents[0] == 'Type:':\n",
    "                tr = div.find_all('a')\n",
    "                if len(tr) ==0:\n",
    "                    animeTypes.append(div.contents[2][2:])\n",
    "                else:\n",
    "                    animeTypes.append(div.find_all('a')[0].contents[0])\n",
    "            # anime number of episodes\n",
    "            if span.contents[0] == 'Episodes:':\n",
    "                try :\n",
    "                    animeNumEpisode.append(int(div.contents[2]))\n",
    "                except:\n",
    "                    animeNumEpisode.append(0)\n",
    "            # anime release and end dates\n",
    "            if span.contents[0] == 'Aired:':\n",
    "                if 'Not available' in div.contents[2]:\n",
    "                    releaseDate.append('?')\n",
    "                    endDate.append('?')\n",
    "                elif 'to' in div.contents[2]:                    \n",
    "                    if \"?\" in re.findall(reg2, str(div.contents[2]))[0][3:-1]:\n",
    "                        endDate.append(\"?\")\n",
    "                    else:\n",
    "                        endDate.append(pd.to_datetime(re.findall(reg2, str(div.contents[2]))[0][3:-1]))\n",
    "                    if \"?\" in re.findall(reg1, str(div.contents[2]))[0][3:-1]:\n",
    "                        releaseDate.append(\"?\")\n",
    "                    else:\n",
    "                        releaseDate.append(pd.to_datetime(re.findall(reg1, str(div.contents[2]))[0][2:-3]))\n",
    "                else:\n",
    "                    releaseDate.append(pd.to_datetime(div.contents[2][2:-2]))\n",
    "                    endDate.append('-')\n",
    "                    \n",
    "    # middle side of the html------------------------------------------------------------\n",
    "    divs = soup.find_all(\"div\", {\"class\": \"stats-block po-r clearfix\"})\n",
    "    for div in divs:\n",
    "        # anime number of members\n",
    "        members = div.find_all(\"span\", {\"class\": \"numbers members\"})\n",
    "        animeNumMembers.append(int(members[0].contents[1].contents[0].replace(',', '')))\n",
    "        # anime score\n",
    "        score = div.find_all(\"div\", {\"class\": \"score-label score-\"+str(bs)})\n",
    "        while len(score) == 0:\n",
    "            bs -= 1\n",
    "            score = div.find_all(\"div\", {\"class\": \"score-label score-\"+str(bs)})\n",
    "            if bs == -1:\n",
    "                bs = 10\n",
    "                score = div.find_all(\"div\", {\"class\": \"score-label score-na\"})\n",
    "        try:        \n",
    "            animeScore.append(float(score[0].contents[0]))\n",
    "            # anime number of users\n",
    "            users = div.find_all(\"div\", {\"class\": \"fl-l score\"})\n",
    "            animeUsers.append(int(users[0]['data-user'][:-6].replace(',', '')))\n",
    "        except:\n",
    "            animeScore.append(None)\n",
    "            animeUsers.append(0)\n",
    "\n",
    "        # anime rank\n",
    "        rank = div.find_all(\"span\", {\"class\": \"numbers ranked\"})\n",
    "        try:\n",
    "            animeRank.append(int(rank[0].contents[1].contents[0][1:]))\n",
    "        except:\n",
    "            animeRank.append(-1)\n",
    "        # anime popularity\n",
    "        popularity = div.find_all(\"span\", {\"class\": \"numbers popularity\"})\n",
    "        animePopularity.append(int(popularity[0].contents[1].contents[0][1:]))\n",
    "        \n",
    "    # anime description\n",
    "    description = soup.find_all(\"p\", {\"itemprop\": \"description\"})\n",
    "    for br in description[0].find_all(\"br\"):\n",
    "        br.replace_with(\"\\n\")\n",
    "    animeDescription.append(description[0].contents)\n",
    "    \n",
    "    # related animes \n",
    "    related = soup.find_all(\"table\", {\"class\": \"anime_detail_related_anime\"})\n",
    "    x = []\n",
    "    y = []\n",
    "    for tr in related:\n",
    "        td = tr.find_all(\"td\")\n",
    "        for i in range(0, len(td), 2):\n",
    "            x.append(td[i].contents[0])\n",
    "            try:\n",
    "                t = td[i+1].find_all(\"a\")\n",
    "                y.append(t[0].contents[0])\n",
    "            except:\n",
    "                y.append('NA')\n",
    "            \n",
    "        animeRelated.append('\\n'.join([f'{x} {y}' for x, y in dict(zip(x, y)).items()]).split('\\n'))\n",
    "        if(len(animeRelated)<len(animeDescription)):\n",
    "            animeRelated.append(\"None\")\n",
    "    try:    \n",
    "        # anime characters and voices\n",
    "        characters = soup.find_all(\"div\", {\"class\": \"detail-characters-list clearfix\"})\n",
    "        chars = characters[0].find_all(\"h3\", {\"class\": \"h3_characters_voice_actors\"})\n",
    "        x = []\n",
    "        y = []\n",
    "        voices = characters[0].find_all(\"td\", {\"class\": \"va-t ar pl4 pr4\"})\n",
    "        for i in chars:\n",
    "            x.append(i.contents[0].contents[0])\n",
    "        for i in voices:\n",
    "            y.append(i.contents[1].contents[0])\n",
    "        animeCharacters.append(x)\n",
    "        animeVoices.append(y)\n",
    "    except:\n",
    "        animeCharacters.append(\"NA\")\n",
    "        animeVoices.append(\"NA\")\n",
    "    \n",
    "    # anime staff\n",
    "    try:\n",
    "        staff = soup.find_all(\"div\", {\"class\": \"detail-characters-list clearfix\"})\n",
    "        staff = staff[1].find_all(\"td\")\n",
    "        x = []\n",
    "        y = []\n",
    "        for i in range(1, len(staff), 2):\n",
    "            x.append(staff[i].contents[1].contents[0])\n",
    "            y.append(staff[i].find_all(\"small\")[0].contents[0])\n",
    "        animeStaff.append([list(i) for i in list(zip(x,y))])\n",
    "    except:\n",
    "        animeStaff.append(\"NA\")\n",
    "        \n",
    "        \n",
    "    # Following lines are made to save memory by storing the current info in a pd instead of the array    \n",
    "    if ((fiName+1)%500) == 0:\n",
    "        dftr = pd.DataFrame(\n",
    "        [animeTitle.copy(), animeTypes.copy(), animeNumEpisode.copy(), releaseDate.copy(), endDate.copy(), animeNumMembers.copy(), animeScore.copy(), animeUsers.copy(), animeRank.copy(), animePopularity.copy(), animeDescription.copy(), animeRelated.copy(), animeCharacters.copy(), animeVoices.copy(), animeStaff.copy()], \n",
    "        index=['Title', 'Type', 'Episodes','Release date', 'End date', 'Members', 'Score', 'Users', 'Rank', 'Popularity', 'Description', 'Related', 'Characters', 'Voices', 'Staff']\n",
    "        ).T\n",
    "        df = pd.concat([df, dftr])\n",
    "        df.to_csv(trfile, index=False)\n",
    "        del df, dftr\n",
    "        animeTitle = []\n",
    "        animeTypes = []\n",
    "        animeNumEpisode = []\n",
    "        releaseDate = []\n",
    "        endDate = []\n",
    "        animeNumMembers = []\n",
    "        animeScore = []\n",
    "        animeUsers = []\n",
    "        animeRank = []\n",
    "        animePopularity = []\n",
    "        animeDescription = []\n",
    "        animeRelated = []\n",
    "        animeCharacters = []\n",
    "        animeVoices = []\n",
    "        animeStaff = [] \n",
    "        df = pd.read_csv(trfile)\n",
    "        os.remove(trfile)"
   ]
  },
  {
   "cell_type": "code",
   "execution_count": 9,
   "metadata": {},
   "outputs": [],
   "source": [
    "dftr = pd.DataFrame(\n",
    "[animeTitle, animeTypes, animeNumEpisode, releaseDate, endDate, animeNumMembers, animeScore, animeUsers, animeRank, animePopularity, animeDescription, animeRelated, animeCharacters, animeVoices, animeStaff], \n",
    "index=['Title', 'Type', 'Episodes','Release date', 'End date', 'Members', 'Score', 'Users', 'Rank', 'Popularity', 'Description', 'Related', 'Characters', 'Voices', 'Staff']\n",
    ").T\n",
    "df = pd.concat([df, dftr])\n",
    "df.to_csv(trfile, index=False)\n",
    "del df, dftr, animeTitle, animeTypes, animeNumEpisode, releaseDate, endDate, animeNumMembers, animeScore, animeUsers, animeRank, animePopularity, animeDescription, animeRelated, animeCharacters, animeVoices, animeStaff\n",
    "df = pd.read_csv(trfile)"
   ]
  },
  {
   "cell_type": "code",
   "execution_count": 17,
   "metadata": {},
   "outputs": [
    {
     "data": {
      "text/plain": [
       "(19053, 15)"
      ]
     },
     "execution_count": 17,
     "metadata": {},
     "output_type": "execute_result"
    }
   ],
   "source": [
    "df.head()\n",
    "df.shape"
   ]
  },
  {
   "cell_type": "code",
   "execution_count": 11,
   "metadata": {},
   "outputs": [],
   "source": [
    "#For each row I created a tsv file with the value of each anime \n",
    "for i in range(len(df)):\n",
    "    with open(folder2+'/anime_'+str(i)+'.tsv', 'wt') as file:\n",
    "        tsv_writer = csv.writer(file, delimiter='\\t')\n",
    "        tsv_writer.writerow([x for x in df.columns]) #the header row\n",
    "        tsv_writer.writerow(x for x in df.iloc[i]) #the value under each columns\n",
    "        "
   ]
  },
  {
   "cell_type": "markdown",
   "metadata": {},
   "source": [
    "## 2 Search Engine"
   ]
  },
  {
   "cell_type": "code",
   "execution_count": 3,
   "metadata": {},
   "outputs": [
    {
     "data": {
      "text/html": [
       "<div>\n",
       "<style scoped>\n",
       "    .dataframe tbody tr th:only-of-type {\n",
       "        vertical-align: middle;\n",
       "    }\n",
       "\n",
       "    .dataframe tbody tr th {\n",
       "        vertical-align: top;\n",
       "    }\n",
       "\n",
       "    .dataframe thead th {\n",
       "        text-align: right;\n",
       "    }\n",
       "</style>\n",
       "<table border=\"1\" class=\"dataframe\">\n",
       "  <thead>\n",
       "    <tr style=\"text-align: right;\">\n",
       "      <th></th>\n",
       "      <th>Title</th>\n",
       "      <th>Type</th>\n",
       "      <th>Episodes</th>\n",
       "      <th>Release date</th>\n",
       "      <th>End date</th>\n",
       "      <th>Members</th>\n",
       "      <th>Score</th>\n",
       "      <th>Users</th>\n",
       "      <th>Rank</th>\n",
       "      <th>Popularity</th>\n",
       "      <th>Description</th>\n",
       "      <th>Related</th>\n",
       "      <th>Characters</th>\n",
       "      <th>Voices</th>\n",
       "      <th>Staff</th>\n",
       "      <th>Url</th>\n",
       "    </tr>\n",
       "  </thead>\n",
       "  <tbody>\n",
       "    <tr>\n",
       "      <th>0</th>\n",
       "      <td>Fullmetal Alchemist: Brotherhood</td>\n",
       "      <td>TV</td>\n",
       "      <td>64</td>\n",
       "      <td>2009-04-05</td>\n",
       "      <td>2010-07-04 00:00:00</td>\n",
       "      <td>2676639</td>\n",
       "      <td>9.16</td>\n",
       "      <td>1622384</td>\n",
       "      <td>1</td>\n",
       "      <td>3</td>\n",
       "      <td>[\"After a horrific alchemy experiment goes wro...</td>\n",
       "      <td>['Adaptation: Fullmetal Alchemist', 'Alternati...</td>\n",
       "      <td>['Elric, Edward', 'Elric, Alphonse', 'Mustang,...</td>\n",
       "      <td>['Park, Romi', 'Kugimiya, Rie', 'Miki, Shinich...</td>\n",
       "      <td>[['Cook, Justin', 'Producer'], ['Yonai, Norito...</td>\n",
       "      <td>https://myanimelist.net/anime/5114/Fullmetal_A...</td>\n",
       "    </tr>\n",
       "    <tr>\n",
       "      <th>1</th>\n",
       "      <td>Gintama: The Final</td>\n",
       "      <td>Movie</td>\n",
       "      <td>1</td>\n",
       "      <td>2021-01-08</td>\n",
       "      <td>-</td>\n",
       "      <td>79486</td>\n",
       "      <td>9.00</td>\n",
       "      <td>29979</td>\n",
       "      <td>10</td>\n",
       "      <td>1924</td>\n",
       "      <td>['New ', &lt;i&gt;Gintama&lt;/i&gt;, ' movie.']</td>\n",
       "      <td>['Adaptation: Gintama', 'Prequel: Gintama.: Sh...</td>\n",
       "      <td>['Sakata, Gintoki', 'Kagura', 'Shimura, Shinpa...</td>\n",
       "      <td>['Sugita, Tomokazu', 'Ishida, Akira', 'Hino, S...</td>\n",
       "      <td>[['Fujita, Youichi', 'Director'], ['Miyawaki, ...</td>\n",
       "      <td>https://myanimelist.net/anime/28977/Gintama°</td>\n",
       "    </tr>\n",
       "    <tr>\n",
       "      <th>2</th>\n",
       "      <td>Shingeki no Kyojin: The Final Season</td>\n",
       "      <td>TV</td>\n",
       "      <td>16</td>\n",
       "      <td>2020-12-07</td>\n",
       "      <td>2021-03-29 00:00:00</td>\n",
       "      <td>1346547</td>\n",
       "      <td>8.91</td>\n",
       "      <td>791929</td>\n",
       "      <td>19</td>\n",
       "      <td>57</td>\n",
       "      <td>[\"Gabi Braun and Falco Grice have been trainin...</td>\n",
       "      <td>['Adaptation: Shingeki no Kyojin', 'Prequel: S...</td>\n",
       "      <td>['Yeager, Eren', 'Ackerman, Mikasa', 'Arlert, ...</td>\n",
       "      <td>['Kaji, Yuki', 'Ishikawa, Yui', 'Inoue, Marina...</td>\n",
       "      <td>[['Hayashi, Yuuichirou', 'Director, Storyboard...</td>\n",
       "      <td>https://myanimelist.net/anime/38524/Shingeki_n...</td>\n",
       "    </tr>\n",
       "    <tr>\n",
       "      <th>3</th>\n",
       "      <td>Uchuu Senkan Yamato 2199: Tsuioku no Koukai</td>\n",
       "      <td>Special</td>\n",
       "      <td>1</td>\n",
       "      <td>2014-10-11</td>\n",
       "      <td>-</td>\n",
       "      <td>2191</td>\n",
       "      <td>6.73</td>\n",
       "      <td>529</td>\n",
       "      <td>4950</td>\n",
       "      <td>9205</td>\n",
       "      <td>['Recap of Uchuu Senkan Yamato 2199.']</td>\n",
       "      <td>['Full story: Uchuu Senkan Yamato 2199']</td>\n",
       "      <td>['Kodai, Susumu', 'Niimi, Kaoru', 'Kiryuu, Mik...</td>\n",
       "      <td>['Nakamura, Eriko']</td>\n",
       "      <td>[['Kato, Takao', 'Director'], ['Imanishi, Taka...</td>\n",
       "      <td>https://myanimelist.net/anime/9253/Steins_Gate</td>\n",
       "    </tr>\n",
       "    <tr>\n",
       "      <th>4</th>\n",
       "      <td>Ikkitousen: Xtreme Xecutor Specials</td>\n",
       "      <td>Special</td>\n",
       "      <td>6</td>\n",
       "      <td>2010-06-25 00:00:00</td>\n",
       "      <td>2010-11-25 00:00:00</td>\n",
       "      <td>12848</td>\n",
       "      <td>6.56</td>\n",
       "      <td>4732</td>\n",
       "      <td>5805</td>\n",
       "      <td>4788</td>\n",
       "      <td>['Ikkitousen: Xtreme Xecutor Blu-ray and DVD s...</td>\n",
       "      <td>['Parent story: Ikkitousen: Xtreme Xecutor']</td>\n",
       "      <td>[\"Kan'u, Unchou\", 'Ryomou, Shimei', 'Sonsaku, ...</td>\n",
       "      <td>['Nabatame, Hitomi', 'Kaida, Yuuko', 'Asano, M...</td>\n",
       "      <td>[['Gotou, Junji', 'Chief Animation Director, C...</td>\n",
       "      <td>https://myanimelist.net/anime/42938/Fruits_Bas...</td>\n",
       "    </tr>\n",
       "  </tbody>\n",
       "</table>\n",
       "</div>"
      ],
      "text/plain": [
       "                                         Title     Type  Episodes  \\\n",
       "0             Fullmetal Alchemist: Brotherhood       TV        64   \n",
       "1                           Gintama: The Final    Movie         1   \n",
       "2         Shingeki no Kyojin: The Final Season       TV        16   \n",
       "3  Uchuu Senkan Yamato 2199: Tsuioku no Koukai  Special         1   \n",
       "4          Ikkitousen: Xtreme Xecutor Specials  Special         6   \n",
       "\n",
       "          Release date             End date  Members  Score    Users  Rank  \\\n",
       "0           2009-04-05  2010-07-04 00:00:00  2676639   9.16  1622384     1   \n",
       "1           2021-01-08                    -    79486   9.00    29979    10   \n",
       "2           2020-12-07  2021-03-29 00:00:00  1346547   8.91   791929    19   \n",
       "3           2014-10-11                    -     2191   6.73      529  4950   \n",
       "4  2010-06-25 00:00:00  2010-11-25 00:00:00    12848   6.56     4732  5805   \n",
       "\n",
       "   Popularity                                        Description  \\\n",
       "0           3  [\"After a horrific alchemy experiment goes wro...   \n",
       "1        1924                ['New ', <i>Gintama</i>, ' movie.']   \n",
       "2          57  [\"Gabi Braun and Falco Grice have been trainin...   \n",
       "3        9205             ['Recap of Uchuu Senkan Yamato 2199.']   \n",
       "4        4788  ['Ikkitousen: Xtreme Xecutor Blu-ray and DVD s...   \n",
       "\n",
       "                                             Related  \\\n",
       "0  ['Adaptation: Fullmetal Alchemist', 'Alternati...   \n",
       "1  ['Adaptation: Gintama', 'Prequel: Gintama.: Sh...   \n",
       "2  ['Adaptation: Shingeki no Kyojin', 'Prequel: S...   \n",
       "3           ['Full story: Uchuu Senkan Yamato 2199']   \n",
       "4       ['Parent story: Ikkitousen: Xtreme Xecutor']   \n",
       "\n",
       "                                          Characters  \\\n",
       "0  ['Elric, Edward', 'Elric, Alphonse', 'Mustang,...   \n",
       "1  ['Sakata, Gintoki', 'Kagura', 'Shimura, Shinpa...   \n",
       "2  ['Yeager, Eren', 'Ackerman, Mikasa', 'Arlert, ...   \n",
       "3  ['Kodai, Susumu', 'Niimi, Kaoru', 'Kiryuu, Mik...   \n",
       "4  [\"Kan'u, Unchou\", 'Ryomou, Shimei', 'Sonsaku, ...   \n",
       "\n",
       "                                              Voices  \\\n",
       "0  ['Park, Romi', 'Kugimiya, Rie', 'Miki, Shinich...   \n",
       "1  ['Sugita, Tomokazu', 'Ishida, Akira', 'Hino, S...   \n",
       "2  ['Kaji, Yuki', 'Ishikawa, Yui', 'Inoue, Marina...   \n",
       "3                                ['Nakamura, Eriko']   \n",
       "4  ['Nabatame, Hitomi', 'Kaida, Yuuko', 'Asano, M...   \n",
       "\n",
       "                                               Staff  \\\n",
       "0  [['Cook, Justin', 'Producer'], ['Yonai, Norito...   \n",
       "1  [['Fujita, Youichi', 'Director'], ['Miyawaki, ...   \n",
       "2  [['Hayashi, Yuuichirou', 'Director, Storyboard...   \n",
       "3  [['Kato, Takao', 'Director'], ['Imanishi, Taka...   \n",
       "4  [['Gotou, Junji', 'Chief Animation Director, C...   \n",
       "\n",
       "                                                 Url  \n",
       "0  https://myanimelist.net/anime/5114/Fullmetal_A...  \n",
       "1       https://myanimelist.net/anime/28977/Gintama°  \n",
       "2  https://myanimelist.net/anime/38524/Shingeki_n...  \n",
       "3     https://myanimelist.net/anime/9253/Steins_Gate  \n",
       "4  https://myanimelist.net/anime/42938/Fruits_Bas...  "
      ]
     },
     "execution_count": 3,
     "metadata": {},
     "output_type": "execute_result"
    }
   ],
   "source": [
    "dataset = functions.retriveTSV(folder2)\n",
    "\n",
    "# We add the different url as it is ask for the search engine\n",
    "with open('urls_txt', 'r', encoding='utf-8') as f:\n",
    "    lines = f.readlines()\n",
    "list_url = [line.strip() for line in lines]\n",
    "dataset['Url'] = list_url\n",
    "dataset.head()"
   ]
  },
  {
   "cell_type": "code",
   "execution_count": 4,
   "metadata": {},
   "outputs": [
    {
     "data": {
      "text/plain": [
       "(19053, 16)"
      ]
     },
     "execution_count": 4,
     "metadata": {},
     "output_type": "execute_result"
    }
   ],
   "source": [
    "dataset.shape"
   ]
  },
  {
   "cell_type": "markdown",
   "metadata": {},
   "source": [
    "### 2.0 Cleaning"
   ]
  },
  {
   "cell_type": "code",
   "execution_count": 5,
   "metadata": {},
   "outputs": [
    {
     "data": {
      "text/plain": [
       "'[\"After a horrific alchemy experiment goes wrong in the Elric household, brothers Edward and Alphonse are left in a catastrophic new reality. Ignoring the alchemical principle banning human transmutation, the boys attempted to bring their recently deceased mother back to life. Instead, they suffered brutal personal loss: Alphonse\\'s body disintegrated while Edward lost a leg and then sacrificed an arm to keep Alphonse\\'s soul in the physical realm by binding it to a hulking suit of armor.\", \\'\\\\n\\', \\'\\\\n\\', \\'\\\\n\\', \\'\\\\r\\\\nThe brothers are rescued by their neighbor Pinako Rockbell and her granddaughter Winry. Known as a bio-mechanical engineering prodigy, Winry creates prosthetic limbs for Edward by utilizing \"automail,\" a tough, versatile metal used in robots and combat armor. After years of training, the Elric brothers set off on a quest to restore their bodies by locating the Philosopher\\\\\\'s Stone—a powerful gem that allows an alchemist to defy the traditional laws of Equivalent Exchange.\\', \\'\\\\n\\', \\'\\\\n\\', \\'\\\\n\\', \\'\\\\r\\\\nAs Edward becomes an infamous alchemist and gains the nickname \"Fullmetal,\" the boys\\\\\\' journey embroils them in a growing conspiracy that threatens the fate of the world.\\', \\'\\\\n\\', \\'\\\\n\\', \\'\\\\n\\', \\'\\\\r\\\\n[Written by MAL Rewrite]\\']'"
      ]
     },
     "execution_count": 5,
     "metadata": {},
     "output_type": "execute_result"
    }
   ],
   "source": [
    "dataset['Description'][0]"
   ]
  },
  {
   "cell_type": "code",
   "execution_count": 6,
   "metadata": {},
   "outputs": [
    {
     "data": {
      "text/plain": [
       "['horrif',\n",
       " 'alchemi',\n",
       " 'experi',\n",
       " 'goe',\n",
       " 'wrong',\n",
       " 'elric',\n",
       " 'household',\n",
       " 'brother',\n",
       " 'edward',\n",
       " 'alphons',\n",
       " 'left',\n",
       " 'catastroph',\n",
       " 'new',\n",
       " 'realiti',\n",
       " 'ignor',\n",
       " 'alchem',\n",
       " 'principl',\n",
       " 'ban',\n",
       " 'human',\n",
       " 'transmut',\n",
       " 'boy',\n",
       " 'attempt',\n",
       " 'bring',\n",
       " 'recent',\n",
       " 'deceas',\n",
       " 'mother',\n",
       " 'back',\n",
       " 'life',\n",
       " 'instead',\n",
       " 'suffer',\n",
       " 'brutal',\n",
       " 'person',\n",
       " 'loss',\n",
       " 'alphons',\n",
       " 'bodi',\n",
       " 'disintegr',\n",
       " 'edward',\n",
       " 'lost',\n",
       " 'leg',\n",
       " 'sacrif',\n",
       " 'arm',\n",
       " 'keep',\n",
       " 'alphons',\n",
       " 'soul',\n",
       " 'physic',\n",
       " 'realm',\n",
       " 'bind',\n",
       " 'hulk',\n",
       " 'suit',\n",
       " 'armor',\n",
       " 'nthe',\n",
       " 'brother',\n",
       " 'rescu',\n",
       " 'neighbor',\n",
       " 'pinako',\n",
       " 'rockbel',\n",
       " 'granddaught',\n",
       " 'winri',\n",
       " 'known',\n",
       " 'bio',\n",
       " 'mechan',\n",
       " 'engin',\n",
       " 'prodigi',\n",
       " 'winri',\n",
       " 'creat',\n",
       " 'prosthet',\n",
       " 'limb',\n",
       " 'edward',\n",
       " 'util',\n",
       " 'automail',\n",
       " 'tough',\n",
       " 'versatil',\n",
       " 'metal',\n",
       " 'use',\n",
       " 'robot',\n",
       " 'combat',\n",
       " 'armor',\n",
       " 'year',\n",
       " 'train',\n",
       " 'elric',\n",
       " 'brother',\n",
       " 'set',\n",
       " 'quest',\n",
       " 'restor',\n",
       " 'bodi',\n",
       " 'locat',\n",
       " 'philosoph',\n",
       " 'stone',\n",
       " 'power',\n",
       " 'gem',\n",
       " 'allow',\n",
       " 'alchemist',\n",
       " 'defi',\n",
       " 'tradit',\n",
       " 'law',\n",
       " 'equival',\n",
       " 'exchang',\n",
       " 'na',\n",
       " 'edward',\n",
       " 'becom',\n",
       " 'infam',\n",
       " 'alchemist',\n",
       " 'gain',\n",
       " 'nicknam',\n",
       " 'fullmet',\n",
       " 'boy',\n",
       " 'journey',\n",
       " 'embroil',\n",
       " 'grow',\n",
       " 'conspiraci',\n",
       " 'threaten',\n",
       " 'fate',\n",
       " 'world',\n",
       " 'written',\n",
       " 'mal',\n",
       " 'rewrit']"
      ]
     },
     "execution_count": 6,
     "metadata": {},
     "output_type": "execute_result"
    }
   ],
   "source": [
    "functions.clean(functions.tokenize(dataset['Description'][0]))"
   ]
  },
  {
   "cell_type": "code",
   "execution_count": 13,
   "metadata": {},
   "outputs": [],
   "source": [
    "datasetClean = defaultdict()\n",
    "for i in range(len(dataset)):\n",
    "    datasetClean[i]=(functions.clean_fast(functions.tokenize((dataset['Description'][i]))))\n",
    "# We save dictionaries as pkl\n",
    "descriptionsDataset = open(\"descriptionsDataset.pkl\", \"wb\")\n",
    "pickle.dump(datasetClean, descriptionsDataset)\n",
    "descriptionsDataset.close()"
   ]
  },
  {
   "cell_type": "markdown",
   "metadata": {},
   "source": [
    "### 2.1 Conjunctive query"
   ]
  },
  {
   "cell_type": "markdown",
   "metadata": {},
   "source": [
    "#### 2.1.1 Create your index!"
   ]
  },
  {
   "cell_type": "markdown",
   "metadata": {},
   "source": [
    "### Dictionaries\n",
    "\n",
    "- the first dictionary <code>word_2_id</code> maps word to word identification integer\n",
    "\n",
    "- the inverted index dictionary <code>id_2_anime</code> maps word identification integer to list of indexes (main dataset indexes) of anime whose cleaned description contains the word identified by the integer"
   ]
  },
  {
   "cell_type": "code",
   "execution_count": 7,
   "metadata": {},
   "outputs": [
    {
     "name": "stderr",
     "output_type": "stream",
     "text": [
      "100%|██████████| 19053/19053 [00:30<00:00, 628.83it/s]\n"
     ]
    }
   ],
   "source": [
    "word_2_id0, id_2_anime0 = functions.dictionaries(dataset)"
   ]
  },
  {
   "cell_type": "markdown",
   "metadata": {},
   "source": [
    "#### 2.1.2 Execute the query"
   ]
  },
  {
   "cell_type": "code",
   "execution_count": 8,
   "metadata": {},
   "outputs": [
    {
     "data": {
      "text/plain": [
       "[1300, 8854, 9451, 14816]"
      ]
     },
     "execution_count": 8,
     "metadata": {},
     "output_type": "execute_result"
    }
   ],
   "source": [
    "q = functions.search_engine(\"saiyan race\")\n",
    "q"
   ]
  },
  {
   "cell_type": "code",
   "execution_count": 9,
   "metadata": {},
   "outputs": [
    {
     "data": {
      "text/html": [
       "<div>\n",
       "<style scoped>\n",
       "    .dataframe tbody tr th:only-of-type {\n",
       "        vertical-align: middle;\n",
       "    }\n",
       "\n",
       "    .dataframe tbody tr th {\n",
       "        vertical-align: top;\n",
       "    }\n",
       "\n",
       "    .dataframe thead th {\n",
       "        text-align: right;\n",
       "    }\n",
       "</style>\n",
       "<table border=\"1\" class=\"dataframe\">\n",
       "  <thead>\n",
       "    <tr style=\"text-align: right;\">\n",
       "      <th></th>\n",
       "      <th>Title</th>\n",
       "      <th>Description</th>\n",
       "      <th>Url</th>\n",
       "    </tr>\n",
       "  </thead>\n",
       "  <tbody>\n",
       "    <tr>\n",
       "      <th>0</th>\n",
       "      <td>Dragon Ball Z Special 1: Tatta Hitori no Saish...</td>\n",
       "      <td>[\"Bardock, Son Goku's father, is a low-ranking...</td>\n",
       "      <td>https://myanimelist.net/anime/11737/Ao_no_Exor...</td>\n",
       "    </tr>\n",
       "    <tr>\n",
       "      <th>1</th>\n",
       "      <td>Dragon Ball Z</td>\n",
       "      <td>[\"Five years after winning the World Martial A...</td>\n",
       "      <td>https://myanimelist.net/anime/37896/Ling_Yu_6t...</td>\n",
       "    </tr>\n",
       "    <tr>\n",
       "      <th>2</th>\n",
       "      <td>Dragon Ball Super: Broly</td>\n",
       "      <td>[\"Forty-one years ago on Planet Vegeta, home o...</td>\n",
       "      <td>https://myanimelist.net/anime/35952/Devilman_M...</td>\n",
       "    </tr>\n",
       "    <tr>\n",
       "      <th>3</th>\n",
       "      <td>Dragon Ball Kai</td>\n",
       "      <td>[\"Five years after the events of Dragon Ball, ...</td>\n",
       "      <td>https://myanimelist.net/anime/48287/Allegseuui...</td>\n",
       "    </tr>\n",
       "  </tbody>\n",
       "</table>\n",
       "</div>"
      ],
      "text/plain": [
       "                                               Title  \\\n",
       "0  Dragon Ball Z Special 1: Tatta Hitori no Saish...   \n",
       "1                                      Dragon Ball Z   \n",
       "2                           Dragon Ball Super: Broly   \n",
       "3                                    Dragon Ball Kai   \n",
       "\n",
       "                                         Description  \\\n",
       "0  [\"Bardock, Son Goku's father, is a low-ranking...   \n",
       "1  [\"Five years after winning the World Martial A...   \n",
       "2  [\"Forty-one years ago on Planet Vegeta, home o...   \n",
       "3  [\"Five years after the events of Dragon Ball, ...   \n",
       "\n",
       "                                                 Url  \n",
       "0  https://myanimelist.net/anime/11737/Ao_no_Exor...  \n",
       "1  https://myanimelist.net/anime/37896/Ling_Yu_6t...  \n",
       "2  https://myanimelist.net/anime/35952/Devilman_M...  \n",
       "3  https://myanimelist.net/anime/48287/Allegseuui...  "
      ]
     },
     "execution_count": 9,
     "metadata": {},
     "output_type": "execute_result"
    }
   ],
   "source": [
    "dfq = dataset.iloc[q, [0, 10, -1]]\n",
    "dfq.reset_index(drop=True, inplace=True)\n",
    "dfq"
   ]
  },
  {
   "cell_type": "markdown",
   "metadata": {},
   "source": [
    "### 2.2 Conjunctive query & Ranking score"
   ]
  },
  {
   "cell_type": "markdown",
   "metadata": {},
   "source": [
    "For the second search engine, given a query, we want to get the top-k (the choice of k it's up to you!) documents related to the query. In particular:\n",
    "\n",
    "- Find all the documents that contains all the words in the query.\n",
    "- Sort them by their similarity with the query.\n",
    "- Return in output k documents, or all the documents with non-zero similarity with the query when the results are less than k. You must use a heap data structure (you can use Python libraries) for maintaining the top-k documents.\n",
    "- To solve this task, you will have to use the tfIdf score, and the Cosine similarity. The field to consider it is still the synopsis."
   ]
  },
  {
   "cell_type": "code",
   "execution_count": 14,
   "metadata": {},
   "outputs": [],
   "source": [
    "import pickle\n",
    "\n",
    "\n",
    "with open('id_2_anime.pkl', 'rb') as f:\n",
    "    firstDictionary = pickle.load(f)\n",
    "    \n",
    "with open('word_2_id.pkl', 'rb') as f:\n",
    "    dataWord = pickle.load(f)\n",
    "    \n",
    "with open('descriptionsDataset.pkl', 'rb') as f:\n",
    "    dataDescriptionClean = pickle.load(f)"
   ]
  },
  {
   "cell_type": "markdown",
   "metadata": {},
   "source": [
    "#### 2.2.1 Inverted index"
   ]
  },
  {
   "cell_type": "code",
   "execution_count": 15,
   "metadata": {},
   "outputs": [],
   "source": [
    "lengthDic = len(firstDictionary)"
   ]
  },
  {
   "cell_type": "code",
   "execution_count": 16,
   "metadata": {},
   "outputs": [],
   "source": [
    "tfidf_invIndex = defaultdict() #starting a dictiornary\n",
    "\n",
    "dataWordList = list(dataWord.copy()) #copy of the dictionary which contains the words\n",
    "tfidf_invIndex = firstDictionary.copy() #copy of the dictionary which containts the documents where each word of dataword is present\n",
    "dataDescription = dataDescriptionClean.copy()"
   ]
  },
  {
   "cell_type": "code",
   "execution_count": 17,
   "metadata": {},
   "outputs": [
    {
     "name": "stderr",
     "output_type": "stream",
     "text": [
      "100%|██████████| 39597/39597 [00:05<00:00, 7408.91it/s] \n"
     ]
    }
   ],
   "source": [
    "for i in tqdm(range(1,len(firstDictionary))):\n",
    "    lenghtTerm = len(firstDictionary[i]) #lenght of a single term_id_i\n",
    "    for j in range(len(firstDictionary[i])):\n",
    "        synopsis = dataDescription[firstDictionary[i][j]] #the description that contains the word\n",
    "        wordsDocument = len(synopsis) #the lenght\n",
    "        numberOfOccurence = functions.number_occurence(synopsis, dataWordList[i])\n",
    "        tfidf_invIndex[i][j]=(firstDictionary[i][j], functions.calculate_TfIdf(lengthDic, lenghtTerm, numberOfOccurence, wordsDocument)) #return ( id-document, tfIdf_{term,documenti})"
   ]
  },
  {
   "cell_type": "markdown",
   "metadata": {},
   "source": [
    "#### 2.2.2 Execute the query"
   ]
  },
  {
   "cell_type": "code",
   "execution_count": 19,
   "metadata": {},
   "outputs": [
    {
     "name": "stdout",
     "output_type": "stream",
     "text": [
      "saiyan saiyan\n",
      "race race\n"
     ]
    },
    {
     "data": {
      "text/plain": [
       "1.4142135623730951"
      ]
     },
     "execution_count": 19,
     "metadata": {},
     "output_type": "execute_result"
    }
   ],
   "source": [
    "searchWord = (functions.clean_fast(functions.tokenize(('saiyan race'))))\n",
    "scoreHeap, k = [], 10\n",
    "heapq.heapify(scoreHeap)\n",
    "q =  np.zeros((len(dataWord)))\n",
    "\n",
    "for word in searchWord:\n",
    "    for key, value in dataWord.items():\n",
    "        if word == key:\n",
    "            print(word, key)\n",
    "            q[value] +=1 #fill the query q\n",
    "normq = norm(q, ord=2)\n",
    "normq"
   ]
  },
  {
   "cell_type": "code",
   "execution_count": 20,
   "metadata": {},
   "outputs": [
    {
     "name": "stderr",
     "output_type": "stream",
     "text": [
      "100%|██████████| 19053/19053 [06:02<00:00, 52.61it/s]\n"
     ]
    }
   ],
   "source": [
    "d = np.zeros((len(dataset), len(dataWord)))\n",
    "\n",
    "for i in tqdm(range(len(dataset))):\n",
    "    for j in range(1,len(q)):\n",
    "        if (q[j] != 0):\n",
    "            for k in range(len(tfidf_invIndex[j])):\n",
    "                if i == tfidf_invIndex[j][k][0]:\n",
    "                    d[i][j] = (tfidf_invIndex[j][k][1])"
   ]
  },
  {
   "cell_type": "code",
   "execution_count": 21,
   "metadata": {},
   "outputs": [
    {
     "name": "stderr",
     "output_type": "stream",
     "text": [
      "  0%|          | 0/19053 [00:00<?, ?it/s]/home/ec2-user/anaconda3/lib/python3.7/site-packages/ipykernel_launcher.py:5: RuntimeWarning: invalid value encountered in double_scalars\n",
      "  \"\"\"\n",
      "100%|██████████| 19053/19053 [05:44<00:00, 55.33it/s]\n"
     ]
    }
   ],
   "source": [
    "for i in tqdm(range(len(d))):\n",
    "    my_sum = 0\n",
    "    normd = norm(d[i])\n",
    "    my_sum = np.sum([q[j]*d[i][j] for j in range(len(q)) if q[j] != 0])\n",
    "    if not math.isnan(my_sum/(normq*normd)):\n",
    "        heapq.heappush(scoreHeap,(i,my_sum/(normq*normd)))\n",
    "\n",
    "    if len(scoreHeap)==k:\n",
    "        heapq.heappop(scoreHeap)\n",
    "    scoreHeap.sort(key=lambda x:x[1])"
   ]
  },
  {
   "cell_type": "code",
   "execution_count": 22,
   "metadata": {},
   "outputs": [
    {
     "name": "stdout",
     "output_type": "stream",
     "text": [
      "[(1300, 'Dragon Ball Z Special 1: Tatta Hitori no Saishuu Kessen', '[\"Bardock, Son Goku\\'s father, is a low-ranking Saiyan soldier who was given the power to see into the future by the last remaining alien on a planet he just destroyed. He witnesses the destruction of his race and must now do his best to stop Frieza\\'s impending massacre.\", \\'\\\\n\\', \\'\\\\n\\', \\'\\\\n\\', \\'\\\\r\\\\n(Source: ANN)\\']', '', 0.9670745372626464)]\n",
      "[(1300, 'Dragon Ball Z Special 1: Tatta Hitori no Saishuu Kessen', '[\"Bardock, Son Goku\\'s father, is a low-ranking Saiyan soldier who was given the power to see into the future by the last remaining alien on a planet he just destroyed. He witnesses the destruction of his race and must now do his best to stop Frieza\\'s impending massacre.\", \\'\\\\n\\', \\'\\\\n\\', \\'\\\\n\\', \\'\\\\r\\\\n(Source: ANN)\\']', '', 0.9670745372626464), (9451, 'Dragon Ball Super: Broly', '[\"Forty-one years ago on Planet Vegeta, home of the infamous Saiyan warrior race, King Vegeta noticed a baby named Broly whose latent power exceeded that of his own son. Believing that Broly\\'s power would one day surpass that of his child, Vegeta, the king sends Broly to the desolate planet Vampa. Broly\\'s father Paragus follows after him, intent on rescuing his son. However, his ship gets damaged, causing the two to spend years trapped on the barren world, unaware of the salvation that would one day come from an unlikely ally.\", \\'\\\\n\\', \\'\\\\n\\', \\'\\\\n\\', \\'\\\\r\\\\nYears later on Earth, Gokuu Son and Prince Vegeta—believed to be the last survivors of the Saiyan race—are busy training on a remote island. But their sparring is interrupted when the appearance of their old enemy Frieza drives them to search for the last of the wish-granting Dragon Balls on a frozen continent. Once there, Frieza shows off his new allies: Paragus and the now extremely powerful Broly. A legendary battle that shakes the foundation of the world ensues as Gokuu and Vegeta face off against Broly, a warrior without equal whose rage is just waiting to be unleashed.\\', \\'\\\\n\\', \\'\\\\n\\', \\'\\\\n\\', \\'\\\\r\\\\n[Written by MAL Rewrite]\\']', '', 0.9486832980505137)]\n",
      "[(1300, 'Dragon Ball Z Special 1: Tatta Hitori no Saishuu Kessen', '[\"Bardock, Son Goku\\'s father, is a low-ranking Saiyan soldier who was given the power to see into the future by the last remaining alien on a planet he just destroyed. He witnesses the destruction of his race and must now do his best to stop Frieza\\'s impending massacre.\", \\'\\\\n\\', \\'\\\\n\\', \\'\\\\n\\', \\'\\\\r\\\\n(Source: ANN)\\']', '', 0.9670745372626464), (9451, 'Dragon Ball Super: Broly', '[\"Forty-one years ago on Planet Vegeta, home of the infamous Saiyan warrior race, King Vegeta noticed a baby named Broly whose latent power exceeded that of his own son. Believing that Broly\\'s power would one day surpass that of his child, Vegeta, the king sends Broly to the desolate planet Vampa. Broly\\'s father Paragus follows after him, intent on rescuing his son. However, his ship gets damaged, causing the two to spend years trapped on the barren world, unaware of the salvation that would one day come from an unlikely ally.\", \\'\\\\n\\', \\'\\\\n\\', \\'\\\\n\\', \\'\\\\r\\\\nYears later on Earth, Gokuu Son and Prince Vegeta—believed to be the last survivors of the Saiyan race—are busy training on a remote island. But their sparring is interrupted when the appearance of their old enemy Frieza drives them to search for the last of the wish-granting Dragon Balls on a frozen continent. Once there, Frieza shows off his new allies: Paragus and the now extremely powerful Broly. A legendary battle that shakes the foundation of the world ensues as Gokuu and Vegeta face off against Broly, a warrior without equal whose rage is just waiting to be unleashed.\\', \\'\\\\n\\', \\'\\\\n\\', \\'\\\\n\\', \\'\\\\r\\\\n[Written by MAL Rewrite]\\']', '', 0.9486832980505137), (8854, 'Dragon Ball Z', '[\"Five years after winning the World Martial Arts tournament, Gokuu is now living a peaceful life with his wife and son. This changes, however, with the arrival of a mysterious enemy named Raditz who presents himself as Gokuu\\'s long-lost brother. He reveals that Gokuu is a warrior from the once powerful but now virtually extinct Saiyan race, whose homeworld was completely annihilated. When he was sent to Earth as a baby, Gokuu\\'s sole purpose was to conquer and destroy the planet; but after suffering amnesia from a head injury, his violent and savage nature changed, and instead was raised as a kind and well-mannered boy, now fighting to protect others.\", \\'\\\\n\\', \\'\\\\n\\', \\'\\\\n\\', \"\\\\r\\\\nWith his failed attempt at forcibly recruiting Gokuu as an ally, Raditz warns Gokuu\\'s friends of a new threat that\\'s rapidly approaching Earth—one that could plunge Earth into an intergalactic conflict and cause the heavens themselves to shake. A war will be fought over the seven mystical dragon balls, and only the strongest will survive in \", <i>Dragon Ball Z</i>, \\'.\\', \\'\\\\n\\', \\'\\\\n\\', \\'\\\\n\\', \\'\\\\r\\\\n[Written by MAL Rewrite]\\']', '', 0.9486832980505137)]\n",
      "[(1300, 'Dragon Ball Z Special 1: Tatta Hitori no Saishuu Kessen', '[\"Bardock, Son Goku\\'s father, is a low-ranking Saiyan soldier who was given the power to see into the future by the last remaining alien on a planet he just destroyed. He witnesses the destruction of his race and must now do his best to stop Frieza\\'s impending massacre.\", \\'\\\\n\\', \\'\\\\n\\', \\'\\\\n\\', \\'\\\\r\\\\n(Source: ANN)\\']', '', 0.9670745372626464), (9451, 'Dragon Ball Super: Broly', '[\"Forty-one years ago on Planet Vegeta, home of the infamous Saiyan warrior race, King Vegeta noticed a baby named Broly whose latent power exceeded that of his own son. Believing that Broly\\'s power would one day surpass that of his child, Vegeta, the king sends Broly to the desolate planet Vampa. Broly\\'s father Paragus follows after him, intent on rescuing his son. However, his ship gets damaged, causing the two to spend years trapped on the barren world, unaware of the salvation that would one day come from an unlikely ally.\", \\'\\\\n\\', \\'\\\\n\\', \\'\\\\n\\', \\'\\\\r\\\\nYears later on Earth, Gokuu Son and Prince Vegeta—believed to be the last survivors of the Saiyan race—are busy training on a remote island. But their sparring is interrupted when the appearance of their old enemy Frieza drives them to search for the last of the wish-granting Dragon Balls on a frozen continent. Once there, Frieza shows off his new allies: Paragus and the now extremely powerful Broly. A legendary battle that shakes the foundation of the world ensues as Gokuu and Vegeta face off against Broly, a warrior without equal whose rage is just waiting to be unleashed.\\', \\'\\\\n\\', \\'\\\\n\\', \\'\\\\n\\', \\'\\\\r\\\\n[Written by MAL Rewrite]\\']', '', 0.9486832980505137), (8854, 'Dragon Ball Z', '[\"Five years after winning the World Martial Arts tournament, Gokuu is now living a peaceful life with his wife and son. This changes, however, with the arrival of a mysterious enemy named Raditz who presents himself as Gokuu\\'s long-lost brother. He reveals that Gokuu is a warrior from the once powerful but now virtually extinct Saiyan race, whose homeworld was completely annihilated. When he was sent to Earth as a baby, Gokuu\\'s sole purpose was to conquer and destroy the planet; but after suffering amnesia from a head injury, his violent and savage nature changed, and instead was raised as a kind and well-mannered boy, now fighting to protect others.\", \\'\\\\n\\', \\'\\\\n\\', \\'\\\\n\\', \"\\\\r\\\\nWith his failed attempt at forcibly recruiting Gokuu as an ally, Raditz warns Gokuu\\'s friends of a new threat that\\'s rapidly approaching Earth—one that could plunge Earth into an intergalactic conflict and cause the heavens themselves to shake. A war will be fought over the seven mystical dragon balls, and only the strongest will survive in \", <i>Dragon Ball Z</i>, \\'.\\', \\'\\\\n\\', \\'\\\\n\\', \\'\\\\n\\', \\'\\\\r\\\\n[Written by MAL Rewrite]\\']', '', 0.9486832980505137), (14816, 'Dragon Ball Kai', '[\"Five years after the events of Dragon Ball, martial arts expert Gokuu is now a grown man married to his wife Chi-Chi, with a four-year old son named Gohan. While attending a reunion on Turtle Island with his old friends Master Roshi, Krillin, Bulma and others, the festivities are interrupted when a humanoid alien named Raditz not only reveals the truth behind Gokuu\\'s past, but kidnaps Gohan as well.\", \\'\\\\n\\', \\'\\\\n\\', \\'\\\\n\\', \\'\\\\r\\\\nWith Raditz displaying power beyond anything Gokuu has seen before, he is forced to team up with his old nemesis, Piccolo, in order to rescue his son. But when Gokuu and Piccolo reveal the secret of the seven mystical wish-granting Dragon Balls to Raditz, he informs the duo that there is more of his race, the Saiyans, and they won’t pass up an opportunity to seize the power of the Dragon Balls for themselves.\\', \\'\\\\n\\', \\'\\\\n\\', \\'\\\\n\\', \\'\\\\r\\\\nThese events begin the saga of \\', <i>Dragon Ball Kai</i>, \\', a story that finds Gokuu and his friends and family constantly defending the galaxy from increasingly more powerful threats. Bizarre, comical, heartwarming and threatening characters come together in a series of battles that push the powers and abilities of Gokuu and his friends beyond anything they have ever experienced.\\']', '', 0.9486832980505137)]\n",
      "[(1300, 'Dragon Ball Z Special 1: Tatta Hitori no Saishuu Kessen', '[\"Bardock, Son Goku\\'s father, is a low-ranking Saiyan soldier who was given the power to see into the future by the last remaining alien on a planet he just destroyed. He witnesses the destruction of his race and must now do his best to stop Frieza\\'s impending massacre.\", \\'\\\\n\\', \\'\\\\n\\', \\'\\\\n\\', \\'\\\\r\\\\n(Source: ANN)\\']', '', 0.9670745372626464), (9451, 'Dragon Ball Super: Broly', '[\"Forty-one years ago on Planet Vegeta, home of the infamous Saiyan warrior race, King Vegeta noticed a baby named Broly whose latent power exceeded that of his own son. Believing that Broly\\'s power would one day surpass that of his child, Vegeta, the king sends Broly to the desolate planet Vampa. Broly\\'s father Paragus follows after him, intent on rescuing his son. However, his ship gets damaged, causing the two to spend years trapped on the barren world, unaware of the salvation that would one day come from an unlikely ally.\", \\'\\\\n\\', \\'\\\\n\\', \\'\\\\n\\', \\'\\\\r\\\\nYears later on Earth, Gokuu Son and Prince Vegeta—believed to be the last survivors of the Saiyan race—are busy training on a remote island. But their sparring is interrupted when the appearance of their old enemy Frieza drives them to search for the last of the wish-granting Dragon Balls on a frozen continent. Once there, Frieza shows off his new allies: Paragus and the now extremely powerful Broly. A legendary battle that shakes the foundation of the world ensues as Gokuu and Vegeta face off against Broly, a warrior without equal whose rage is just waiting to be unleashed.\\', \\'\\\\n\\', \\'\\\\n\\', \\'\\\\n\\', \\'\\\\r\\\\n[Written by MAL Rewrite]\\']', '', 0.9486832980505137), (8854, 'Dragon Ball Z', '[\"Five years after winning the World Martial Arts tournament, Gokuu is now living a peaceful life with his wife and son. This changes, however, with the arrival of a mysterious enemy named Raditz who presents himself as Gokuu\\'s long-lost brother. He reveals that Gokuu is a warrior from the once powerful but now virtually extinct Saiyan race, whose homeworld was completely annihilated. When he was sent to Earth as a baby, Gokuu\\'s sole purpose was to conquer and destroy the planet; but after suffering amnesia from a head injury, his violent and savage nature changed, and instead was raised as a kind and well-mannered boy, now fighting to protect others.\", \\'\\\\n\\', \\'\\\\n\\', \\'\\\\n\\', \"\\\\r\\\\nWith his failed attempt at forcibly recruiting Gokuu as an ally, Raditz warns Gokuu\\'s friends of a new threat that\\'s rapidly approaching Earth—one that could plunge Earth into an intergalactic conflict and cause the heavens themselves to shake. A war will be fought over the seven mystical dragon balls, and only the strongest will survive in \", <i>Dragon Ball Z</i>, \\'.\\', \\'\\\\n\\', \\'\\\\n\\', \\'\\\\n\\', \\'\\\\r\\\\n[Written by MAL Rewrite]\\']', '', 0.9486832980505137), (14816, 'Dragon Ball Kai', '[\"Five years after the events of Dragon Ball, martial arts expert Gokuu is now a grown man married to his wife Chi-Chi, with a four-year old son named Gohan. While attending a reunion on Turtle Island with his old friends Master Roshi, Krillin, Bulma and others, the festivities are interrupted when a humanoid alien named Raditz not only reveals the truth behind Gokuu\\'s past, but kidnaps Gohan as well.\", \\'\\\\n\\', \\'\\\\n\\', \\'\\\\n\\', \\'\\\\r\\\\nWith Raditz displaying power beyond anything Gokuu has seen before, he is forced to team up with his old nemesis, Piccolo, in order to rescue his son. But when Gokuu and Piccolo reveal the secret of the seven mystical wish-granting Dragon Balls to Raditz, he informs the duo that there is more of his race, the Saiyans, and they won’t pass up an opportunity to seize the power of the Dragon Balls for themselves.\\', \\'\\\\n\\', \\'\\\\n\\', \\'\\\\n\\', \\'\\\\r\\\\nThese events begin the saga of \\', <i>Dragon Ball Kai</i>, \\', a story that finds Gokuu and his friends and family constantly defending the galaxy from increasingly more powerful threats. Bizarre, comical, heartwarming and threatening characters come together in a series of battles that push the powers and abilities of Gokuu and his friends beyond anything they have ever experienced.\\']', '', 0.9486832980505137), (16438, 'PistStar', '[\"The Nagoya Keirin Golden Dolphin Competition is a bicycle race—specifically a Japanese style track cycling event held in a velodrome—and this year\\'s 62nd annual competition will be supporting areas affected by the 2011 earthquake. An anime clip was created as part of a promotional campaign.\"]', '', 0.7071067811865476)]\n",
      "[(1300, 'Dragon Ball Z Special 1: Tatta Hitori no Saishuu Kessen', '[\"Bardock, Son Goku\\'s father, is a low-ranking Saiyan soldier who was given the power to see into the future by the last remaining alien on a planet he just destroyed. He witnesses the destruction of his race and must now do his best to stop Frieza\\'s impending massacre.\", \\'\\\\n\\', \\'\\\\n\\', \\'\\\\n\\', \\'\\\\r\\\\n(Source: ANN)\\']', '', 0.9670745372626464), (9451, 'Dragon Ball Super: Broly', '[\"Forty-one years ago on Planet Vegeta, home of the infamous Saiyan warrior race, King Vegeta noticed a baby named Broly whose latent power exceeded that of his own son. Believing that Broly\\'s power would one day surpass that of his child, Vegeta, the king sends Broly to the desolate planet Vampa. Broly\\'s father Paragus follows after him, intent on rescuing his son. However, his ship gets damaged, causing the two to spend years trapped on the barren world, unaware of the salvation that would one day come from an unlikely ally.\", \\'\\\\n\\', \\'\\\\n\\', \\'\\\\n\\', \\'\\\\r\\\\nYears later on Earth, Gokuu Son and Prince Vegeta—believed to be the last survivors of the Saiyan race—are busy training on a remote island. But their sparring is interrupted when the appearance of their old enemy Frieza drives them to search for the last of the wish-granting Dragon Balls on a frozen continent. Once there, Frieza shows off his new allies: Paragus and the now extremely powerful Broly. A legendary battle that shakes the foundation of the world ensues as Gokuu and Vegeta face off against Broly, a warrior without equal whose rage is just waiting to be unleashed.\\', \\'\\\\n\\', \\'\\\\n\\', \\'\\\\n\\', \\'\\\\r\\\\n[Written by MAL Rewrite]\\']', '', 0.9486832980505137), (8854, 'Dragon Ball Z', '[\"Five years after winning the World Martial Arts tournament, Gokuu is now living a peaceful life with his wife and son. This changes, however, with the arrival of a mysterious enemy named Raditz who presents himself as Gokuu\\'s long-lost brother. He reveals that Gokuu is a warrior from the once powerful but now virtually extinct Saiyan race, whose homeworld was completely annihilated. When he was sent to Earth as a baby, Gokuu\\'s sole purpose was to conquer and destroy the planet; but after suffering amnesia from a head injury, his violent and savage nature changed, and instead was raised as a kind and well-mannered boy, now fighting to protect others.\", \\'\\\\n\\', \\'\\\\n\\', \\'\\\\n\\', \"\\\\r\\\\nWith his failed attempt at forcibly recruiting Gokuu as an ally, Raditz warns Gokuu\\'s friends of a new threat that\\'s rapidly approaching Earth—one that could plunge Earth into an intergalactic conflict and cause the heavens themselves to shake. A war will be fought over the seven mystical dragon balls, and only the strongest will survive in \", <i>Dragon Ball Z</i>, \\'.\\', \\'\\\\n\\', \\'\\\\n\\', \\'\\\\n\\', \\'\\\\r\\\\n[Written by MAL Rewrite]\\']', '', 0.9486832980505137), (14816, 'Dragon Ball Kai', '[\"Five years after the events of Dragon Ball, martial arts expert Gokuu is now a grown man married to his wife Chi-Chi, with a four-year old son named Gohan. While attending a reunion on Turtle Island with his old friends Master Roshi, Krillin, Bulma and others, the festivities are interrupted when a humanoid alien named Raditz not only reveals the truth behind Gokuu\\'s past, but kidnaps Gohan as well.\", \\'\\\\n\\', \\'\\\\n\\', \\'\\\\n\\', \\'\\\\r\\\\nWith Raditz displaying power beyond anything Gokuu has seen before, he is forced to team up with his old nemesis, Piccolo, in order to rescue his son. But when Gokuu and Piccolo reveal the secret of the seven mystical wish-granting Dragon Balls to Raditz, he informs the duo that there is more of his race, the Saiyans, and they won’t pass up an opportunity to seize the power of the Dragon Balls for themselves.\\', \\'\\\\n\\', \\'\\\\n\\', \\'\\\\n\\', \\'\\\\r\\\\nThese events begin the saga of \\', <i>Dragon Ball Kai</i>, \\', a story that finds Gokuu and his friends and family constantly defending the galaxy from increasingly more powerful threats. Bizarre, comical, heartwarming and threatening characters come together in a series of battles that push the powers and abilities of Gokuu and his friends beyond anything they have ever experienced.\\']', '', 0.9486832980505137), (16438, 'PistStar', '[\"The Nagoya Keirin Golden Dolphin Competition is a bicycle race—specifically a Japanese style track cycling event held in a velodrome—and this year\\'s 62nd annual competition will be supporting areas affected by the 2011 earthquake. An anime clip was created as part of a promotional campaign.\"]', '', 0.7071067811865476), (16950, 'Mukashi Keibanashi', \"['A fairytale and folklore parody anime focused on race horses. They take classic stories (like Momotarou or Cinderella) and put them in  race horse situations with the narrator voicing the action in typical fast-paced sports commentary. The anime is funded and promoted by the Japan Racing Association (JRA).']\", '', 0.7071067811865476)]\n",
      "[(1300, 'Dragon Ball Z Special 1: Tatta Hitori no Saishuu Kessen', '[\"Bardock, Son Goku\\'s father, is a low-ranking Saiyan soldier who was given the power to see into the future by the last remaining alien on a planet he just destroyed. He witnesses the destruction of his race and must now do his best to stop Frieza\\'s impending massacre.\", \\'\\\\n\\', \\'\\\\n\\', \\'\\\\n\\', \\'\\\\r\\\\n(Source: ANN)\\']', '', 0.9670745372626464), (9451, 'Dragon Ball Super: Broly', '[\"Forty-one years ago on Planet Vegeta, home of the infamous Saiyan warrior race, King Vegeta noticed a baby named Broly whose latent power exceeded that of his own son. Believing that Broly\\'s power would one day surpass that of his child, Vegeta, the king sends Broly to the desolate planet Vampa. Broly\\'s father Paragus follows after him, intent on rescuing his son. However, his ship gets damaged, causing the two to spend years trapped on the barren world, unaware of the salvation that would one day come from an unlikely ally.\", \\'\\\\n\\', \\'\\\\n\\', \\'\\\\n\\', \\'\\\\r\\\\nYears later on Earth, Gokuu Son and Prince Vegeta—believed to be the last survivors of the Saiyan race—are busy training on a remote island. But their sparring is interrupted when the appearance of their old enemy Frieza drives them to search for the last of the wish-granting Dragon Balls on a frozen continent. Once there, Frieza shows off his new allies: Paragus and the now extremely powerful Broly. A legendary battle that shakes the foundation of the world ensues as Gokuu and Vegeta face off against Broly, a warrior without equal whose rage is just waiting to be unleashed.\\', \\'\\\\n\\', \\'\\\\n\\', \\'\\\\n\\', \\'\\\\r\\\\n[Written by MAL Rewrite]\\']', '', 0.9486832980505137), (8854, 'Dragon Ball Z', '[\"Five years after winning the World Martial Arts tournament, Gokuu is now living a peaceful life with his wife and son. This changes, however, with the arrival of a mysterious enemy named Raditz who presents himself as Gokuu\\'s long-lost brother. He reveals that Gokuu is a warrior from the once powerful but now virtually extinct Saiyan race, whose homeworld was completely annihilated. When he was sent to Earth as a baby, Gokuu\\'s sole purpose was to conquer and destroy the planet; but after suffering amnesia from a head injury, his violent and savage nature changed, and instead was raised as a kind and well-mannered boy, now fighting to protect others.\", \\'\\\\n\\', \\'\\\\n\\', \\'\\\\n\\', \"\\\\r\\\\nWith his failed attempt at forcibly recruiting Gokuu as an ally, Raditz warns Gokuu\\'s friends of a new threat that\\'s rapidly approaching Earth—one that could plunge Earth into an intergalactic conflict and cause the heavens themselves to shake. A war will be fought over the seven mystical dragon balls, and only the strongest will survive in \", <i>Dragon Ball Z</i>, \\'.\\', \\'\\\\n\\', \\'\\\\n\\', \\'\\\\n\\', \\'\\\\r\\\\n[Written by MAL Rewrite]\\']', '', 0.9486832980505137), (14816, 'Dragon Ball Kai', '[\"Five years after the events of Dragon Ball, martial arts expert Gokuu is now a grown man married to his wife Chi-Chi, with a four-year old son named Gohan. While attending a reunion on Turtle Island with his old friends Master Roshi, Krillin, Bulma and others, the festivities are interrupted when a humanoid alien named Raditz not only reveals the truth behind Gokuu\\'s past, but kidnaps Gohan as well.\", \\'\\\\n\\', \\'\\\\n\\', \\'\\\\n\\', \\'\\\\r\\\\nWith Raditz displaying power beyond anything Gokuu has seen before, he is forced to team up with his old nemesis, Piccolo, in order to rescue his son. But when Gokuu and Piccolo reveal the secret of the seven mystical wish-granting Dragon Balls to Raditz, he informs the duo that there is more of his race, the Saiyans, and they won’t pass up an opportunity to seize the power of the Dragon Balls for themselves.\\', \\'\\\\n\\', \\'\\\\n\\', \\'\\\\n\\', \\'\\\\r\\\\nThese events begin the saga of \\', <i>Dragon Ball Kai</i>, \\', a story that finds Gokuu and his friends and family constantly defending the galaxy from increasingly more powerful threats. Bizarre, comical, heartwarming and threatening characters come together in a series of battles that push the powers and abilities of Gokuu and his friends beyond anything they have ever experienced.\\']', '', 0.9486832980505137), (16438, 'PistStar', '[\"The Nagoya Keirin Golden Dolphin Competition is a bicycle race—specifically a Japanese style track cycling event held in a velodrome—and this year\\'s 62nd annual competition will be supporting areas affected by the 2011 earthquake. An anime clip was created as part of a promotional campaign.\"]', '', 0.7071067811865476), (16950, 'Mukashi Keibanashi', \"['A fairytale and folklore parody anime focused on race horses. They take classic stories (like Momotarou or Cinderella) and put them in  race horse situations with the narrator voicing the action in typical fast-paced sports commentary. The anime is funded and promoted by the Japan Racing Association (JRA).']\", '', 0.7071067811865476), (16719, 'Soujuu Senshi Psychic Wars', '[\\'Ukyo Rettsu, a surgeon, treats a mysterous old woman for a mysterious \"cancer.\" The growth turns out to be a messenger from the ancient past of Japan heralding a demonic invasion of the Earth. Ukyo must go back in time and fight the race of ancient demons. \\', \\'\\\\n\\', \\'\\\\n\\', \\'\\\\n\\', \\'\\\\r\\\\r\\\\n(Source: AniDB)\\']', '', 0.7071067811865476)]\n",
      "[(1300, 'Dragon Ball Z Special 1: Tatta Hitori no Saishuu Kessen', '[\"Bardock, Son Goku\\'s father, is a low-ranking Saiyan soldier who was given the power to see into the future by the last remaining alien on a planet he just destroyed. He witnesses the destruction of his race and must now do his best to stop Frieza\\'s impending massacre.\", \\'\\\\n\\', \\'\\\\n\\', \\'\\\\n\\', \\'\\\\r\\\\n(Source: ANN)\\']', '', 0.9670745372626464), (9451, 'Dragon Ball Super: Broly', '[\"Forty-one years ago on Planet Vegeta, home of the infamous Saiyan warrior race, King Vegeta noticed a baby named Broly whose latent power exceeded that of his own son. Believing that Broly\\'s power would one day surpass that of his child, Vegeta, the king sends Broly to the desolate planet Vampa. Broly\\'s father Paragus follows after him, intent on rescuing his son. However, his ship gets damaged, causing the two to spend years trapped on the barren world, unaware of the salvation that would one day come from an unlikely ally.\", \\'\\\\n\\', \\'\\\\n\\', \\'\\\\n\\', \\'\\\\r\\\\nYears later on Earth, Gokuu Son and Prince Vegeta—believed to be the last survivors of the Saiyan race—are busy training on a remote island. But their sparring is interrupted when the appearance of their old enemy Frieza drives them to search for the last of the wish-granting Dragon Balls on a frozen continent. Once there, Frieza shows off his new allies: Paragus and the now extremely powerful Broly. A legendary battle that shakes the foundation of the world ensues as Gokuu and Vegeta face off against Broly, a warrior without equal whose rage is just waiting to be unleashed.\\', \\'\\\\n\\', \\'\\\\n\\', \\'\\\\n\\', \\'\\\\r\\\\n[Written by MAL Rewrite]\\']', '', 0.9486832980505137), (8854, 'Dragon Ball Z', '[\"Five years after winning the World Martial Arts tournament, Gokuu is now living a peaceful life with his wife and son. This changes, however, with the arrival of a mysterious enemy named Raditz who presents himself as Gokuu\\'s long-lost brother. He reveals that Gokuu is a warrior from the once powerful but now virtually extinct Saiyan race, whose homeworld was completely annihilated. When he was sent to Earth as a baby, Gokuu\\'s sole purpose was to conquer and destroy the planet; but after suffering amnesia from a head injury, his violent and savage nature changed, and instead was raised as a kind and well-mannered boy, now fighting to protect others.\", \\'\\\\n\\', \\'\\\\n\\', \\'\\\\n\\', \"\\\\r\\\\nWith his failed attempt at forcibly recruiting Gokuu as an ally, Raditz warns Gokuu\\'s friends of a new threat that\\'s rapidly approaching Earth—one that could plunge Earth into an intergalactic conflict and cause the heavens themselves to shake. A war will be fought over the seven mystical dragon balls, and only the strongest will survive in \", <i>Dragon Ball Z</i>, \\'.\\', \\'\\\\n\\', \\'\\\\n\\', \\'\\\\n\\', \\'\\\\r\\\\n[Written by MAL Rewrite]\\']', '', 0.9486832980505137), (14816, 'Dragon Ball Kai', '[\"Five years after the events of Dragon Ball, martial arts expert Gokuu is now a grown man married to his wife Chi-Chi, with a four-year old son named Gohan. While attending a reunion on Turtle Island with his old friends Master Roshi, Krillin, Bulma and others, the festivities are interrupted when a humanoid alien named Raditz not only reveals the truth behind Gokuu\\'s past, but kidnaps Gohan as well.\", \\'\\\\n\\', \\'\\\\n\\', \\'\\\\n\\', \\'\\\\r\\\\nWith Raditz displaying power beyond anything Gokuu has seen before, he is forced to team up with his old nemesis, Piccolo, in order to rescue his son. But when Gokuu and Piccolo reveal the secret of the seven mystical wish-granting Dragon Balls to Raditz, he informs the duo that there is more of his race, the Saiyans, and they won’t pass up an opportunity to seize the power of the Dragon Balls for themselves.\\', \\'\\\\n\\', \\'\\\\n\\', \\'\\\\n\\', \\'\\\\r\\\\nThese events begin the saga of \\', <i>Dragon Ball Kai</i>, \\', a story that finds Gokuu and his friends and family constantly defending the galaxy from increasingly more powerful threats. Bizarre, comical, heartwarming and threatening characters come together in a series of battles that push the powers and abilities of Gokuu and his friends beyond anything they have ever experienced.\\']', '', 0.9486832980505137), (16438, 'PistStar', '[\"The Nagoya Keirin Golden Dolphin Competition is a bicycle race—specifically a Japanese style track cycling event held in a velodrome—and this year\\'s 62nd annual competition will be supporting areas affected by the 2011 earthquake. An anime clip was created as part of a promotional campaign.\"]', '', 0.7071067811865476), (16950, 'Mukashi Keibanashi', \"['A fairytale and folklore parody anime focused on race horses. They take classic stories (like Momotarou or Cinderella) and put them in  race horse situations with the narrator voicing the action in typical fast-paced sports commentary. The anime is funded and promoted by the Japan Racing Association (JRA).']\", '', 0.7071067811865476), (16719, 'Soujuu Senshi Psychic Wars', '[\\'Ukyo Rettsu, a surgeon, treats a mysterous old woman for a mysterious \"cancer.\" The growth turns out to be a messenger from the ancient past of Japan heralding a demonic invasion of the Earth. Ukyo must go back in time and fight the race of ancient demons. \\', \\'\\\\n\\', \\'\\\\n\\', \\'\\\\n\\', \\'\\\\r\\\\r\\\\n(Source: AniDB)\\']', '', 0.7071067811865476), (18194, 'Shiden Pilot', '[\\'Described as a \"modern car racing anime for tween and teen audiences.\" Though intended to be a television series, several problems led to the project\\\\\\'s cancellation after the creation of a 30-minute pilot. The single episode was presented at the 2004 Tokyo Anime Fair.\\', \\'\\\\n\\', \\'\\\\n\\', \\'\\\\n\\', \\'\\\\r\\\\r\\\\n(Source: ANN)\\']', '', 0.7071067811865476)]\n",
      "[(1300, 'Dragon Ball Z Special 1: Tatta Hitori no Saishuu Kessen', '[\"Bardock, Son Goku\\'s father, is a low-ranking Saiyan soldier who was given the power to see into the future by the last remaining alien on a planet he just destroyed. He witnesses the destruction of his race and must now do his best to stop Frieza\\'s impending massacre.\", \\'\\\\n\\', \\'\\\\n\\', \\'\\\\n\\', \\'\\\\r\\\\n(Source: ANN)\\']', '', 0.9670745372626464), (9451, 'Dragon Ball Super: Broly', '[\"Forty-one years ago on Planet Vegeta, home of the infamous Saiyan warrior race, King Vegeta noticed a baby named Broly whose latent power exceeded that of his own son. Believing that Broly\\'s power would one day surpass that of his child, Vegeta, the king sends Broly to the desolate planet Vampa. Broly\\'s father Paragus follows after him, intent on rescuing his son. However, his ship gets damaged, causing the two to spend years trapped on the barren world, unaware of the salvation that would one day come from an unlikely ally.\", \\'\\\\n\\', \\'\\\\n\\', \\'\\\\n\\', \\'\\\\r\\\\nYears later on Earth, Gokuu Son and Prince Vegeta—believed to be the last survivors of the Saiyan race—are busy training on a remote island. But their sparring is interrupted when the appearance of their old enemy Frieza drives them to search for the last of the wish-granting Dragon Balls on a frozen continent. Once there, Frieza shows off his new allies: Paragus and the now extremely powerful Broly. A legendary battle that shakes the foundation of the world ensues as Gokuu and Vegeta face off against Broly, a warrior without equal whose rage is just waiting to be unleashed.\\', \\'\\\\n\\', \\'\\\\n\\', \\'\\\\n\\', \\'\\\\r\\\\n[Written by MAL Rewrite]\\']', '', 0.9486832980505137), (8854, 'Dragon Ball Z', '[\"Five years after winning the World Martial Arts tournament, Gokuu is now living a peaceful life with his wife and son. This changes, however, with the arrival of a mysterious enemy named Raditz who presents himself as Gokuu\\'s long-lost brother. He reveals that Gokuu is a warrior from the once powerful but now virtually extinct Saiyan race, whose homeworld was completely annihilated. When he was sent to Earth as a baby, Gokuu\\'s sole purpose was to conquer and destroy the planet; but after suffering amnesia from a head injury, his violent and savage nature changed, and instead was raised as a kind and well-mannered boy, now fighting to protect others.\", \\'\\\\n\\', \\'\\\\n\\', \\'\\\\n\\', \"\\\\r\\\\nWith his failed attempt at forcibly recruiting Gokuu as an ally, Raditz warns Gokuu\\'s friends of a new threat that\\'s rapidly approaching Earth—one that could plunge Earth into an intergalactic conflict and cause the heavens themselves to shake. A war will be fought over the seven mystical dragon balls, and only the strongest will survive in \", <i>Dragon Ball Z</i>, \\'.\\', \\'\\\\n\\', \\'\\\\n\\', \\'\\\\n\\', \\'\\\\r\\\\n[Written by MAL Rewrite]\\']', '', 0.9486832980505137), (14816, 'Dragon Ball Kai', '[\"Five years after the events of Dragon Ball, martial arts expert Gokuu is now a grown man married to his wife Chi-Chi, with a four-year old son named Gohan. While attending a reunion on Turtle Island with his old friends Master Roshi, Krillin, Bulma and others, the festivities are interrupted when a humanoid alien named Raditz not only reveals the truth behind Gokuu\\'s past, but kidnaps Gohan as well.\", \\'\\\\n\\', \\'\\\\n\\', \\'\\\\n\\', \\'\\\\r\\\\nWith Raditz displaying power beyond anything Gokuu has seen before, he is forced to team up with his old nemesis, Piccolo, in order to rescue his son. But when Gokuu and Piccolo reveal the secret of the seven mystical wish-granting Dragon Balls to Raditz, he informs the duo that there is more of his race, the Saiyans, and they won’t pass up an opportunity to seize the power of the Dragon Balls for themselves.\\', \\'\\\\n\\', \\'\\\\n\\', \\'\\\\n\\', \\'\\\\r\\\\nThese events begin the saga of \\', <i>Dragon Ball Kai</i>, \\', a story that finds Gokuu and his friends and family constantly defending the galaxy from increasingly more powerful threats. Bizarre, comical, heartwarming and threatening characters come together in a series of battles that push the powers and abilities of Gokuu and his friends beyond anything they have ever experienced.\\']', '', 0.9486832980505137), (16438, 'PistStar', '[\"The Nagoya Keirin Golden Dolphin Competition is a bicycle race—specifically a Japanese style track cycling event held in a velodrome—and this year\\'s 62nd annual competition will be supporting areas affected by the 2011 earthquake. An anime clip was created as part of a promotional campaign.\"]', '', 0.7071067811865476), (16950, 'Mukashi Keibanashi', \"['A fairytale and folklore parody anime focused on race horses. They take classic stories (like Momotarou or Cinderella) and put them in  race horse situations with the narrator voicing the action in typical fast-paced sports commentary. The anime is funded and promoted by the Japan Racing Association (JRA).']\", '', 0.7071067811865476), (16719, 'Soujuu Senshi Psychic Wars', '[\\'Ukyo Rettsu, a surgeon, treats a mysterous old woman for a mysterious \"cancer.\" The growth turns out to be a messenger from the ancient past of Japan heralding a demonic invasion of the Earth. Ukyo must go back in time and fight the race of ancient demons. \\', \\'\\\\n\\', \\'\\\\n\\', \\'\\\\n\\', \\'\\\\r\\\\r\\\\n(Source: AniDB)\\']', '', 0.7071067811865476), (18194, 'Shiden Pilot', '[\\'Described as a \"modern car racing anime for tween and teen audiences.\" Though intended to be a television series, several problems led to the project\\\\\\'s cancellation after the creation of a 30-minute pilot. The single episode was presented at the 2004 Tokyo Anime Fair.\\', \\'\\\\n\\', \\'\\\\n\\', \\'\\\\n\\', \\'\\\\r\\\\r\\\\n(Source: ANN)\\']', '', 0.7071067811865476), (17702, 'Pororo Geugjangpan Super Sseolmae Daemoheom', '[\"Pororo and the gang entry a sleigh racing contest after getting guidance under a \\'champion\\'. Turns out the champion was a liar and now the gang has to fight tooth and nail to win first place in order to keep their pride after talking big.\"]', '', 0.7071067811865476)]\n",
      "[(1300, 'Dragon Ball Z Special 1: Tatta Hitori no Saishuu Kessen', '[\"Bardock, Son Goku\\'s father, is a low-ranking Saiyan soldier who was given the power to see into the future by the last remaining alien on a planet he just destroyed. He witnesses the destruction of his race and must now do his best to stop Frieza\\'s impending massacre.\", \\'\\\\n\\', \\'\\\\n\\', \\'\\\\n\\', \\'\\\\r\\\\n(Source: ANN)\\']', '', 0.9670745372626464), (9451, 'Dragon Ball Super: Broly', '[\"Forty-one years ago on Planet Vegeta, home of the infamous Saiyan warrior race, King Vegeta noticed a baby named Broly whose latent power exceeded that of his own son. Believing that Broly\\'s power would one day surpass that of his child, Vegeta, the king sends Broly to the desolate planet Vampa. Broly\\'s father Paragus follows after him, intent on rescuing his son. However, his ship gets damaged, causing the two to spend years trapped on the barren world, unaware of the salvation that would one day come from an unlikely ally.\", \\'\\\\n\\', \\'\\\\n\\', \\'\\\\n\\', \\'\\\\r\\\\nYears later on Earth, Gokuu Son and Prince Vegeta—believed to be the last survivors of the Saiyan race—are busy training on a remote island. But their sparring is interrupted when the appearance of their old enemy Frieza drives them to search for the last of the wish-granting Dragon Balls on a frozen continent. Once there, Frieza shows off his new allies: Paragus and the now extremely powerful Broly. A legendary battle that shakes the foundation of the world ensues as Gokuu and Vegeta face off against Broly, a warrior without equal whose rage is just waiting to be unleashed.\\', \\'\\\\n\\', \\'\\\\n\\', \\'\\\\n\\', \\'\\\\r\\\\n[Written by MAL Rewrite]\\']', '', 0.9486832980505137), (8854, 'Dragon Ball Z', '[\"Five years after winning the World Martial Arts tournament, Gokuu is now living a peaceful life with his wife and son. This changes, however, with the arrival of a mysterious enemy named Raditz who presents himself as Gokuu\\'s long-lost brother. He reveals that Gokuu is a warrior from the once powerful but now virtually extinct Saiyan race, whose homeworld was completely annihilated. When he was sent to Earth as a baby, Gokuu\\'s sole purpose was to conquer and destroy the planet; but after suffering amnesia from a head injury, his violent and savage nature changed, and instead was raised as a kind and well-mannered boy, now fighting to protect others.\", \\'\\\\n\\', \\'\\\\n\\', \\'\\\\n\\', \"\\\\r\\\\nWith his failed attempt at forcibly recruiting Gokuu as an ally, Raditz warns Gokuu\\'s friends of a new threat that\\'s rapidly approaching Earth—one that could plunge Earth into an intergalactic conflict and cause the heavens themselves to shake. A war will be fought over the seven mystical dragon balls, and only the strongest will survive in \", <i>Dragon Ball Z</i>, \\'.\\', \\'\\\\n\\', \\'\\\\n\\', \\'\\\\n\\', \\'\\\\r\\\\n[Written by MAL Rewrite]\\']', '', 0.9486832980505137), (14816, 'Dragon Ball Kai', '[\"Five years after the events of Dragon Ball, martial arts expert Gokuu is now a grown man married to his wife Chi-Chi, with a four-year old son named Gohan. While attending a reunion on Turtle Island with his old friends Master Roshi, Krillin, Bulma and others, the festivities are interrupted when a humanoid alien named Raditz not only reveals the truth behind Gokuu\\'s past, but kidnaps Gohan as well.\", \\'\\\\n\\', \\'\\\\n\\', \\'\\\\n\\', \\'\\\\r\\\\nWith Raditz displaying power beyond anything Gokuu has seen before, he is forced to team up with his old nemesis, Piccolo, in order to rescue his son. But when Gokuu and Piccolo reveal the secret of the seven mystical wish-granting Dragon Balls to Raditz, he informs the duo that there is more of his race, the Saiyans, and they won’t pass up an opportunity to seize the power of the Dragon Balls for themselves.\\', \\'\\\\n\\', \\'\\\\n\\', \\'\\\\n\\', \\'\\\\r\\\\nThese events begin the saga of \\', <i>Dragon Ball Kai</i>, \\', a story that finds Gokuu and his friends and family constantly defending the galaxy from increasingly more powerful threats. Bizarre, comical, heartwarming and threatening characters come together in a series of battles that push the powers and abilities of Gokuu and his friends beyond anything they have ever experienced.\\']', '', 0.9486832980505137), (16438, 'PistStar', '[\"The Nagoya Keirin Golden Dolphin Competition is a bicycle race—specifically a Japanese style track cycling event held in a velodrome—and this year\\'s 62nd annual competition will be supporting areas affected by the 2011 earthquake. An anime clip was created as part of a promotional campaign.\"]', '', 0.7071067811865476), (16950, 'Mukashi Keibanashi', \"['A fairytale and folklore parody anime focused on race horses. They take classic stories (like Momotarou or Cinderella) and put them in  race horse situations with the narrator voicing the action in typical fast-paced sports commentary. The anime is funded and promoted by the Japan Racing Association (JRA).']\", '', 0.7071067811865476), (16719, 'Soujuu Senshi Psychic Wars', '[\\'Ukyo Rettsu, a surgeon, treats a mysterous old woman for a mysterious \"cancer.\" The growth turns out to be a messenger from the ancient past of Japan heralding a demonic invasion of the Earth. Ukyo must go back in time and fight the race of ancient demons. \\', \\'\\\\n\\', \\'\\\\n\\', \\'\\\\n\\', \\'\\\\r\\\\r\\\\n(Source: AniDB)\\']', '', 0.7071067811865476), (18194, 'Shiden Pilot', '[\\'Described as a \"modern car racing anime for tween and teen audiences.\" Though intended to be a television series, several problems led to the project\\\\\\'s cancellation after the creation of a 30-minute pilot. The single episode was presented at the 2004 Tokyo Anime Fair.\\', \\'\\\\n\\', \\'\\\\n\\', \\'\\\\n\\', \\'\\\\r\\\\r\\\\n(Source: ANN)\\']', '', 0.7071067811865476), (17702, 'Pororo Geugjangpan Super Sseolmae Daemoheom', '[\"Pororo and the gang entry a sleigh racing contest after getting guidance under a \\'champion\\'. Turns out the champion was a liar and now the gang has to fight tooth and nail to win first place in order to keep their pride after talking big.\"]', '', 0.7071067811865476), (18376, 'Midori no Makibao', \"['Midori Makibao is a small white racehorse. Compared to other thoroughbred horses, he looks more like a donkey with wide nostrils; however, with his guts and speed as his weapon, Makibao wins in every big race.', '\\\\n', '\\\\n', '\\\\n', '\\\\r\\\\nIn the beginning of his career, Makibao had a trouble making his debut as a racehorse, because of his appearance and various disadvantages he had. But Makibao had reasons to overcome his difficulties; there was a lifelong rival horse called Superhorse Cascade, that Makibao needed to defeat. Plus, he was determined to win back his mother, a horse that had been taken away for pay back the debt on the farm.', '\\\\n', '\\\\n', '\\\\n', '\\\\r\\\\nThere are many hardships that Makibao has to overcome, but he thrives in the series of races to become a great racehorse.', '\\\\n', '\\\\n', '\\\\n', '\\\\r\\\\n(Source: pierrot.jp)']\", '', 0.7071067811865476)]\n"
     ]
    }
   ],
   "source": [
    "scoreHeap.sort(key=lambda x:x[1], reverse=True)\n",
    "out = []\n",
    "for x in range(10):\n",
    "    id = scoreHeap[x][0]\n",
    "    title = dataset['Title'][id]\n",
    "    des = dataset['Description'][id]\n",
    "    url = \"\"\n",
    "    cosine = scoreHeap[x][1]\n",
    "    out.append((id,title,des,url,cosine))\n",
    "    print(out)"
   ]
  },
  {
   "cell_type": "markdown",
   "metadata": {},
   "source": [
    "# Task 3. Define a new score!\n",
    "### What kind of a score we are defining? Let's answer this question.\n",
    "To make a score, we need some kind of an information. Because we are taking a query as an input, we can ask people who are writing the query to give some additional information. As a person who watches anime a lot, I know some people might be too specific with their query: some like longer animes (>100 episodes), some like specific producers' works, some of them even watch the anime only because of the seiyuu (voice actor). But most of the people don't care about stuff like that, so we need to have an option to skip some questions in the query. \n",
    "\n",
    "Let's with adding a new column for our newly defined score:"
   ]
  },
  {
   "cell_type": "code",
   "execution_count": null,
   "metadata": {},
   "outputs": [],
   "source": [
    "df = functions.retriveTSV(trfile)\n",
    "df.head()"
   ]
  },
  {
   "cell_type": "code",
   "execution_count": null,
   "metadata": {},
   "outputs": [],
   "source": [
    "score = np.zeros(len(df))\n",
    "df['NewScore'] = score\n",
    "df.head()"
   ]
  },
  {
   "cell_type": "markdown",
   "metadata": {},
   "source": [
    "### The function below asks the requester to give their query. It contains:\n",
    "- text query\n",
    "- type of an anime\n",
    "- preferred number of episodes\n",
    "- how old the anime should be\n",
    "- popularity of the anime\n",
    "- how many related works it has\n",
    "- preferred voice actors\n",
    "- preferred staff members\n",
    "\n",
    "Every question might be skipped if the requester has no preference. <br />\n",
    "This function is define in function.py"
   ]
  },
  {
   "cell_type": "markdown",
   "metadata": {},
   "source": [
    "### The function _new_score_ takes the dataframe and the query inputs to calculate the new score.\n",
    "The algorithm is pretty simple. It takes the best matches by the query and gives them some kind of a score. After summing the score of each part, we return the updated copy of our dataframe.<br />\n",
    "This function is define in function.py"
   ]
  },
  {
   "cell_type": "code",
   "execution_count": null,
   "metadata": {},
   "outputs": [],
   "source": [
    "Q, Type, NumOfEpisodes, AgeOfAnime, Popularity, NumOfRelated, Voices, Staff = query_details()\n",
    "\n",
    "    #***********************************************************#\n",
    "    #    d = full dataset                                       #\n",
    "    #    d1 = query subsection                                  #\n",
    "    #    Type = ['TV', 'Movie', 'Special']                      #\n",
    "    #    NumOfEpisodes = n/Episodes                             #\n",
    "    #    AgeOfAnime = ['new', 'old', 'moderate']                #\n",
    "    #    Popularity = ['popular', 'moderate', 'not popular']    #\n",
    "    #    NumOfRelated = ['single', 'few seasons', 'many parts'] #\n",
    "    #    Voices = [Surname, Name]                               #\n",
    "    #    Staff = [Surname, Name]                                #\n",
    "    #***********************************************************#\n",
    "    \n",
    "# Getting a subset of the dataframe by searching the animes that satisfy the query\n",
    "query = search_engine(Q)\n",
    "q_df = df.iloc[query].copy()\n",
    "q_df.head()"
   ]
  },
  {
   "cell_type": "markdown",
   "metadata": {},
   "source": [
    "## The results of Task 3\n",
    "The result is the dataframe sorted by the newly defined score. The score means the closest match to the query, the anime that the person should watch the most by his query. Or the person was just searching the specific anime that he forget the name of. Anyway, here is the result:"
   ]
  },
  {
   "cell_type": "code",
   "execution_count": null,
   "metadata": {},
   "outputs": [],
   "source": [
    "new_df = functions.new_score(df, q_df, Type, NumOfEpisodes, AgeOfAnime, Popularity, NumOfRelated, Voices, Staff).sort_values('NewScore', ascending=False)\n",
    "new_df.sort_values('NewScore', ascending=False)"
   ]
  },
  {
   "cell_type": "markdown",
   "metadata": {},
   "source": [
    "## 4 Understanding the anime's reviews"
   ]
  },
  {
   "cell_type": "markdown",
   "metadata": {},
   "source": [
    "In a first time we will retrive the first 4 reviews (We don't do on 5 first as ask as the html file contains only the 4 first) and execute a sentiment analysis on these review for this we use the prebuild model in nltk library.<br />\n",
    "the review will be score by the compound who is an agregation of the score between -1 and 1 (1 is the max value -1 is the min)"
   ]
  },
  {
   "cell_type": "code",
   "execution_count": null,
   "metadata": {},
   "outputs": [],
   "source": [
    "sia = SentimentIntensityAnalyzer()\n",
    "df = functions.retriveTSV(trfile)\n",
    "popularity_Review_Based = list()\n",
    "alarr = functions.getHTML(folder)\n",
    "for fiName in range(len(alarr)):\n",
    "    # anime titles\n",
    "    path = folder+'/'+alarr[fiName]\n",
    "    #print(path)\n",
    "    file = codecs.open(path, \"r\", \"utf-8\")\n",
    "    soup = BeautifulSoup(file, 'html.parser')    \n",
    "    # left sied of the html------------------------------------------------------------\n",
    "    divs = soup.find_all(\"div\", {\"class\": \"spaceit textReadability word-break pt8 mt8\"})\n",
    "    st = \"\"\n",
    "    for i in divs:\n",
    "        st += i.contents[2][:500]\n",
    "    if st == \"\":\n",
    "        popularity_Review_Based.append(-2)\n",
    "    else:\n",
    "        popularity_Review_Based.append(sia.polarity_scores(st)[\"compound\"])\n",
    "df.insert(0,'popularityReviewBased', popularity_Review_Based)"
   ]
  },
  {
   "cell_type": "markdown",
   "metadata": {},
   "source": [
    "In a segond time we will select the row who contains the best score and display it"
   ]
  },
  {
   "cell_type": "code",
   "execution_count": null,
   "metadata": {},
   "outputs": [
    {
     "data": {
      "text/plain": [
       "16778    Ganbarist! Shun\n",
       "Name: Title, dtype: object"
      ]
     },
     "execution_count": 26,
     "metadata": {},
     "output_type": "execute_result"
    }
   ],
   "source": [
    "df[df['popularityReviewBased'].max() == df['popularityReviewBased']].head()"
   ]
  },
  {
   "cell_type": "markdown",
   "metadata": {},
   "source": [
    "In the following part of the code we try to determine if there is an correlation between the number of episod and the sentiment analysis. For doing that we will in the first time remove all the data who have not more than 1 episod (this would indcated movie) and all the anime who don't have review.<br />\n",
    "In a segond time we will perform a linear regretion on one part of the data (trainingSet) for trying to see if there is a link and will compare "
   ]
  },
  {
   "cell_type": "code",
   "execution_count": null,
   "metadata": {},
   "outputs": [
    {
     "data": {
      "text/html": [
       "<div>\n",
       "<style scoped>\n",
       "    .dataframe tbody tr th:only-of-type {\n",
       "        vertical-align: middle;\n",
       "    }\n",
       "\n",
       "    .dataframe tbody tr th {\n",
       "        vertical-align: top;\n",
       "    }\n",
       "\n",
       "    .dataframe thead th {\n",
       "        text-align: right;\n",
       "    }\n",
       "</style>\n",
       "<table border=\"1\" class=\"dataframe\">\n",
       "  <thead>\n",
       "    <tr style=\"text-align: right;\">\n",
       "      <th></th>\n",
       "      <th>popularityReviewBased</th>\n",
       "      <th>Episodes</th>\n",
       "    </tr>\n",
       "  </thead>\n",
       "  <tbody>\n",
       "    <tr>\n",
       "      <th>0</th>\n",
       "      <td>0.9892</td>\n",
       "      <td>64</td>\n",
       "    </tr>\n",
       "    <tr>\n",
       "      <th>2</th>\n",
       "      <td>0.9859</td>\n",
       "      <td>12</td>\n",
       "    </tr>\n",
       "    <tr>\n",
       "      <th>3</th>\n",
       "      <td>0.9833</td>\n",
       "      <td>22</td>\n",
       "    </tr>\n",
       "    <tr>\n",
       "      <th>5</th>\n",
       "      <td>0.9312</td>\n",
       "      <td>24</td>\n",
       "    </tr>\n",
       "    <tr>\n",
       "      <th>6</th>\n",
       "      <td>0.9662</td>\n",
       "      <td>201</td>\n",
       "    </tr>\n",
       "  </tbody>\n",
       "</table>\n",
       "</div>"
      ],
      "text/plain": [
       "   popularityReviewBased  Episodes\n",
       "0                 0.9892        64\n",
       "2                 0.9859        12\n",
       "3                 0.9833        22\n",
       "5                 0.9312        24\n",
       "6                 0.9662       201"
      ]
     },
     "execution_count": 77,
     "metadata": {},
     "output_type": "execute_result"
    }
   ],
   "source": [
    "isSerie = df['Episodes'] > 1\n",
    "isReview = df['popularityReviewBased'] != -2\n",
    "data = df[['popularityReviewBased','Episodes']][isSerie & isReview]"
   ]
  },
  {
   "cell_type": "code",
   "execution_count": null,
   "metadata": {},
   "outputs": [
    {
     "name": "stdout",
     "output_type": "stream",
     "text": [
      "                       popularityReviewBased  Episodes\n",
      "popularityReviewBased               1.000000  0.064861\n",
      "Episodes                            0.064861  1.000000\n"
     ]
    }
   ],
   "source": [
    "X = data[\"popularityReviewBased\"]\n",
    "Y = data['Episodes']\n",
    "\n",
    "data = data.sample(frac=1).reset_index(drop=True) # shuffle data\n",
    "percentage = round(len(data.index)*2/3)\n",
    "X_train = (pd.DataFrame(data=X).iloc[:percentage]).to_numpy()\n",
    "Y_train = (pd.DataFrame(data=Y).iloc[:percentage]).to_numpy()\n",
    "\n",
    "X_test = (pd.DataFrame(data=X).iloc[percentage:]).to_numpy()\n",
    "Y_test = (pd.DataFrame(data=Y).iloc[percentage:]).to_numpy()"
   ]
  },
  {
   "cell_type": "code",
   "execution_count": null,
   "metadata": {},
   "outputs": [
    {
     "name": "stdout",
     "output_type": "stream",
     "text": [
      "[[3.79190313]]\n",
      "[14.11944127]\n"
     ]
    }
   ],
   "source": [
    "from sklearn import linear_model\n",
    "reg = linear_model.LinearRegression()\n",
    "reg.fit(X_train.reshape(-1, 1),Y_train)\n",
    "Y_result = reg.predict(X_test)\n",
    "diff = 0\n",
    "for i in range(len(Y_result)):\n",
    "    diff += abs(Y_result[i] - Y_test[i])\n",
    "print(diff/len(Y_result))"
   ]
  },
  {
   "cell_type": "markdown",
   "metadata": {},
   "source": [
    "## 5 Algorithmic question"
   ]
  },
  {
   "cell_type": "code",
   "execution_count": null,
   "metadata": {},
   "outputs": [],
   "source": []
  }
 ],
 "metadata": {
  "instance_type": "ml.t3.medium",
  "kernelspec": {
   "display_name": "Python 3",
   "language": "python",
   "name": "python3"
  },
  "language_info": {
   "codemirror_mode": {
    "name": "ipython",
    "version": 3
   },
   "file_extension": ".py",
   "mimetype": "text/x-python",
   "name": "python",
   "nbconvert_exporter": "python",
   "pygments_lexer": "ipython3",
   "version": "3.7.6"
  }
 },
 "nbformat": 4,
 "nbformat_minor": 4
}
