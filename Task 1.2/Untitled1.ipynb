{
 "cells": [
  {
   "cell_type": "code",
   "execution_count": 2,
   "metadata": {},
   "outputs": [],
   "source": [
    "import requests\n",
    "import os\n",
    "import time"
   ]
  },
  {
   "cell_type": "code",
   "execution_count": 3,
   "metadata": {},
   "outputs": [],
   "source": [
    "folder = '/Users/anton/Desktop/ADM/Homework3/html'\n",
    "folder = 'dataset'"
   ]
  },
  {
   "cell_type": "code",
   "execution_count": 4,
   "metadata": {},
   "outputs": [],
   "source": [
    "urls_txt = 'https.txt'"
   ]
  },
  {
   "cell_type": "code",
   "execution_count": 5,
   "metadata": {},
   "outputs": [],
   "source": [
    "headers = {\n",
    "    'user-agent': \"Mozilla/5.0 (Macintosh; Intel Mac OS X 10_15_7) AppleWebKit/537.36 (KHTML, like Gecko) Chrome/95.0.4638.69 Safari/537.36\",\n",
    "    'accept': \"image/avif,image/webp,image/apng,image/svg+xml,image/*,*/*;q=0.8\",\n",
    "    'referer': \"https://myanimelist.net/\"\n",
    "} "
   ]
  },
  {
   "cell_type": "code",
   "execution_count": 6,
   "metadata": {},
   "outputs": [],
   "source": [
    "def htmls_by_urls(urls_txt, folder):\n",
    "     # urls_txt: string 'https.txt' from previous task\n",
    "    # folder: string; eg '/Users/anton/Desktop/ADM/Homework3/html'\n",
    "    \n",
    "    with open(urls_txt, 'r', encoding='utf-8') as f:\n",
    "        lines = f.readlines()\n",
    "    # list of urls\n",
    "    list_txt = [line.strip() for line in lines]\n",
    "    \n",
    "    i = 8585\n",
    "    \n",
    "    while i < 10000:\n",
    "        url = list_txt[i]\n",
    "        # folder where we save html\n",
    "        al_folder = '{}/page_{}/{}.html'.format(folder, i//50 +1, i+1)\n",
    "        # download html\n",
    "        html = requests.get(url, headers)\n",
    "        print(i)\n",
    "        if(html.status_code != 200) : \n",
    "            time.sleep(120)\n",
    "            print('error', html.status_code)\n",
    "        else:\n",
    "            i += 1\n",
    "            with open(al_folder, 'w', encoding='utf-8') as g:\n",
    "                g.write(html.text)"
   ]
  },
  {
   "cell_type": "code",
   "execution_count": 7,
   "metadata": {},
   "outputs": [
    {
     "name": "stdout",
     "output_type": "stream",
     "text": [
      "9977\n",
      "9978\n",
      "9979\n",
      "9980\n",
      "9981\n",
      "9982\n",
      "9983\n",
      "9984\n",
      "9985\n",
      "9986\n",
      "9987\n",
      "9988\n",
      "9989\n",
      "9990\n",
      "9991\n",
      "9992\n",
      "9993\n",
      "9994\n",
      "9995\n",
      "9996\n",
      "9997\n",
      "9998\n",
      "9999\n"
     ]
    }
   ],
   "source": [
    "htmls_by_urls(urls_txt, folder)"
   ]
  },
  {
   "cell_type": "code",
   "execution_count": null,
   "metadata": {},
   "outputs": [],
   "source": []
  }
 ],
 "metadata": {
  "instance_type": "ml.t3.medium",
  "kernelspec": {
   "display_name": "Python 3 (Data Science)",
   "language": "python",
   "name": "python3__SAGEMAKER_INTERNAL__arn:aws:sagemaker:us-east-1:081325390199:image/datascience-1.0"
  },
  "language_info": {
   "codemirror_mode": {
    "name": "ipython",
    "version": 3
   },
   "file_extension": ".py",
   "mimetype": "text/x-python",
   "name": "python",
   "nbconvert_exporter": "python",
   "pygments_lexer": "ipython3",
   "version": "3.7.10"
  }
 },
 "nbformat": 4,
 "nbformat_minor": 4
}
