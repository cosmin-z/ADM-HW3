{
 "cells": [
  {
   "cell_type": "code",
   "execution_count": 1,
   "id": "eb1096bf",
   "metadata": {},
   "outputs": [],
   "source": [
    "import requests\n",
    "import os"
   ]
  },
  {
   "cell_type": "code",
   "execution_count": 2,
   "id": "8aeb7b40",
   "metadata": {},
   "outputs": [],
   "source": [
    "folder = '/Users/anton/Desktop/ADM/Homework3/html'"
   ]
  },
  {
   "cell_type": "code",
   "execution_count": 17,
   "id": "2220182a",
   "metadata": {},
   "outputs": [],
   "source": [
    "# 400 sub-folders\n",
    "for k in range (1, 401):\n",
    "    path = '{}/page_{}'.format(folder, k)\n",
    "    os.makedirs(path)"
   ]
  },
  {
   "cell_type": "code",
   "execution_count": 3,
   "id": "20a8b2bb",
   "metadata": {},
   "outputs": [],
   "source": [
    "urls_txt = 'https.txt'"
   ]
  },
  {
   "cell_type": "code",
   "execution_count": 4,
   "id": "3cb4a396",
   "metadata": {},
   "outputs": [],
   "source": [
    "def htmls_by_urls(urls_txt, folder):\n",
    "    \n",
    "    # urls_txt: string 'https.txt' from previous task\n",
    "    # folder: string; eg '/Users/anton/Desktop/ADM/Homework3/html'\n",
    "    \n",
    "    with open(urls_txt, 'r', encoding='utf-8') as f:\n",
    "        lines = f.readlines()\n",
    "    # list of urls\n",
    "    list_txt = [line.strip() for line in lines]\n",
    "    \n",
    "    for i in range(len(list_txt)):\n",
    "        url = list_txt[i]\n",
    "        # folder where we save html\n",
    "        al_folder = '{}/page_{}/{}.html'.format(folder, i//50 +1, i+1)\n",
    "        # download html\n",
    "        html = requests.get(url).text\n",
    "        with open(al_folder, 'w', encoding='utf-8') as g:\n",
    "            g.write(html)"
   ]
  },
  {
   "cell_type": "code",
   "execution_count": 5,
   "id": "fedf7a87",
   "metadata": {},
   "outputs": [],
   "source": [
    "htmls_by_urls(urls_txt, folder)"
   ]
  }
 ],
 "metadata": {
  "kernelspec": {
   "display_name": "Python 3",
   "language": "python",
   "name": "python3"
  },
  "language_info": {
   "codemirror_mode": {
    "name": "ipython",
    "version": 3
   },
   "file_extension": ".py",
   "mimetype": "text/x-python",
   "name": "python",
   "nbconvert_exporter": "python",
   "pygments_lexer": "ipython3",
   "version": "3.8.8"
  }
 },
 "nbformat": 4,
 "nbformat_minor": 5
}
