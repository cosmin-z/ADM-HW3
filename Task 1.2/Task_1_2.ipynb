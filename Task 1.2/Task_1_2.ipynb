{
 "cells": [
  {
   "cell_type": "code",
   "execution_count": 42,
   "metadata": {},
   "outputs": [],
   "source": [
    "import requests\n",
    "import os\n",
    "import time\n"
   ]
  },
  {
   "cell_type": "code",
   "execution_count": 3,
   "metadata": {},
   "outputs": [],
   "source": [
    "folder = '/Users/anton/Desktop/ADM/Homework3/html'\n",
    "folder = 'dataset'"
   ]
  },
  {
   "cell_type": "code",
   "execution_count": 40,
   "metadata": {},
   "outputs": [],
   "source": [
    "# 400 sub-folders\n",
    "for k in range (1, 401):\n",
    "    path = '{}/page_{}'.format(folder, k)\n",
    "    os.makedirs(path)"
   ]
  },
  {
   "cell_type": "code",
   "execution_count": 41,
   "metadata": {},
   "outputs": [],
   "source": [
    "urls_txt = 'https.txt'"
   ]
  },
  {
   "cell_type": "code",
   "execution_count": 61,
   "metadata": {},
   "outputs": [],
   "source": [
    "headers = {\n",
    "    'user-agent': \"Mozilla/5.0 (Macintosh; Intel Mac OS X 10_15_7) AppleWebKit/537.36 (KHTML, like Gecko) Chrome/95.0.4638.69 Safari/537.36\",\n",
    "    'accept': \"image/avif,image/webp,image/apng,image/svg+xml,image/*,*/*;q=0.8\",\n",
    "    'referer': \"https://myanimelist.net/\"\n",
    "} "
   ]
  },
  {
   "cell_type": "code",
   "execution_count": 2,
   "metadata": {},
   "outputs": [],
   "source": [
    "def htmls_by_urls(urls_txt, folder):\n",
    "     # urls_txt: string 'https.txt' from previous task\n",
    "    # folder: string; eg '/Users/anton/Desktop/ADM/Homework3/html'\n",
    "    \n",
    "    with open(urls_txt, 'r', encoding='utf-8') as f:\n",
    "        lines = f.readlines()\n",
    "    # list of urls\n",
    "    list_txt = [line.strip() for line in lines]\n",
    "    \n",
    "    i = 2960\n",
    "    \n",
    "    while i < len(list_txt):\n",
    "        url = list_txt[i]\n",
    "        # folder where we save html\n",
    "        al_folder = '{}/page_{}/{}.html'.format(folder, i//50 +1, i+1)\n",
    "        # download html\n",
    "        html = requests.get(url, headers)\n",
    "        print(i)\n",
    "        if(html.status_code != 200) : \n",
    "            time.sleep(120)\n",
    "            print('error', html.status_code)\n",
    "        else:\n",
    "            i += 1\n",
    "            with open(al_folder, 'w', encoding='utf-8') as g:\n",
    "                g.write(html.text)\n"
   ]
  },
  {
   "cell_type": "code",
   "execution_count": null,
   "metadata": {},
   "outputs": [],
   "source": [
    "htmls_by_urls(urls_txt, folder)"
   ]
  },
  {
   "cell_type": "code",
   "execution_count": null,
   "metadata": {},
   "outputs": [],
   "source": []
  }
 ],
 "metadata": {
  "instance_type": "ml.t3.2xlarge",
  "kernelspec": {
   "display_name": "Python 3 (Data Science)",
   "language": "python",
   "name": "python3__SAGEMAKER_INTERNAL__arn:aws:sagemaker:us-east-1:081325390199:image/datascience-1.0"
  },
  "language_info": {
   "codemirror_mode": {
    "name": "ipython",
    "version": 3
   },
   "file_extension": ".py",
   "mimetype": "text/x-python",
   "name": "python",
   "nbconvert_exporter": "python",
   "pygments_lexer": "ipython3",
   "version": "3.7.10"
  }
 },
 "nbformat": 4,
 "nbformat_minor": 5
}
