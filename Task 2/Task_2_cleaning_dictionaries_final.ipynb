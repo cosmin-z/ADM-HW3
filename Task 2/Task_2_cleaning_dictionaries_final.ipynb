{
 "cells": [
  {
   "cell_type": "code",
   "execution_count": 97,
   "id": "deecc89b",
   "metadata": {
    "scrolled": true
   },
   "outputs": [
    {
     "name": "stderr",
     "output_type": "stream",
     "text": [
      "[nltk_data] Downloading package stopwords to\n",
      "[nltk_data]     /Users/cosmin/nltk_data...\n",
      "[nltk_data]   Package stopwords is already up-to-date!\n"
     ]
    }
   ],
   "source": [
    "import pandas as pd\n",
    "\n",
    "import nltk\n",
    "tokenizer = nltk.RegexpTokenizer(r\"\\w+\")\n",
    "from nltk.corpus import stopwords\n",
    "nltk.download('stopwords')\n",
    "from nltk.stem import PorterStemmer \n",
    "ps = PorterStemmer()\n",
    "\n",
    "from collections import defaultdict\n",
    "import pickle\n",
    "\n",
    "from tqdm import tqdm\n",
    "\n",
    "import math\n",
    "\n",
    "import numpy as np, heapq"
   ]
  },
  {
   "cell_type": "code",
   "execution_count": 83,
   "id": "f893fa77",
   "metadata": {},
   "outputs": [],
   "source": [
    "dataset = pd.read_csv('anime_df.csv')"
   ]
  },
  {
   "cell_type": "code",
   "execution_count": null,
   "id": "555cb688",
   "metadata": {
    "scrolled": true
   },
   "outputs": [],
   "source": [
    "dataset.head()"
   ]
  },
  {
   "cell_type": "markdown",
   "id": "fb0a6a89",
   "metadata": {},
   "source": [
    "### Cleaning"
   ]
  },
  {
   "cell_type": "code",
   "execution_count": 7,
   "id": "9a2168ad",
   "metadata": {},
   "outputs": [],
   "source": [
    "def tokenizeandclean(description):\n",
    "    # input: string\n",
    "    # output: list of filtered words included in the string\n",
    "    \n",
    "    # to be applied also to the query\n",
    "    \n",
    "    low_descr = str.lower(description)\n",
    "    \n",
    "    # We tokenize the description and remove puncuation\n",
    "    tok_descr = tokenizer.tokenize(low_descr)\n",
    "    # Alternative way: first tokenize then remove punctuation\n",
    "    # tok_descr = nltk.word_tokenize(low_descr)\n",
    "    # nltk.download(\"punkt\")\n",
    "    # no_pun_descr = [word for word in tok_descr if word.isalnum()]\n",
    "    \n",
    "    # We remove stopwords from tokenized description\n",
    "    no_stop_descr = [word for word in tok_descr if not word in stopwords.words('english')]\n",
    "    \n",
    "    # We carry out stemming\n",
    "    stem_descr = [ps.stem(i) for i in no_stop_descr]\n",
    "    \n",
    "    # We remove isolated characters\n",
    "    final_descr = [i for i in stem_descr if len(i) > 1]\n",
    "    \n",
    "    return final_descr"
   ]
  },
  {
   "cell_type": "markdown",
   "id": "13155e70",
   "metadata": {},
   "source": [
    "#### example"
   ]
  },
  {
   "cell_type": "code",
   "execution_count": 5,
   "id": "55030318",
   "metadata": {
    "scrolled": true
   },
   "outputs": [
    {
     "data": {
      "text/plain": [
       "'[\"After a horrific alchemy experiment goes wrong in the Elric household, brothers Edward and Alphonse are left in a catastrophic new reality. Ignoring the alchemical principle banning human transmutation, the boys attempted to bring their recently deceased mother back to life. Instead, they suffered brutal personal loss: Alphonse\\'s body disintegrated while Edward lost a leg and then sacrificed an arm to keep Alphonse\\'s soul in the physical realm by binding it to a hulking suit of armor.\", \\'\\\\n\\', \\'\\\\n\\', \\'\\\\n\\', \\'\\\\r\\\\nThe brothers are rescued by their neighbor Pinako Rockbell and her granddaughter Winry. Known as a bio-mechanical engineering prodigy, Winry creates prosthetic limbs for Edward by utilizing \"automail,\" a tough, versatile metal used in robots and combat armor. After years of training, the Elric brothers set off on a quest to restore their bodies by locating the Philosopher\\\\\\'s Stone—a powerful gem that allows an alchemist to defy the traditional laws of Equivalent Exchange.\\', \\'\\\\n\\', \\'\\\\n\\', \\'\\\\n\\', \\'\\\\r\\\\nAs Edward becomes an infamous alchemist and gains the nickname \"Fullmetal,\" the boys\\\\\\' journey embroils them in a growing conspiracy that threatens the fate of the world.\\', \\'\\\\n\\', \\'\\\\n\\', \\'\\\\n\\', \\'\\\\r\\\\n[Written by MAL Rewrite]\\']'"
      ]
     },
     "execution_count": 5,
     "metadata": {},
     "output_type": "execute_result"
    }
   ],
   "source": [
    "dataset['Description'][0]"
   ]
  },
  {
   "cell_type": "code",
   "execution_count": 190,
   "id": "1496a8bc",
   "metadata": {
    "scrolled": true
   },
   "outputs": [
    {
     "data": {
      "text/plain": [
       "list"
      ]
     },
     "execution_count": 190,
     "metadata": {},
     "output_type": "execute_result"
    }
   ],
   "source": [
    "type(tokenizeandclean(dataset['Description'][i]))"
   ]
  },
  {
   "cell_type": "code",
   "execution_count": null,
   "id": "e972715e",
   "metadata": {},
   "outputs": [],
   "source": [
    "datasetClean = defaultdict()\n",
    "for i in range(len(dataset)):\n",
    "    datasetClean[i]=(tokenizeandclean(dataset['Description'][i]))"
   ]
  },
  {
   "cell_type": "code",
   "execution_count": 10,
   "id": "57766235",
   "metadata": {},
   "outputs": [],
   "source": [
    "# We save dictionaries as pkl\n",
    "descriptionsDataset = open(\"descriptionsDataset.pkl\", \"wb\")\n",
    "pickle.dump(datasetClean, descriptionsDataset)\n",
    "descriptionsDataset.close()"
   ]
  },
  {
   "cell_type": "code",
   "execution_count": 5,
   "id": "44b28387",
   "metadata": {},
   "outputs": [
    {
     "ename": "NameError",
     "evalue": "name 'datasetClean' is not defined",
     "output_type": "error",
     "traceback": [
      "\u001B[0;31m---------------------------------------------------------------------------\u001B[0m",
      "\u001B[0;31mNameError\u001B[0m                                 Traceback (most recent call last)",
      "\u001B[0;32m<ipython-input-5-1ae3fad0cba4>\u001B[0m in \u001B[0;36m<module>\u001B[0;34m\u001B[0m\n\u001B[0;32m----> 1\u001B[0;31m \u001B[0mlen\u001B[0m\u001B[0;34m(\u001B[0m\u001B[0mdatasetClean\u001B[0m\u001B[0;34m)\u001B[0m\u001B[0;34m\u001B[0m\u001B[0;34m\u001B[0m\u001B[0m\n\u001B[0m",
      "\u001B[0;31mNameError\u001B[0m: name 'datasetClean' is not defined"
     ]
    }
   ],
   "source": [
    "len(datasetClean)"
   ]
  },
  {
   "cell_type": "markdown",
   "id": "c92d24c9",
   "metadata": {},
   "source": [
    "### Dictionaries\n",
    "\n",
    "- the first dictionary <code>word_2_id</code> maps word to word identification integer\n",
    "\n",
    "- the inverted index dictionary <code>id_2_anime</code> maps word identification integer to list of indexes (main dataset indexes) of anime whose cleaned description contains the word identified by the integer"
   ]
  },
  {
   "cell_type": "markdown",
   "id": "5b233ca9",
   "metadata": {},
   "source": [
    "#### Inverted Index without occurrences"
   ]
  },
  {
   "cell_type": "markdown",
   "id": "eeb62aca",
   "metadata": {},
   "source": [
    "If a word is present more than once in the single description the index referring to the anime (anime_df index) in the <code>id_2_anime</code> dictionary is not repeated."
   ]
  },
  {
   "cell_type": "code",
   "execution_count": 6,
   "id": "10eaa3c1",
   "metadata": {},
   "outputs": [],
   "source": [
    "def dictionaries(dataset):\n",
    "    # input: anime_df dataframe\n",
    "    # output 1: the dictionary word_2_id maps word to word identification integer  \n",
    "    # output 2: the inverted index dictionary id_2_anime maps word identification integer to list of indexes (main dataset indexes) of anime\n",
    "\n",
    "    word_2_id = defaultdict()\n",
    "    word_2_id['a'] = 0\n",
    "\n",
    "    id_2_anime = defaultdict()\n",
    "        \n",
    "    for i in tqdm(range(len(dataset))):\n",
    "        \n",
    "        tok_list = tokenizeandclean(dataset['Description'][i])\n",
    "        \n",
    "        if tok_list == []:\n",
    "            \n",
    "            pass\n",
    "        \n",
    "        else:\n",
    "\n",
    "            for j in list(set(tok_list)): # for j in tok_list -- inverted index with occurrences\n",
    "\n",
    "                if j not in word_2_id.keys():\n",
    "\n",
    "                    word_2_id[j] = word_2_id[list(word_2_id.keys())[-1]] + 1\n",
    "\n",
    "                    id_2_anime[word_2_id[j]] = [i]\n",
    "\n",
    "                else:\n",
    "\n",
    "                    id_2_anime[word_2_id[j]].append(i)\n",
    "    \n",
    "    # We save dictionaries as pkl\n",
    "    word_2_id_file = open(\"word_2_id.pkl\", \"wb\")\n",
    "    pickle.dump(word_2_id, word_2_id_file)\n",
    "    word_2_id_file.close()\n",
    "    \n",
    "    id_2_anime_file = open(\"id_2_anime.pkl\", \"wb\")\n",
    "    pickle.dump(id_2_anime, id_2_anime_file)\n",
    "    id_2_anime_file.close()\n",
    "\n",
    "    return word_2_id, id_2_anime"
   ]
  },
  {
   "cell_type": "code",
   "execution_count": 7,
   "id": "ed3f672a",
   "metadata": {},
   "outputs": [
    {
     "name": "stderr",
     "output_type": "stream",
     "text": [
      "100%|██████████████████████████████████████████████████████████████████████████| 19053/19053 [1:56:43<00:00,  2.72it/s]\n"
     ]
    }
   ],
   "source": [
    "word_2_id0, id_2_anime0 = dictionaries(dataset)"
   ]
  },
  {
   "cell_type": "code",
   "execution_count": 8,
   "id": "425808ad",
   "metadata": {},
   "outputs": [
    {
     "data": {
      "text/plain": [
       "39334"
      ]
     },
     "execution_count": 8,
     "metadata": {},
     "output_type": "execute_result"
    }
   ],
   "source": [
    "len(word_2_id0)"
   ]
  },
  {
   "cell_type": "code",
   "execution_count": 11,
   "id": "71a2f355",
   "metadata": {},
   "outputs": [
    {
     "data": {
      "text/plain": [
       "True"
      ]
     },
     "execution_count": 11,
     "metadata": {},
     "output_type": "execute_result"
    }
   ],
   "source": [
    "len(id_2_anime0) == len(word_2_id0) - 1 # -1 inizialization value"
   ]
  },
  {
   "cell_type": "markdown",
   "id": "e402d1f8",
   "metadata": {},
   "source": [
    "### Search engine"
   ]
  },
  {
   "cell_type": "code",
   "execution_count": 5,
   "id": "a3be533a",
   "metadata": {},
   "outputs": [],
   "source": [
    "def search_engine(query):\n",
    "    # input: query as string\n",
    "    # output: list of indexes (anime_df dataframe) of anime whose description contains all the words in the query\n",
    "    \n",
    "    # We load dictionaries\n",
    "    word_2_id_file = open(\"word_2_id.pkl\", \"rb\")\n",
    "    word_2_id = pickle.load(word_2_id_file)\n",
    "    word_2_id_file.close()\n",
    "    id_2_anime_file = open(\"id_2_anime.pkl\", \"rb\")\n",
    "    id_2_anime = pickle.load(id_2_anime_file)\n",
    "    id_2_anime_file.close()\n",
    "    \n",
    "    # We filter query (apply tokenizeandclean function and remove duplicates)\n",
    "    cleaned_query = list(set(tokenizeandclean(query)))\n",
    "        \n",
    "    listoflists = []\n",
    "    \n",
    "    for i in range(len(cleaned_query)):\n",
    "        listoflists.append(set(id_2_anime[word_2_id[cleaned_query[i]]]))\n",
    "        \n",
    "    anime_intersection = list(set.intersection(*listoflists))\n",
    "    \n",
    "    return anime_intersection"
   ]
  },
  {
   "cell_type": "code",
   "execution_count": 9,
   "id": "6f00a173",
   "metadata": {},
   "outputs": [],
   "source": [
    "q = search_engine(\"saiyan race\")"
   ]
  },
  {
   "cell_type": "code",
   "execution_count": 11,
   "id": "a4fbffa9",
   "metadata": {},
   "outputs": [
    {
     "name": "stdout",
     "output_type": "stream",
     "text": [
      "[\"Bardock, Son Goku's father, is a low-ranking Saiyan soldier who was given the power to see into the future by the last remaining alien on a planet he just destroyed. He witnesses the destruction of his race and must now do his best to stop Frieza's impending massacre.\", '\\n', '\\n', '\\n', '\\r\\n(Source: ANN)']\n",
      "\n",
      "[\"Five years after the events of Dragon Ball, martial arts expert Gokuu is now a grown man married to his wife Chi-Chi, with a four-year old son named Gohan. While attending a reunion on Turtle Island with his old friends Master Roshi, Krillin, Bulma and others, the festivities are interrupted when a humanoid alien named Raditz not only reveals the truth behind Gokuu's past, but kidnaps Gohan as well.\", '\\n', '\\n', '\\n', '\\r\\nWith Raditz displaying power beyond anything Gokuu has seen before, he is forced to team up with his old nemesis, Piccolo, in order to rescue his son. But when Gokuu and Piccolo reveal the secret of the seven mystical wish-granting Dragon Balls to Raditz, he informs the duo that there is more of his race, the Saiyans, and they won’t pass up an opportunity to seize the power of the Dragon Balls for themselves.', '\\n', '\\n', '\\n', '\\r\\nThese events begin the saga of ', <i>Dragon Ball Kai</i>, ', a story that finds Gokuu and his friends and family constantly defending the galaxy from increasingly more powerful threats. Bizarre, comical, heartwarming and threatening characters come together in a series of battles that push the powers and abilities of Gokuu and his friends beyond anything they have ever experienced.']\n",
      "\n",
      "[\"Five years after winning the World Martial Arts tournament, Gokuu is now living a peaceful life with his wife and son. This changes, however, with the arrival of a mysterious enemy named Raditz who presents himself as Gokuu's long-lost brother. He reveals that Gokuu is a warrior from the once powerful but now virtually extinct Saiyan race, whose homeworld was completely annihilated. When he was sent to Earth as a baby, Gokuu's sole purpose was to conquer and destroy the planet; but after suffering amnesia from a head injury, his violent and savage nature changed, and instead was raised as a kind and well-mannered boy, now fighting to protect others.\", '\\n', '\\n', '\\n', \"\\r\\nWith his failed attempt at forcibly recruiting Gokuu as an ally, Raditz warns Gokuu's friends of a new threat that's rapidly approaching Earth—one that could plunge Earth into an intergalactic conflict and cause the heavens themselves to shake. A war will be fought over the seven mystical dragon balls, and only the strongest will survive in \", <i>Dragon Ball Z</i>, '.', '\\n', '\\n', '\\n', '\\r\\n[Written by MAL Rewrite]']\n",
      "\n",
      "[\"Forty-one years ago on Planet Vegeta, home of the infamous Saiyan warrior race, King Vegeta noticed a baby named Broly whose latent power exceeded that of his own son. Believing that Broly's power would one day surpass that of his child, Vegeta, the king sends Broly to the desolate planet Vampa. Broly's father Paragus follows after him, intent on rescuing his son. However, his ship gets damaged, causing the two to spend years trapped on the barren world, unaware of the salvation that would one day come from an unlikely ally.\", '\\n', '\\n', '\\n', '\\r\\nYears later on Earth, Gokuu Son and Prince Vegeta—believed to be the last survivors of the Saiyan race—are busy training on a remote island. But their sparring is interrupted when the appearance of their old enemy Frieza drives them to search for the last of the wish-granting Dragon Balls on a frozen continent. Once there, Frieza shows off his new allies: Paragus and the now extremely powerful Broly. A legendary battle that shakes the foundation of the world ensues as Gokuu and Vegeta face off against Broly, a warrior without equal whose rage is just waiting to be unleashed.', '\\n', '\\n', '\\n', '\\r\\n[Written by MAL Rewrite]']\n",
      "\n"
     ]
    }
   ],
   "source": [
    "for i in q:\n",
    "    print(dataset['Description'][i])\n",
    "    print('')"
   ]
  },
  {
   "cell_type": "code",
   "execution_count": 27,
   "id": "7ce25ad4",
   "metadata": {},
   "outputs": [],
   "source": [
    "import pickle #through this library we read the dictionary stored in the folder dictionaries\n",
    "\n",
    "\n",
    "with open('dictionaries/id_2_anime.pkl', 'rb') as f:\n",
    "    firstDictionary = pickle.load(f)\n",
    "    \n",
    "with open('dictionaries/word_2_id.pkl', 'rb') as f:\n",
    "    dataWord = pickle.load(f)\n",
    "    \n",
    "with open('descriptionsDataset.pkl', 'rb') as f:\n",
    "    dataDescriptionClean = pickle.load(f)"
   ]
  },
  {
   "cell_type": "markdown",
   "id": "de65ffed",
   "metadata": {},
   "source": [
    "### 2.2"
   ]
  },
  {
   "cell_type": "markdown",
   "id": "e05e69ff",
   "metadata": {},
   "source": [
    "For the second search engine, given a query, we want to get the top-k (the choice of k it's up to you!) documents related to the query. In particular:\n",
    "\n",
    "- Find all the documents that contains all the words in the query.\n",
    "- Sort them by their similarity with the query.\n",
    "- Return in output k documents, or all the documents with non-zero similarity with the query when the results are less than k. You must use a heap data structure (you can use Python libraries) for maintaining the top-k documents.\n",
    "- To solve this task, you will have to use the tfIdf score, and the Cosine similarity. The field to consider it is still the synopsis."
   ]
  },
  {
   "cell_type": "markdown",
   "id": "213fc459",
   "metadata": {},
   "source": [
    "For calculating the **term frequency–inverse document frequency**, we have to do TF*IDF where \n",
    "TF = the number of times that term t **occurs in document** d\n",
    "IDF = log10(total number of documents / number of documents where the term t appears)"
   ]
  },
  {
   "cell_type": "code",
   "execution_count": 28,
   "id": "9bf31c0c",
   "metadata": {},
   "outputs": [],
   "source": [
    "def calculate_TfIdf(lenghtDictionary, lenghtTerm, numberOfOccurence, wordsDocument):\n",
    "    TF = numberOfOccurence / wordsDocument #number of the occurence in the document / #numer of total words in this single document.\n",
    "    IDF = math.log10(lenghtDictionary / lenghtTerm) #lenght of dictonarty / number of documents that containg the term j\n",
    "    return round(TF*IDF,2) #just two decimal "
   ]
  },
  {
   "cell_type": "code",
   "execution_count": 29,
   "id": "b5546152",
   "metadata": {},
   "outputs": [],
   "source": [
    "def number_occurence(document, word):\n",
    "    return sum( word in s for s in document) #count the occurence of a word in a document"
   ]
  },
  {
   "cell_type": "code",
   "execution_count": 4,
   "id": "1c265e36",
   "metadata": {},
   "outputs": [],
   "source": [
    "lengthDic = len(firstDictionary) #get the leght of the the firstDictionary created in execercise 2.1"
   ]
  },
  {
   "cell_type": "code",
   "execution_count": 30,
   "id": "d172c70b",
   "metadata": {},
   "outputs": [],
   "source": [
    "tfidf_invIndex = defaultdict() #starting a dictiornary\n",
    "\n",
    "dataWordList = list(dataWord.copy()) #copy of the dictionary which contains the words\n",
    "tfidf_invIndex = firstDictionary.copy() #copy of the dictionary which containts the documents where each word of dataword is present\n",
    "dataDescription = dataDescriptionClean.copy()"
   ]
  },
  {
   "cell_type": "markdown",
   "id": "67cde57f",
   "metadata": {},
   "source": [
    "\n",
    "Now we calculate the tfIdf for each document in all term_id"
   ]
  },
  {
   "cell_type": "code",
   "execution_count": 31,
   "id": "01e40bd5",
   "metadata": {},
   "outputs": [
    {
     "name": "stderr",
     "output_type": "stream",
     "text": [
      "100%|██████████| 39332/39332 [00:06<00:00, 6048.19it/s] \n"
     ]
    }
   ],
   "source": [
    "for i in tqdm(range(1,len(firstDictionary))):\n",
    "    lenghtTerm = len(firstDictionary[i]) #lenght of a single term_id_i\n",
    "    for j in range(len(firstDictionary[i])):\n",
    "        synopsis = dataDescription[firstDictionary[i][j]] #the description that contains the word\n",
    "        wordsDocument = len(synopsis) #the lenght\n",
    "        numberOfOccurence = number_occurence(synopsis, dataWordList[i])\n",
    "        tfidf_invIndex[i][j]=(firstDictionary[i][j], calculate_TfIdf(lengthDic, lenghtTerm, numberOfOccurence, wordsDocument)) #return ( id-document, tfIdf_{term,documenti})"
   ]
  },
  {
   "cell_type": "markdown",
   "id": "39affac4",
   "metadata": {},
   "source": [
    "\n",
    "set the variable q as a vectore where each position corresponds to a letter in our vocabulary (daraWord)"
   ]
  },
  {
   "cell_type": "code",
   "execution_count": 169,
   "id": "b335a060",
   "metadata": {},
   "outputs": [],
   "source": [
    "from numpy import inner\n",
    "from numpy.linalg import norm\n",
    "searchWord = tokenizeandclean('saiyan race')\n",
    "scoreHeap, k = [], 10\n",
    "heapq.heapify(scoreHeap)\n",
    "q =  np.zeros((len(dataWord)))\n",
    "\n",
    "for word in searchWord:\n",
    "    for key, value in dataWord.items():\n",
    "        if word == key:\n",
    "            q[value] +=1 #fill the query q\n",
    "normq = norm(q, ord=2)"
   ]
  },
  {
   "cell_type": "markdown",
   "id": "fdfd9163",
   "metadata": {},
   "source": [
    "\n",
    "created a matrix where the row refers to the document and the column to the word"
   ]
  },
  {
   "cell_type": "code",
   "execution_count": 84,
   "id": "89d67a2a",
   "metadata": {},
   "outputs": [
    {
     "name": "stderr",
     "output_type": "stream",
     "text": [
      "100%|██████████| 19053/19053 [06:27<00:00, 49.14it/s]\n"
     ]
    }
   ],
   "source": [
    "d = np.zeros((len(dataset), len(dataWord)))\n",
    "\n",
    "for i in tqdm(range(len(dataset))):\n",
    "    for j in range(1,len(q)):\n",
    "        if (q[j] != 0):\n",
    "            for k in range(len(tfidf_invIndex[j])):\n",
    "                if i == tfidf_invIndex[j][k][0]:\n",
    "                    d[i][j] = (tfidf_invIndex[j][k][1])"
   ]
  },
  {
   "cell_type": "markdown",
   "id": "a00b0c20",
   "metadata": {},
   "source": [
    " "
   ]
  },
  {
   "cell_type": "markdown",
   "id": "b3dd0b14",
   "metadata": {},
   "source": [
    "for each document we check the cosine similarity with q and keep the most similar ones in the heap"
   ]
  },
  {
   "cell_type": "code",
   "execution_count": 167,
   "id": "ae04ff27",
   "metadata": {},
   "outputs": [
    {
     "name": "stderr",
     "output_type": "stream",
     "text": [
      "  0%|          | 0/19053 [00:00<?, ?it/s]<ipython-input-167-250b1a6d3b70>:5: RuntimeWarning: invalid value encountered in double_scalars\n",
      "  if not math.isnan(my_sum/(normq*normd)):\n",
      "100%|██████████| 19053/19053 [03:21<00:00, 94.32it/s]\n"
     ]
    }
   ],
   "source": [
    "for i in tqdm(range(len(d))):\n",
    "    my_sum = 0\n",
    "    normd = norm(d[i])\n",
    "    my_sum = np.sum([q[j]*d[i][j] for j in range(len(q)) if q[j] != 0])\n",
    "    if not math.isnan(my_sum/(normq*normd)):\n",
    "        heapq.heappush(scoreHeap,(i,my_sum/(normq*normd)))\n",
    "\n",
    "    if len(scoreHeap) == k+1:\n",
    "        heapq.heappop(scoreHeap)\n",
    "    scoreHeap.sort(key=lambda x:x[1])"
   ]
  },
  {
   "cell_type": "markdown",
   "id": "e5528b6e",
   "metadata": {},
   "source": [
    "print the 10 most similar anime to q"
   ]
  },
  {
   "cell_type": "code",
   "execution_count": 168,
   "id": "e9599f14",
   "metadata": {},
   "outputs": [
    {
     "name": "stdout",
     "output_type": "stream",
     "text": [
      "[(18503, 'Dragon Ball Super: Broly', '[\"Forty-one years ago on Planet Vegeta, home of the infamous Saiyan warrior race, King Vegeta noticed a baby named Broly whose latent power exceeded that of his own son. Believing that Broly\\'s power would one day surpass that of his child, Vegeta, the king sends Broly to the desolate planet Vampa. Broly\\'s father Paragus follows after him, intent on rescuing his son. However, his ship gets damaged, causing the two to spend years trapped on the barren world, unaware of the salvation that would one day come from an unlikely ally.\", \\'\\\\n\\', \\'\\\\n\\', \\'\\\\n\\', \\'\\\\r\\\\nYears later on Earth, Gokuu Son and Prince Vegeta—believed to be the last survivors of the Saiyan race—are busy training on a remote island. But their sparring is interrupted when the appearance of their old enemy Frieza drives them to search for the last of the wish-granting Dragon Balls on a frozen continent. Once there, Frieza shows off his new allies: Paragus and the now extremely powerful Broly. A legendary battle that shakes the foundation of the world ensues as Gokuu and Vegeta face off against Broly, a warrior without equal whose rage is just waiting to be unleashed.\\', \\'\\\\n\\', \\'\\\\n\\', \\'\\\\n\\', \\'\\\\r\\\\n[Written by MAL Rewrite]\\']', 'https://myanimelist.net/anime/2266/Gakuen_no_Shuryousha\\n', 0.9805806756909202)] \n",
      "\n",
      "[(18503, 'Dragon Ball Super: Broly', '[\"Forty-one years ago on Planet Vegeta, home of the infamous Saiyan warrior race, King Vegeta noticed a baby named Broly whose latent power exceeded that of his own son. Believing that Broly\\'s power would one day surpass that of his child, Vegeta, the king sends Broly to the desolate planet Vampa. Broly\\'s father Paragus follows after him, intent on rescuing his son. However, his ship gets damaged, causing the two to spend years trapped on the barren world, unaware of the salvation that would one day come from an unlikely ally.\", \\'\\\\n\\', \\'\\\\n\\', \\'\\\\n\\', \\'\\\\r\\\\nYears later on Earth, Gokuu Son and Prince Vegeta—believed to be the last survivors of the Saiyan race—are busy training on a remote island. But their sparring is interrupted when the appearance of their old enemy Frieza drives them to search for the last of the wish-granting Dragon Balls on a frozen continent. Once there, Frieza shows off his new allies: Paragus and the now extremely powerful Broly. A legendary battle that shakes the foundation of the world ensues as Gokuu and Vegeta face off against Broly, a warrior without equal whose rage is just waiting to be unleashed.\\', \\'\\\\n\\', \\'\\\\n\\', \\'\\\\n\\', \\'\\\\r\\\\n[Written by MAL Rewrite]\\']', 'https://myanimelist.net/anime/2266/Gakuen_no_Shuryousha\\n', 0.9805806756909202), (6185, 'Dragon Ball Kai', '[\"Five years after the events of Dragon Ball, martial arts expert Gokuu is now a grown man married to his wife Chi-Chi, with a four-year old son named Gohan. While attending a reunion on Turtle Island with his old friends Master Roshi, Krillin, Bulma and others, the festivities are interrupted when a humanoid alien named Raditz not only reveals the truth behind Gokuu\\'s past, but kidnaps Gohan as well.\", \\'\\\\n\\', \\'\\\\n\\', \\'\\\\n\\', \\'\\\\r\\\\nWith Raditz displaying power beyond anything Gokuu has seen before, he is forced to team up with his old nemesis, Piccolo, in order to rescue his son. But when Gokuu and Piccolo reveal the secret of the seven mystical wish-granting Dragon Balls to Raditz, he informs the duo that there is more of his race, the Saiyans, and they won’t pass up an opportunity to seize the power of the Dragon Balls for themselves.\\', \\'\\\\n\\', \\'\\\\n\\', \\'\\\\n\\', \\'\\\\r\\\\nThese events begin the saga of \\', <i>Dragon Ball Kai</i>, \\', a story that finds Gokuu and his friends and family constantly defending the galaxy from increasingly more powerful threats. Bizarre, comical, heartwarming and threatening characters come together in a series of battles that push the powers and abilities of Gokuu and his friends beyond anything they have ever experienced.\\']', 'https://myanimelist.net/anime/11755/009_Re_Cyborg\\n', 0.9805806756909202)] \n",
      "\n",
      "[(18503, 'Dragon Ball Super: Broly', '[\"Forty-one years ago on Planet Vegeta, home of the infamous Saiyan warrior race, King Vegeta noticed a baby named Broly whose latent power exceeded that of his own son. Believing that Broly\\'s power would one day surpass that of his child, Vegeta, the king sends Broly to the desolate planet Vampa. Broly\\'s father Paragus follows after him, intent on rescuing his son. However, his ship gets damaged, causing the two to spend years trapped on the barren world, unaware of the salvation that would one day come from an unlikely ally.\", \\'\\\\n\\', \\'\\\\n\\', \\'\\\\n\\', \\'\\\\r\\\\nYears later on Earth, Gokuu Son and Prince Vegeta—believed to be the last survivors of the Saiyan race—are busy training on a remote island. But their sparring is interrupted when the appearance of their old enemy Frieza drives them to search for the last of the wish-granting Dragon Balls on a frozen continent. Once there, Frieza shows off his new allies: Paragus and the now extremely powerful Broly. A legendary battle that shakes the foundation of the world ensues as Gokuu and Vegeta face off against Broly, a warrior without equal whose rage is just waiting to be unleashed.\\', \\'\\\\n\\', \\'\\\\n\\', \\'\\\\n\\', \\'\\\\r\\\\n[Written by MAL Rewrite]\\']', 'https://myanimelist.net/anime/2266/Gakuen_no_Shuryousha\\n', 0.9805806756909202), (6185, 'Dragon Ball Kai', '[\"Five years after the events of Dragon Ball, martial arts expert Gokuu is now a grown man married to his wife Chi-Chi, with a four-year old son named Gohan. While attending a reunion on Turtle Island with his old friends Master Roshi, Krillin, Bulma and others, the festivities are interrupted when a humanoid alien named Raditz not only reveals the truth behind Gokuu\\'s past, but kidnaps Gohan as well.\", \\'\\\\n\\', \\'\\\\n\\', \\'\\\\n\\', \\'\\\\r\\\\nWith Raditz displaying power beyond anything Gokuu has seen before, he is forced to team up with his old nemesis, Piccolo, in order to rescue his son. But when Gokuu and Piccolo reveal the secret of the seven mystical wish-granting Dragon Balls to Raditz, he informs the duo that there is more of his race, the Saiyans, and they won’t pass up an opportunity to seize the power of the Dragon Balls for themselves.\\', \\'\\\\n\\', \\'\\\\n\\', \\'\\\\n\\', \\'\\\\r\\\\nThese events begin the saga of \\', <i>Dragon Ball Kai</i>, \\', a story that finds Gokuu and his friends and family constantly defending the galaxy from increasingly more powerful threats. Bizarre, comical, heartwarming and threatening characters come together in a series of battles that push the powers and abilities of Gokuu and his friends beyond anything they have ever experienced.\\']', 'https://myanimelist.net/anime/11755/009_Re_Cyborg\\n', 0.9805806756909202), (6185, 'Dragon Ball Kai', '[\"Five years after the events of Dragon Ball, martial arts expert Gokuu is now a grown man married to his wife Chi-Chi, with a four-year old son named Gohan. While attending a reunion on Turtle Island with his old friends Master Roshi, Krillin, Bulma and others, the festivities are interrupted when a humanoid alien named Raditz not only reveals the truth behind Gokuu\\'s past, but kidnaps Gohan as well.\", \\'\\\\n\\', \\'\\\\n\\', \\'\\\\n\\', \\'\\\\r\\\\nWith Raditz displaying power beyond anything Gokuu has seen before, he is forced to team up with his old nemesis, Piccolo, in order to rescue his son. But when Gokuu and Piccolo reveal the secret of the seven mystical wish-granting Dragon Balls to Raditz, he informs the duo that there is more of his race, the Saiyans, and they won’t pass up an opportunity to seize the power of the Dragon Balls for themselves.\\', \\'\\\\n\\', \\'\\\\n\\', \\'\\\\n\\', \\'\\\\r\\\\nThese events begin the saga of \\', <i>Dragon Ball Kai</i>, \\', a story that finds Gokuu and his friends and family constantly defending the galaxy from increasingly more powerful threats. Bizarre, comical, heartwarming and threatening characters come together in a series of battles that push the powers and abilities of Gokuu and his friends beyond anything they have ever experienced.\\']', 'https://myanimelist.net/anime/11755/009_Re_Cyborg\\n', 0.9805806756909202)] \n",
      "\n",
      "[(18503, 'Dragon Ball Super: Broly', '[\"Forty-one years ago on Planet Vegeta, home of the infamous Saiyan warrior race, King Vegeta noticed a baby named Broly whose latent power exceeded that of his own son. Believing that Broly\\'s power would one day surpass that of his child, Vegeta, the king sends Broly to the desolate planet Vampa. Broly\\'s father Paragus follows after him, intent on rescuing his son. However, his ship gets damaged, causing the two to spend years trapped on the barren world, unaware of the salvation that would one day come from an unlikely ally.\", \\'\\\\n\\', \\'\\\\n\\', \\'\\\\n\\', \\'\\\\r\\\\nYears later on Earth, Gokuu Son and Prince Vegeta—believed to be the last survivors of the Saiyan race—are busy training on a remote island. But their sparring is interrupted when the appearance of their old enemy Frieza drives them to search for the last of the wish-granting Dragon Balls on a frozen continent. Once there, Frieza shows off his new allies: Paragus and the now extremely powerful Broly. A legendary battle that shakes the foundation of the world ensues as Gokuu and Vegeta face off against Broly, a warrior without equal whose rage is just waiting to be unleashed.\\', \\'\\\\n\\', \\'\\\\n\\', \\'\\\\n\\', \\'\\\\r\\\\n[Written by MAL Rewrite]\\']', 'https://myanimelist.net/anime/2266/Gakuen_no_Shuryousha\\n', 0.9805806756909202), (6185, 'Dragon Ball Kai', '[\"Five years after the events of Dragon Ball, martial arts expert Gokuu is now a grown man married to his wife Chi-Chi, with a four-year old son named Gohan. While attending a reunion on Turtle Island with his old friends Master Roshi, Krillin, Bulma and others, the festivities are interrupted when a humanoid alien named Raditz not only reveals the truth behind Gokuu\\'s past, but kidnaps Gohan as well.\", \\'\\\\n\\', \\'\\\\n\\', \\'\\\\n\\', \\'\\\\r\\\\nWith Raditz displaying power beyond anything Gokuu has seen before, he is forced to team up with his old nemesis, Piccolo, in order to rescue his son. But when Gokuu and Piccolo reveal the secret of the seven mystical wish-granting Dragon Balls to Raditz, he informs the duo that there is more of his race, the Saiyans, and they won’t pass up an opportunity to seize the power of the Dragon Balls for themselves.\\', \\'\\\\n\\', \\'\\\\n\\', \\'\\\\n\\', \\'\\\\r\\\\nThese events begin the saga of \\', <i>Dragon Ball Kai</i>, \\', a story that finds Gokuu and his friends and family constantly defending the galaxy from increasingly more powerful threats. Bizarre, comical, heartwarming and threatening characters come together in a series of battles that push the powers and abilities of Gokuu and his friends beyond anything they have ever experienced.\\']', 'https://myanimelist.net/anime/11755/009_Re_Cyborg\\n', 0.9805806756909202), (6185, 'Dragon Ball Kai', '[\"Five years after the events of Dragon Ball, martial arts expert Gokuu is now a grown man married to his wife Chi-Chi, with a four-year old son named Gohan. While attending a reunion on Turtle Island with his old friends Master Roshi, Krillin, Bulma and others, the festivities are interrupted when a humanoid alien named Raditz not only reveals the truth behind Gokuu\\'s past, but kidnaps Gohan as well.\", \\'\\\\n\\', \\'\\\\n\\', \\'\\\\n\\', \\'\\\\r\\\\nWith Raditz displaying power beyond anything Gokuu has seen before, he is forced to team up with his old nemesis, Piccolo, in order to rescue his son. But when Gokuu and Piccolo reveal the secret of the seven mystical wish-granting Dragon Balls to Raditz, he informs the duo that there is more of his race, the Saiyans, and they won’t pass up an opportunity to seize the power of the Dragon Balls for themselves.\\', \\'\\\\n\\', \\'\\\\n\\', \\'\\\\n\\', \\'\\\\r\\\\nThese events begin the saga of \\', <i>Dragon Ball Kai</i>, \\', a story that finds Gokuu and his friends and family constantly defending the galaxy from increasingly more powerful threats. Bizarre, comical, heartwarming and threatening characters come together in a series of battles that push the powers and abilities of Gokuu and his friends beyond anything they have ever experienced.\\']', 'https://myanimelist.net/anime/11755/009_Re_Cyborg\\n', 0.9805806756909202), (18503, 'Dragon Ball Super: Broly', '[\"Forty-one years ago on Planet Vegeta, home of the infamous Saiyan warrior race, King Vegeta noticed a baby named Broly whose latent power exceeded that of his own son. Believing that Broly\\'s power would one day surpass that of his child, Vegeta, the king sends Broly to the desolate planet Vampa. Broly\\'s father Paragus follows after him, intent on rescuing his son. However, his ship gets damaged, causing the two to spend years trapped on the barren world, unaware of the salvation that would one day come from an unlikely ally.\", \\'\\\\n\\', \\'\\\\n\\', \\'\\\\n\\', \\'\\\\r\\\\nYears later on Earth, Gokuu Son and Prince Vegeta—believed to be the last survivors of the Saiyan race—are busy training on a remote island. But their sparring is interrupted when the appearance of their old enemy Frieza drives them to search for the last of the wish-granting Dragon Balls on a frozen continent. Once there, Frieza shows off his new allies: Paragus and the now extremely powerful Broly. A legendary battle that shakes the foundation of the world ensues as Gokuu and Vegeta face off against Broly, a warrior without equal whose rage is just waiting to be unleashed.\\', \\'\\\\n\\', \\'\\\\n\\', \\'\\\\n\\', \\'\\\\r\\\\n[Written by MAL Rewrite]\\']', 'https://myanimelist.net/anime/2266/Gakuen_no_Shuryousha\\n', 0.9805806756909202)] \n",
      "\n",
      "[(18503, 'Dragon Ball Super: Broly', '[\"Forty-one years ago on Planet Vegeta, home of the infamous Saiyan warrior race, King Vegeta noticed a baby named Broly whose latent power exceeded that of his own son. Believing that Broly\\'s power would one day surpass that of his child, Vegeta, the king sends Broly to the desolate planet Vampa. Broly\\'s father Paragus follows after him, intent on rescuing his son. However, his ship gets damaged, causing the two to spend years trapped on the barren world, unaware of the salvation that would one day come from an unlikely ally.\", \\'\\\\n\\', \\'\\\\n\\', \\'\\\\n\\', \\'\\\\r\\\\nYears later on Earth, Gokuu Son and Prince Vegeta—believed to be the last survivors of the Saiyan race—are busy training on a remote island. But their sparring is interrupted when the appearance of their old enemy Frieza drives them to search for the last of the wish-granting Dragon Balls on a frozen continent. Once there, Frieza shows off his new allies: Paragus and the now extremely powerful Broly. A legendary battle that shakes the foundation of the world ensues as Gokuu and Vegeta face off against Broly, a warrior without equal whose rage is just waiting to be unleashed.\\', \\'\\\\n\\', \\'\\\\n\\', \\'\\\\n\\', \\'\\\\r\\\\n[Written by MAL Rewrite]\\']', 'https://myanimelist.net/anime/2266/Gakuen_no_Shuryousha\\n', 0.9805806756909202), (6185, 'Dragon Ball Kai', '[\"Five years after the events of Dragon Ball, martial arts expert Gokuu is now a grown man married to his wife Chi-Chi, with a four-year old son named Gohan. While attending a reunion on Turtle Island with his old friends Master Roshi, Krillin, Bulma and others, the festivities are interrupted when a humanoid alien named Raditz not only reveals the truth behind Gokuu\\'s past, but kidnaps Gohan as well.\", \\'\\\\n\\', \\'\\\\n\\', \\'\\\\n\\', \\'\\\\r\\\\nWith Raditz displaying power beyond anything Gokuu has seen before, he is forced to team up with his old nemesis, Piccolo, in order to rescue his son. But when Gokuu and Piccolo reveal the secret of the seven mystical wish-granting Dragon Balls to Raditz, he informs the duo that there is more of his race, the Saiyans, and they won’t pass up an opportunity to seize the power of the Dragon Balls for themselves.\\', \\'\\\\n\\', \\'\\\\n\\', \\'\\\\n\\', \\'\\\\r\\\\nThese events begin the saga of \\', <i>Dragon Ball Kai</i>, \\', a story that finds Gokuu and his friends and family constantly defending the galaxy from increasingly more powerful threats. Bizarre, comical, heartwarming and threatening characters come together in a series of battles that push the powers and abilities of Gokuu and his friends beyond anything they have ever experienced.\\']', 'https://myanimelist.net/anime/11755/009_Re_Cyborg\\n', 0.9805806756909202), (6185, 'Dragon Ball Kai', '[\"Five years after the events of Dragon Ball, martial arts expert Gokuu is now a grown man married to his wife Chi-Chi, with a four-year old son named Gohan. While attending a reunion on Turtle Island with his old friends Master Roshi, Krillin, Bulma and others, the festivities are interrupted when a humanoid alien named Raditz not only reveals the truth behind Gokuu\\'s past, but kidnaps Gohan as well.\", \\'\\\\n\\', \\'\\\\n\\', \\'\\\\n\\', \\'\\\\r\\\\nWith Raditz displaying power beyond anything Gokuu has seen before, he is forced to team up with his old nemesis, Piccolo, in order to rescue his son. But when Gokuu and Piccolo reveal the secret of the seven mystical wish-granting Dragon Balls to Raditz, he informs the duo that there is more of his race, the Saiyans, and they won’t pass up an opportunity to seize the power of the Dragon Balls for themselves.\\', \\'\\\\n\\', \\'\\\\n\\', \\'\\\\n\\', \\'\\\\r\\\\nThese events begin the saga of \\', <i>Dragon Ball Kai</i>, \\', a story that finds Gokuu and his friends and family constantly defending the galaxy from increasingly more powerful threats. Bizarre, comical, heartwarming and threatening characters come together in a series of battles that push the powers and abilities of Gokuu and his friends beyond anything they have ever experienced.\\']', 'https://myanimelist.net/anime/11755/009_Re_Cyborg\\n', 0.9805806756909202), (18503, 'Dragon Ball Super: Broly', '[\"Forty-one years ago on Planet Vegeta, home of the infamous Saiyan warrior race, King Vegeta noticed a baby named Broly whose latent power exceeded that of his own son. Believing that Broly\\'s power would one day surpass that of his child, Vegeta, the king sends Broly to the desolate planet Vampa. Broly\\'s father Paragus follows after him, intent on rescuing his son. However, his ship gets damaged, causing the two to spend years trapped on the barren world, unaware of the salvation that would one day come from an unlikely ally.\", \\'\\\\n\\', \\'\\\\n\\', \\'\\\\n\\', \\'\\\\r\\\\nYears later on Earth, Gokuu Son and Prince Vegeta—believed to be the last survivors of the Saiyan race—are busy training on a remote island. But their sparring is interrupted when the appearance of their old enemy Frieza drives them to search for the last of the wish-granting Dragon Balls on a frozen continent. Once there, Frieza shows off his new allies: Paragus and the now extremely powerful Broly. A legendary battle that shakes the foundation of the world ensues as Gokuu and Vegeta face off against Broly, a warrior without equal whose rage is just waiting to be unleashed.\\', \\'\\\\n\\', \\'\\\\n\\', \\'\\\\n\\', \\'\\\\r\\\\n[Written by MAL Rewrite]\\']', 'https://myanimelist.net/anime/2266/Gakuen_no_Shuryousha\\n', 0.9805806756909202), (11167, 'Dragon Ball Z Special 1: Tatta Hitori no Saishuu Kessen', '[\"Bardock, Son Goku\\'s father, is a low-ranking Saiyan soldier who was given the power to see into the future by the last remaining alien on a planet he just destroyed. He witnesses the destruction of his race and must now do his best to stop Frieza\\'s impending massacre.\", \\'\\\\n\\', \\'\\\\n\\', \\'\\\\n\\', \\'\\\\r\\\\n(Source: ANN)\\']', 'https://myanimelist.net/anime/8773/Nekko-kun\\n', 0.9578262852211514)] \n",
      "\n",
      "[(18503, 'Dragon Ball Super: Broly', '[\"Forty-one years ago on Planet Vegeta, home of the infamous Saiyan warrior race, King Vegeta noticed a baby named Broly whose latent power exceeded that of his own son. Believing that Broly\\'s power would one day surpass that of his child, Vegeta, the king sends Broly to the desolate planet Vampa. Broly\\'s father Paragus follows after him, intent on rescuing his son. However, his ship gets damaged, causing the two to spend years trapped on the barren world, unaware of the salvation that would one day come from an unlikely ally.\", \\'\\\\n\\', \\'\\\\n\\', \\'\\\\n\\', \\'\\\\r\\\\nYears later on Earth, Gokuu Son and Prince Vegeta—believed to be the last survivors of the Saiyan race—are busy training on a remote island. But their sparring is interrupted when the appearance of their old enemy Frieza drives them to search for the last of the wish-granting Dragon Balls on a frozen continent. Once there, Frieza shows off his new allies: Paragus and the now extremely powerful Broly. A legendary battle that shakes the foundation of the world ensues as Gokuu and Vegeta face off against Broly, a warrior without equal whose rage is just waiting to be unleashed.\\', \\'\\\\n\\', \\'\\\\n\\', \\'\\\\n\\', \\'\\\\r\\\\n[Written by MAL Rewrite]\\']', 'https://myanimelist.net/anime/2266/Gakuen_no_Shuryousha\\n', 0.9805806756909202), (6185, 'Dragon Ball Kai', '[\"Five years after the events of Dragon Ball, martial arts expert Gokuu is now a grown man married to his wife Chi-Chi, with a four-year old son named Gohan. While attending a reunion on Turtle Island with his old friends Master Roshi, Krillin, Bulma and others, the festivities are interrupted when a humanoid alien named Raditz not only reveals the truth behind Gokuu\\'s past, but kidnaps Gohan as well.\", \\'\\\\n\\', \\'\\\\n\\', \\'\\\\n\\', \\'\\\\r\\\\nWith Raditz displaying power beyond anything Gokuu has seen before, he is forced to team up with his old nemesis, Piccolo, in order to rescue his son. But when Gokuu and Piccolo reveal the secret of the seven mystical wish-granting Dragon Balls to Raditz, he informs the duo that there is more of his race, the Saiyans, and they won’t pass up an opportunity to seize the power of the Dragon Balls for themselves.\\', \\'\\\\n\\', \\'\\\\n\\', \\'\\\\n\\', \\'\\\\r\\\\nThese events begin the saga of \\', <i>Dragon Ball Kai</i>, \\', a story that finds Gokuu and his friends and family constantly defending the galaxy from increasingly more powerful threats. Bizarre, comical, heartwarming and threatening characters come together in a series of battles that push the powers and abilities of Gokuu and his friends beyond anything they have ever experienced.\\']', 'https://myanimelist.net/anime/11755/009_Re_Cyborg\\n', 0.9805806756909202), (6185, 'Dragon Ball Kai', '[\"Five years after the events of Dragon Ball, martial arts expert Gokuu is now a grown man married to his wife Chi-Chi, with a four-year old son named Gohan. While attending a reunion on Turtle Island with his old friends Master Roshi, Krillin, Bulma and others, the festivities are interrupted when a humanoid alien named Raditz not only reveals the truth behind Gokuu\\'s past, but kidnaps Gohan as well.\", \\'\\\\n\\', \\'\\\\n\\', \\'\\\\n\\', \\'\\\\r\\\\nWith Raditz displaying power beyond anything Gokuu has seen before, he is forced to team up with his old nemesis, Piccolo, in order to rescue his son. But when Gokuu and Piccolo reveal the secret of the seven mystical wish-granting Dragon Balls to Raditz, he informs the duo that there is more of his race, the Saiyans, and they won’t pass up an opportunity to seize the power of the Dragon Balls for themselves.\\', \\'\\\\n\\', \\'\\\\n\\', \\'\\\\n\\', \\'\\\\r\\\\nThese events begin the saga of \\', <i>Dragon Ball Kai</i>, \\', a story that finds Gokuu and his friends and family constantly defending the galaxy from increasingly more powerful threats. Bizarre, comical, heartwarming and threatening characters come together in a series of battles that push the powers and abilities of Gokuu and his friends beyond anything they have ever experienced.\\']', 'https://myanimelist.net/anime/11755/009_Re_Cyborg\\n', 0.9805806756909202), (18503, 'Dragon Ball Super: Broly', '[\"Forty-one years ago on Planet Vegeta, home of the infamous Saiyan warrior race, King Vegeta noticed a baby named Broly whose latent power exceeded that of his own son. Believing that Broly\\'s power would one day surpass that of his child, Vegeta, the king sends Broly to the desolate planet Vampa. Broly\\'s father Paragus follows after him, intent on rescuing his son. However, his ship gets damaged, causing the two to spend years trapped on the barren world, unaware of the salvation that would one day come from an unlikely ally.\", \\'\\\\n\\', \\'\\\\n\\', \\'\\\\n\\', \\'\\\\r\\\\nYears later on Earth, Gokuu Son and Prince Vegeta—believed to be the last survivors of the Saiyan race—are busy training on a remote island. But their sparring is interrupted when the appearance of their old enemy Frieza drives them to search for the last of the wish-granting Dragon Balls on a frozen continent. Once there, Frieza shows off his new allies: Paragus and the now extremely powerful Broly. A legendary battle that shakes the foundation of the world ensues as Gokuu and Vegeta face off against Broly, a warrior without equal whose rage is just waiting to be unleashed.\\', \\'\\\\n\\', \\'\\\\n\\', \\'\\\\n\\', \\'\\\\r\\\\n[Written by MAL Rewrite]\\']', 'https://myanimelist.net/anime/2266/Gakuen_no_Shuryousha\\n', 0.9805806756909202), (11167, 'Dragon Ball Z Special 1: Tatta Hitori no Saishuu Kessen', '[\"Bardock, Son Goku\\'s father, is a low-ranking Saiyan soldier who was given the power to see into the future by the last remaining alien on a planet he just destroyed. He witnesses the destruction of his race and must now do his best to stop Frieza\\'s impending massacre.\", \\'\\\\n\\', \\'\\\\n\\', \\'\\\\n\\', \\'\\\\r\\\\n(Source: ANN)\\']', 'https://myanimelist.net/anime/8773/Nekko-kun\\n', 0.9578262852211514), (11167, 'Dragon Ball Z Special 1: Tatta Hitori no Saishuu Kessen', '[\"Bardock, Son Goku\\'s father, is a low-ranking Saiyan soldier who was given the power to see into the future by the last remaining alien on a planet he just destroyed. He witnesses the destruction of his race and must now do his best to stop Frieza\\'s impending massacre.\", \\'\\\\n\\', \\'\\\\n\\', \\'\\\\n\\', \\'\\\\r\\\\n(Source: ANN)\\']', 'https://myanimelist.net/anime/8773/Nekko-kun\\n', 0.9578262852211514)] \n",
      "\n",
      "[(18503, 'Dragon Ball Super: Broly', '[\"Forty-one years ago on Planet Vegeta, home of the infamous Saiyan warrior race, King Vegeta noticed a baby named Broly whose latent power exceeded that of his own son. Believing that Broly\\'s power would one day surpass that of his child, Vegeta, the king sends Broly to the desolate planet Vampa. Broly\\'s father Paragus follows after him, intent on rescuing his son. However, his ship gets damaged, causing the two to spend years trapped on the barren world, unaware of the salvation that would one day come from an unlikely ally.\", \\'\\\\n\\', \\'\\\\n\\', \\'\\\\n\\', \\'\\\\r\\\\nYears later on Earth, Gokuu Son and Prince Vegeta—believed to be the last survivors of the Saiyan race—are busy training on a remote island. But their sparring is interrupted when the appearance of their old enemy Frieza drives them to search for the last of the wish-granting Dragon Balls on a frozen continent. Once there, Frieza shows off his new allies: Paragus and the now extremely powerful Broly. A legendary battle that shakes the foundation of the world ensues as Gokuu and Vegeta face off against Broly, a warrior without equal whose rage is just waiting to be unleashed.\\', \\'\\\\n\\', \\'\\\\n\\', \\'\\\\n\\', \\'\\\\r\\\\n[Written by MAL Rewrite]\\']', 'https://myanimelist.net/anime/2266/Gakuen_no_Shuryousha\\n', 0.9805806756909202), (6185, 'Dragon Ball Kai', '[\"Five years after the events of Dragon Ball, martial arts expert Gokuu is now a grown man married to his wife Chi-Chi, with a four-year old son named Gohan. While attending a reunion on Turtle Island with his old friends Master Roshi, Krillin, Bulma and others, the festivities are interrupted when a humanoid alien named Raditz not only reveals the truth behind Gokuu\\'s past, but kidnaps Gohan as well.\", \\'\\\\n\\', \\'\\\\n\\', \\'\\\\n\\', \\'\\\\r\\\\nWith Raditz displaying power beyond anything Gokuu has seen before, he is forced to team up with his old nemesis, Piccolo, in order to rescue his son. But when Gokuu and Piccolo reveal the secret of the seven mystical wish-granting Dragon Balls to Raditz, he informs the duo that there is more of his race, the Saiyans, and they won’t pass up an opportunity to seize the power of the Dragon Balls for themselves.\\', \\'\\\\n\\', \\'\\\\n\\', \\'\\\\n\\', \\'\\\\r\\\\nThese events begin the saga of \\', <i>Dragon Ball Kai</i>, \\', a story that finds Gokuu and his friends and family constantly defending the galaxy from increasingly more powerful threats. Bizarre, comical, heartwarming and threatening characters come together in a series of battles that push the powers and abilities of Gokuu and his friends beyond anything they have ever experienced.\\']', 'https://myanimelist.net/anime/11755/009_Re_Cyborg\\n', 0.9805806756909202), (6185, 'Dragon Ball Kai', '[\"Five years after the events of Dragon Ball, martial arts expert Gokuu is now a grown man married to his wife Chi-Chi, with a four-year old son named Gohan. While attending a reunion on Turtle Island with his old friends Master Roshi, Krillin, Bulma and others, the festivities are interrupted when a humanoid alien named Raditz not only reveals the truth behind Gokuu\\'s past, but kidnaps Gohan as well.\", \\'\\\\n\\', \\'\\\\n\\', \\'\\\\n\\', \\'\\\\r\\\\nWith Raditz displaying power beyond anything Gokuu has seen before, he is forced to team up with his old nemesis, Piccolo, in order to rescue his son. But when Gokuu and Piccolo reveal the secret of the seven mystical wish-granting Dragon Balls to Raditz, he informs the duo that there is more of his race, the Saiyans, and they won’t pass up an opportunity to seize the power of the Dragon Balls for themselves.\\', \\'\\\\n\\', \\'\\\\n\\', \\'\\\\n\\', \\'\\\\r\\\\nThese events begin the saga of \\', <i>Dragon Ball Kai</i>, \\', a story that finds Gokuu and his friends and family constantly defending the galaxy from increasingly more powerful threats. Bizarre, comical, heartwarming and threatening characters come together in a series of battles that push the powers and abilities of Gokuu and his friends beyond anything they have ever experienced.\\']', 'https://myanimelist.net/anime/11755/009_Re_Cyborg\\n', 0.9805806756909202), (18503, 'Dragon Ball Super: Broly', '[\"Forty-one years ago on Planet Vegeta, home of the infamous Saiyan warrior race, King Vegeta noticed a baby named Broly whose latent power exceeded that of his own son. Believing that Broly\\'s power would one day surpass that of his child, Vegeta, the king sends Broly to the desolate planet Vampa. Broly\\'s father Paragus follows after him, intent on rescuing his son. However, his ship gets damaged, causing the two to spend years trapped on the barren world, unaware of the salvation that would one day come from an unlikely ally.\", \\'\\\\n\\', \\'\\\\n\\', \\'\\\\n\\', \\'\\\\r\\\\nYears later on Earth, Gokuu Son and Prince Vegeta—believed to be the last survivors of the Saiyan race—are busy training on a remote island. But their sparring is interrupted when the appearance of their old enemy Frieza drives them to search for the last of the wish-granting Dragon Balls on a frozen continent. Once there, Frieza shows off his new allies: Paragus and the now extremely powerful Broly. A legendary battle that shakes the foundation of the world ensues as Gokuu and Vegeta face off against Broly, a warrior without equal whose rage is just waiting to be unleashed.\\', \\'\\\\n\\', \\'\\\\n\\', \\'\\\\n\\', \\'\\\\r\\\\n[Written by MAL Rewrite]\\']', 'https://myanimelist.net/anime/2266/Gakuen_no_Shuryousha\\n', 0.9805806756909202), (11167, 'Dragon Ball Z Special 1: Tatta Hitori no Saishuu Kessen', '[\"Bardock, Son Goku\\'s father, is a low-ranking Saiyan soldier who was given the power to see into the future by the last remaining alien on a planet he just destroyed. He witnesses the destruction of his race and must now do his best to stop Frieza\\'s impending massacre.\", \\'\\\\n\\', \\'\\\\n\\', \\'\\\\n\\', \\'\\\\r\\\\n(Source: ANN)\\']', 'https://myanimelist.net/anime/8773/Nekko-kun\\n', 0.9578262852211514), (11167, 'Dragon Ball Z Special 1: Tatta Hitori no Saishuu Kessen', '[\"Bardock, Son Goku\\'s father, is a low-ranking Saiyan soldier who was given the power to see into the future by the last remaining alien on a planet he just destroyed. He witnesses the destruction of his race and must now do his best to stop Frieza\\'s impending massacre.\", \\'\\\\n\\', \\'\\\\n\\', \\'\\\\n\\', \\'\\\\r\\\\n(Source: ANN)\\']', 'https://myanimelist.net/anime/8773/Nekko-kun\\n', 0.9578262852211514), (17967, 'Dragon Ball Z', '[\"Five years after winning the World Martial Arts tournament, Gokuu is now living a peaceful life with his wife and son. This changes, however, with the arrival of a mysterious enemy named Raditz who presents himself as Gokuu\\'s long-lost brother. He reveals that Gokuu is a warrior from the once powerful but now virtually extinct Saiyan race, whose homeworld was completely annihilated. When he was sent to Earth as a baby, Gokuu\\'s sole purpose was to conquer and destroy the planet; but after suffering amnesia from a head injury, his violent and savage nature changed, and instead was raised as a kind and well-mannered boy, now fighting to protect others.\", \\'\\\\n\\', \\'\\\\n\\', \\'\\\\n\\', \"\\\\r\\\\nWith his failed attempt at forcibly recruiting Gokuu as an ally, Raditz warns Gokuu\\'s friends of a new threat that\\'s rapidly approaching Earth—one that could plunge Earth into an intergalactic conflict and cause the heavens themselves to shake. A war will be fought over the seven mystical dragon balls, and only the strongest will survive in \", <i>Dragon Ball Z</i>, \\'.\\', \\'\\\\n\\', \\'\\\\n\\', \\'\\\\n\\', \\'\\\\r\\\\n[Written by MAL Rewrite]\\']', 'https://myanimelist.net/anime/10695/Yume_Kui__Tsurumiku_Shiki_Game_Seisaku\\n', 0.9486832980505137)] \n",
      "\n",
      "[(18503, 'Dragon Ball Super: Broly', '[\"Forty-one years ago on Planet Vegeta, home of the infamous Saiyan warrior race, King Vegeta noticed a baby named Broly whose latent power exceeded that of his own son. Believing that Broly\\'s power would one day surpass that of his child, Vegeta, the king sends Broly to the desolate planet Vampa. Broly\\'s father Paragus follows after him, intent on rescuing his son. However, his ship gets damaged, causing the two to spend years trapped on the barren world, unaware of the salvation that would one day come from an unlikely ally.\", \\'\\\\n\\', \\'\\\\n\\', \\'\\\\n\\', \\'\\\\r\\\\nYears later on Earth, Gokuu Son and Prince Vegeta—believed to be the last survivors of the Saiyan race—are busy training on a remote island. But their sparring is interrupted when the appearance of their old enemy Frieza drives them to search for the last of the wish-granting Dragon Balls on a frozen continent. Once there, Frieza shows off his new allies: Paragus and the now extremely powerful Broly. A legendary battle that shakes the foundation of the world ensues as Gokuu and Vegeta face off against Broly, a warrior without equal whose rage is just waiting to be unleashed.\\', \\'\\\\n\\', \\'\\\\n\\', \\'\\\\n\\', \\'\\\\r\\\\n[Written by MAL Rewrite]\\']', 'https://myanimelist.net/anime/2266/Gakuen_no_Shuryousha\\n', 0.9805806756909202), (6185, 'Dragon Ball Kai', '[\"Five years after the events of Dragon Ball, martial arts expert Gokuu is now a grown man married to his wife Chi-Chi, with a four-year old son named Gohan. While attending a reunion on Turtle Island with his old friends Master Roshi, Krillin, Bulma and others, the festivities are interrupted when a humanoid alien named Raditz not only reveals the truth behind Gokuu\\'s past, but kidnaps Gohan as well.\", \\'\\\\n\\', \\'\\\\n\\', \\'\\\\n\\', \\'\\\\r\\\\nWith Raditz displaying power beyond anything Gokuu has seen before, he is forced to team up with his old nemesis, Piccolo, in order to rescue his son. But when Gokuu and Piccolo reveal the secret of the seven mystical wish-granting Dragon Balls to Raditz, he informs the duo that there is more of his race, the Saiyans, and they won’t pass up an opportunity to seize the power of the Dragon Balls for themselves.\\', \\'\\\\n\\', \\'\\\\n\\', \\'\\\\n\\', \\'\\\\r\\\\nThese events begin the saga of \\', <i>Dragon Ball Kai</i>, \\', a story that finds Gokuu and his friends and family constantly defending the galaxy from increasingly more powerful threats. Bizarre, comical, heartwarming and threatening characters come together in a series of battles that push the powers and abilities of Gokuu and his friends beyond anything they have ever experienced.\\']', 'https://myanimelist.net/anime/11755/009_Re_Cyborg\\n', 0.9805806756909202), (6185, 'Dragon Ball Kai', '[\"Five years after the events of Dragon Ball, martial arts expert Gokuu is now a grown man married to his wife Chi-Chi, with a four-year old son named Gohan. While attending a reunion on Turtle Island with his old friends Master Roshi, Krillin, Bulma and others, the festivities are interrupted when a humanoid alien named Raditz not only reveals the truth behind Gokuu\\'s past, but kidnaps Gohan as well.\", \\'\\\\n\\', \\'\\\\n\\', \\'\\\\n\\', \\'\\\\r\\\\nWith Raditz displaying power beyond anything Gokuu has seen before, he is forced to team up with his old nemesis, Piccolo, in order to rescue his son. But when Gokuu and Piccolo reveal the secret of the seven mystical wish-granting Dragon Balls to Raditz, he informs the duo that there is more of his race, the Saiyans, and they won’t pass up an opportunity to seize the power of the Dragon Balls for themselves.\\', \\'\\\\n\\', \\'\\\\n\\', \\'\\\\n\\', \\'\\\\r\\\\nThese events begin the saga of \\', <i>Dragon Ball Kai</i>, \\', a story that finds Gokuu and his friends and family constantly defending the galaxy from increasingly more powerful threats. Bizarre, comical, heartwarming and threatening characters come together in a series of battles that push the powers and abilities of Gokuu and his friends beyond anything they have ever experienced.\\']', 'https://myanimelist.net/anime/11755/009_Re_Cyborg\\n', 0.9805806756909202), (18503, 'Dragon Ball Super: Broly', '[\"Forty-one years ago on Planet Vegeta, home of the infamous Saiyan warrior race, King Vegeta noticed a baby named Broly whose latent power exceeded that of his own son. Believing that Broly\\'s power would one day surpass that of his child, Vegeta, the king sends Broly to the desolate planet Vampa. Broly\\'s father Paragus follows after him, intent on rescuing his son. However, his ship gets damaged, causing the two to spend years trapped on the barren world, unaware of the salvation that would one day come from an unlikely ally.\", \\'\\\\n\\', \\'\\\\n\\', \\'\\\\n\\', \\'\\\\r\\\\nYears later on Earth, Gokuu Son and Prince Vegeta—believed to be the last survivors of the Saiyan race—are busy training on a remote island. But their sparring is interrupted when the appearance of their old enemy Frieza drives them to search for the last of the wish-granting Dragon Balls on a frozen continent. Once there, Frieza shows off his new allies: Paragus and the now extremely powerful Broly. A legendary battle that shakes the foundation of the world ensues as Gokuu and Vegeta face off against Broly, a warrior without equal whose rage is just waiting to be unleashed.\\', \\'\\\\n\\', \\'\\\\n\\', \\'\\\\n\\', \\'\\\\r\\\\n[Written by MAL Rewrite]\\']', 'https://myanimelist.net/anime/2266/Gakuen_no_Shuryousha\\n', 0.9805806756909202), (11167, 'Dragon Ball Z Special 1: Tatta Hitori no Saishuu Kessen', '[\"Bardock, Son Goku\\'s father, is a low-ranking Saiyan soldier who was given the power to see into the future by the last remaining alien on a planet he just destroyed. He witnesses the destruction of his race and must now do his best to stop Frieza\\'s impending massacre.\", \\'\\\\n\\', \\'\\\\n\\', \\'\\\\n\\', \\'\\\\r\\\\n(Source: ANN)\\']', 'https://myanimelist.net/anime/8773/Nekko-kun\\n', 0.9578262852211514), (11167, 'Dragon Ball Z Special 1: Tatta Hitori no Saishuu Kessen', '[\"Bardock, Son Goku\\'s father, is a low-ranking Saiyan soldier who was given the power to see into the future by the last remaining alien on a planet he just destroyed. He witnesses the destruction of his race and must now do his best to stop Frieza\\'s impending massacre.\", \\'\\\\n\\', \\'\\\\n\\', \\'\\\\n\\', \\'\\\\r\\\\n(Source: ANN)\\']', 'https://myanimelist.net/anime/8773/Nekko-kun\\n', 0.9578262852211514), (17967, 'Dragon Ball Z', '[\"Five years after winning the World Martial Arts tournament, Gokuu is now living a peaceful life with his wife and son. This changes, however, with the arrival of a mysterious enemy named Raditz who presents himself as Gokuu\\'s long-lost brother. He reveals that Gokuu is a warrior from the once powerful but now virtually extinct Saiyan race, whose homeworld was completely annihilated. When he was sent to Earth as a baby, Gokuu\\'s sole purpose was to conquer and destroy the planet; but after suffering amnesia from a head injury, his violent and savage nature changed, and instead was raised as a kind and well-mannered boy, now fighting to protect others.\", \\'\\\\n\\', \\'\\\\n\\', \\'\\\\n\\', \"\\\\r\\\\nWith his failed attempt at forcibly recruiting Gokuu as an ally, Raditz warns Gokuu\\'s friends of a new threat that\\'s rapidly approaching Earth—one that could plunge Earth into an intergalactic conflict and cause the heavens themselves to shake. A war will be fought over the seven mystical dragon balls, and only the strongest will survive in \", <i>Dragon Ball Z</i>, \\'.\\', \\'\\\\n\\', \\'\\\\n\\', \\'\\\\n\\', \\'\\\\r\\\\n[Written by MAL Rewrite]\\']', 'https://myanimelist.net/anime/10695/Yume_Kui__Tsurumiku_Shiki_Game_Seisaku\\n', 0.9486832980505137), (17967, 'Dragon Ball Z', '[\"Five years after winning the World Martial Arts tournament, Gokuu is now living a peaceful life with his wife and son. This changes, however, with the arrival of a mysterious enemy named Raditz who presents himself as Gokuu\\'s long-lost brother. He reveals that Gokuu is a warrior from the once powerful but now virtually extinct Saiyan race, whose homeworld was completely annihilated. When he was sent to Earth as a baby, Gokuu\\'s sole purpose was to conquer and destroy the planet; but after suffering amnesia from a head injury, his violent and savage nature changed, and instead was raised as a kind and well-mannered boy, now fighting to protect others.\", \\'\\\\n\\', \\'\\\\n\\', \\'\\\\n\\', \"\\\\r\\\\nWith his failed attempt at forcibly recruiting Gokuu as an ally, Raditz warns Gokuu\\'s friends of a new threat that\\'s rapidly approaching Earth—one that could plunge Earth into an intergalactic conflict and cause the heavens themselves to shake. A war will be fought over the seven mystical dragon balls, and only the strongest will survive in \", <i>Dragon Ball Z</i>, \\'.\\', \\'\\\\n\\', \\'\\\\n\\', \\'\\\\n\\', \\'\\\\r\\\\n[Written by MAL Rewrite]\\']', 'https://myanimelist.net/anime/10695/Yume_Kui__Tsurumiku_Shiki_Game_Seisaku\\n', 0.9486832980505137)] \n",
      "\n",
      "[(18503, 'Dragon Ball Super: Broly', '[\"Forty-one years ago on Planet Vegeta, home of the infamous Saiyan warrior race, King Vegeta noticed a baby named Broly whose latent power exceeded that of his own son. Believing that Broly\\'s power would one day surpass that of his child, Vegeta, the king sends Broly to the desolate planet Vampa. Broly\\'s father Paragus follows after him, intent on rescuing his son. However, his ship gets damaged, causing the two to spend years trapped on the barren world, unaware of the salvation that would one day come from an unlikely ally.\", \\'\\\\n\\', \\'\\\\n\\', \\'\\\\n\\', \\'\\\\r\\\\nYears later on Earth, Gokuu Son and Prince Vegeta—believed to be the last survivors of the Saiyan race—are busy training on a remote island. But their sparring is interrupted when the appearance of their old enemy Frieza drives them to search for the last of the wish-granting Dragon Balls on a frozen continent. Once there, Frieza shows off his new allies: Paragus and the now extremely powerful Broly. A legendary battle that shakes the foundation of the world ensues as Gokuu and Vegeta face off against Broly, a warrior without equal whose rage is just waiting to be unleashed.\\', \\'\\\\n\\', \\'\\\\n\\', \\'\\\\n\\', \\'\\\\r\\\\n[Written by MAL Rewrite]\\']', 'https://myanimelist.net/anime/2266/Gakuen_no_Shuryousha\\n', 0.9805806756909202), (6185, 'Dragon Ball Kai', '[\"Five years after the events of Dragon Ball, martial arts expert Gokuu is now a grown man married to his wife Chi-Chi, with a four-year old son named Gohan. While attending a reunion on Turtle Island with his old friends Master Roshi, Krillin, Bulma and others, the festivities are interrupted when a humanoid alien named Raditz not only reveals the truth behind Gokuu\\'s past, but kidnaps Gohan as well.\", \\'\\\\n\\', \\'\\\\n\\', \\'\\\\n\\', \\'\\\\r\\\\nWith Raditz displaying power beyond anything Gokuu has seen before, he is forced to team up with his old nemesis, Piccolo, in order to rescue his son. But when Gokuu and Piccolo reveal the secret of the seven mystical wish-granting Dragon Balls to Raditz, he informs the duo that there is more of his race, the Saiyans, and they won’t pass up an opportunity to seize the power of the Dragon Balls for themselves.\\', \\'\\\\n\\', \\'\\\\n\\', \\'\\\\n\\', \\'\\\\r\\\\nThese events begin the saga of \\', <i>Dragon Ball Kai</i>, \\', a story that finds Gokuu and his friends and family constantly defending the galaxy from increasingly more powerful threats. Bizarre, comical, heartwarming and threatening characters come together in a series of battles that push the powers and abilities of Gokuu and his friends beyond anything they have ever experienced.\\']', 'https://myanimelist.net/anime/11755/009_Re_Cyborg\\n', 0.9805806756909202), (6185, 'Dragon Ball Kai', '[\"Five years after the events of Dragon Ball, martial arts expert Gokuu is now a grown man married to his wife Chi-Chi, with a four-year old son named Gohan. While attending a reunion on Turtle Island with his old friends Master Roshi, Krillin, Bulma and others, the festivities are interrupted when a humanoid alien named Raditz not only reveals the truth behind Gokuu\\'s past, but kidnaps Gohan as well.\", \\'\\\\n\\', \\'\\\\n\\', \\'\\\\n\\', \\'\\\\r\\\\nWith Raditz displaying power beyond anything Gokuu has seen before, he is forced to team up with his old nemesis, Piccolo, in order to rescue his son. But when Gokuu and Piccolo reveal the secret of the seven mystical wish-granting Dragon Balls to Raditz, he informs the duo that there is more of his race, the Saiyans, and they won’t pass up an opportunity to seize the power of the Dragon Balls for themselves.\\', \\'\\\\n\\', \\'\\\\n\\', \\'\\\\n\\', \\'\\\\r\\\\nThese events begin the saga of \\', <i>Dragon Ball Kai</i>, \\', a story that finds Gokuu and his friends and family constantly defending the galaxy from increasingly more powerful threats. Bizarre, comical, heartwarming and threatening characters come together in a series of battles that push the powers and abilities of Gokuu and his friends beyond anything they have ever experienced.\\']', 'https://myanimelist.net/anime/11755/009_Re_Cyborg\\n', 0.9805806756909202), (18503, 'Dragon Ball Super: Broly', '[\"Forty-one years ago on Planet Vegeta, home of the infamous Saiyan warrior race, King Vegeta noticed a baby named Broly whose latent power exceeded that of his own son. Believing that Broly\\'s power would one day surpass that of his child, Vegeta, the king sends Broly to the desolate planet Vampa. Broly\\'s father Paragus follows after him, intent on rescuing his son. However, his ship gets damaged, causing the two to spend years trapped on the barren world, unaware of the salvation that would one day come from an unlikely ally.\", \\'\\\\n\\', \\'\\\\n\\', \\'\\\\n\\', \\'\\\\r\\\\nYears later on Earth, Gokuu Son and Prince Vegeta—believed to be the last survivors of the Saiyan race—are busy training on a remote island. But their sparring is interrupted when the appearance of their old enemy Frieza drives them to search for the last of the wish-granting Dragon Balls on a frozen continent. Once there, Frieza shows off his new allies: Paragus and the now extremely powerful Broly. A legendary battle that shakes the foundation of the world ensues as Gokuu and Vegeta face off against Broly, a warrior without equal whose rage is just waiting to be unleashed.\\', \\'\\\\n\\', \\'\\\\n\\', \\'\\\\n\\', \\'\\\\r\\\\n[Written by MAL Rewrite]\\']', 'https://myanimelist.net/anime/2266/Gakuen_no_Shuryousha\\n', 0.9805806756909202), (11167, 'Dragon Ball Z Special 1: Tatta Hitori no Saishuu Kessen', '[\"Bardock, Son Goku\\'s father, is a low-ranking Saiyan soldier who was given the power to see into the future by the last remaining alien on a planet he just destroyed. He witnesses the destruction of his race and must now do his best to stop Frieza\\'s impending massacre.\", \\'\\\\n\\', \\'\\\\n\\', \\'\\\\n\\', \\'\\\\r\\\\n(Source: ANN)\\']', 'https://myanimelist.net/anime/8773/Nekko-kun\\n', 0.9578262852211514), (11167, 'Dragon Ball Z Special 1: Tatta Hitori no Saishuu Kessen', '[\"Bardock, Son Goku\\'s father, is a low-ranking Saiyan soldier who was given the power to see into the future by the last remaining alien on a planet he just destroyed. He witnesses the destruction of his race and must now do his best to stop Frieza\\'s impending massacre.\", \\'\\\\n\\', \\'\\\\n\\', \\'\\\\n\\', \\'\\\\r\\\\n(Source: ANN)\\']', 'https://myanimelist.net/anime/8773/Nekko-kun\\n', 0.9578262852211514), (17967, 'Dragon Ball Z', '[\"Five years after winning the World Martial Arts tournament, Gokuu is now living a peaceful life with his wife and son. This changes, however, with the arrival of a mysterious enemy named Raditz who presents himself as Gokuu\\'s long-lost brother. He reveals that Gokuu is a warrior from the once powerful but now virtually extinct Saiyan race, whose homeworld was completely annihilated. When he was sent to Earth as a baby, Gokuu\\'s sole purpose was to conquer and destroy the planet; but after suffering amnesia from a head injury, his violent and savage nature changed, and instead was raised as a kind and well-mannered boy, now fighting to protect others.\", \\'\\\\n\\', \\'\\\\n\\', \\'\\\\n\\', \"\\\\r\\\\nWith his failed attempt at forcibly recruiting Gokuu as an ally, Raditz warns Gokuu\\'s friends of a new threat that\\'s rapidly approaching Earth—one that could plunge Earth into an intergalactic conflict and cause the heavens themselves to shake. A war will be fought over the seven mystical dragon balls, and only the strongest will survive in \", <i>Dragon Ball Z</i>, \\'.\\', \\'\\\\n\\', \\'\\\\n\\', \\'\\\\n\\', \\'\\\\r\\\\n[Written by MAL Rewrite]\\']', 'https://myanimelist.net/anime/10695/Yume_Kui__Tsurumiku_Shiki_Game_Seisaku\\n', 0.9486832980505137), (17967, 'Dragon Ball Z', '[\"Five years after winning the World Martial Arts tournament, Gokuu is now living a peaceful life with his wife and son. This changes, however, with the arrival of a mysterious enemy named Raditz who presents himself as Gokuu\\'s long-lost brother. He reveals that Gokuu is a warrior from the once powerful but now virtually extinct Saiyan race, whose homeworld was completely annihilated. When he was sent to Earth as a baby, Gokuu\\'s sole purpose was to conquer and destroy the planet; but after suffering amnesia from a head injury, his violent and savage nature changed, and instead was raised as a kind and well-mannered boy, now fighting to protect others.\", \\'\\\\n\\', \\'\\\\n\\', \\'\\\\n\\', \"\\\\r\\\\nWith his failed attempt at forcibly recruiting Gokuu as an ally, Raditz warns Gokuu\\'s friends of a new threat that\\'s rapidly approaching Earth—one that could plunge Earth into an intergalactic conflict and cause the heavens themselves to shake. A war will be fought over the seven mystical dragon balls, and only the strongest will survive in \", <i>Dragon Ball Z</i>, \\'.\\', \\'\\\\n\\', \\'\\\\n\\', \\'\\\\n\\', \\'\\\\r\\\\n[Written by MAL Rewrite]\\']', 'https://myanimelist.net/anime/10695/Yume_Kui__Tsurumiku_Shiki_Game_Seisaku\\n', 0.9486832980505137), (18795, \"Bakusou Kyoudai Let's & Go\", '[\\'Based on the manga by Tetsuhiro Koshita, \\', <i>Bakusou Kyoudai Let\\'s &amp; Go!!</i>, \\' has two main seasons evolving around the Go brothers and the TRF Victorys. The third season, \\', <i>Bakusou Kyoudai Let\\'s &amp; Go!! MAX</i>, \\' evolves more around two new main characters, but the primary idea is the same... Racing!\\', \\'\\\\n\\', \\'\\\\n\\', \\'\\\\n\\', \\'\\\\n\\', <i>Let\\'s &amp; Go!!</i>, \\' focuses on Retsu and Go Seiba, two young brothers who receive racing cars called \"Mini 4WD\" by Dr. Tsuchia. From there on, the series portraits those two boys, training and customizing parts to later on participate on Japans Cup, where all of Japan\\\\\\'s racers enter to be the best of the best!\\']', 'https://myanimelist.net/anime/3380/Hana_Dorei\\n', 0.7071067811865476)] \n",
      "\n",
      "[(18503, 'Dragon Ball Super: Broly', '[\"Forty-one years ago on Planet Vegeta, home of the infamous Saiyan warrior race, King Vegeta noticed a baby named Broly whose latent power exceeded that of his own son. Believing that Broly\\'s power would one day surpass that of his child, Vegeta, the king sends Broly to the desolate planet Vampa. Broly\\'s father Paragus follows after him, intent on rescuing his son. However, his ship gets damaged, causing the two to spend years trapped on the barren world, unaware of the salvation that would one day come from an unlikely ally.\", \\'\\\\n\\', \\'\\\\n\\', \\'\\\\n\\', \\'\\\\r\\\\nYears later on Earth, Gokuu Son and Prince Vegeta—believed to be the last survivors of the Saiyan race—are busy training on a remote island. But their sparring is interrupted when the appearance of their old enemy Frieza drives them to search for the last of the wish-granting Dragon Balls on a frozen continent. Once there, Frieza shows off his new allies: Paragus and the now extremely powerful Broly. A legendary battle that shakes the foundation of the world ensues as Gokuu and Vegeta face off against Broly, a warrior without equal whose rage is just waiting to be unleashed.\\', \\'\\\\n\\', \\'\\\\n\\', \\'\\\\n\\', \\'\\\\r\\\\n[Written by MAL Rewrite]\\']', 'https://myanimelist.net/anime/2266/Gakuen_no_Shuryousha\\n', 0.9805806756909202), (6185, 'Dragon Ball Kai', '[\"Five years after the events of Dragon Ball, martial arts expert Gokuu is now a grown man married to his wife Chi-Chi, with a four-year old son named Gohan. While attending a reunion on Turtle Island with his old friends Master Roshi, Krillin, Bulma and others, the festivities are interrupted when a humanoid alien named Raditz not only reveals the truth behind Gokuu\\'s past, but kidnaps Gohan as well.\", \\'\\\\n\\', \\'\\\\n\\', \\'\\\\n\\', \\'\\\\r\\\\nWith Raditz displaying power beyond anything Gokuu has seen before, he is forced to team up with his old nemesis, Piccolo, in order to rescue his son. But when Gokuu and Piccolo reveal the secret of the seven mystical wish-granting Dragon Balls to Raditz, he informs the duo that there is more of his race, the Saiyans, and they won’t pass up an opportunity to seize the power of the Dragon Balls for themselves.\\', \\'\\\\n\\', \\'\\\\n\\', \\'\\\\n\\', \\'\\\\r\\\\nThese events begin the saga of \\', <i>Dragon Ball Kai</i>, \\', a story that finds Gokuu and his friends and family constantly defending the galaxy from increasingly more powerful threats. Bizarre, comical, heartwarming and threatening characters come together in a series of battles that push the powers and abilities of Gokuu and his friends beyond anything they have ever experienced.\\']', 'https://myanimelist.net/anime/11755/009_Re_Cyborg\\n', 0.9805806756909202), (6185, 'Dragon Ball Kai', '[\"Five years after the events of Dragon Ball, martial arts expert Gokuu is now a grown man married to his wife Chi-Chi, with a four-year old son named Gohan. While attending a reunion on Turtle Island with his old friends Master Roshi, Krillin, Bulma and others, the festivities are interrupted when a humanoid alien named Raditz not only reveals the truth behind Gokuu\\'s past, but kidnaps Gohan as well.\", \\'\\\\n\\', \\'\\\\n\\', \\'\\\\n\\', \\'\\\\r\\\\nWith Raditz displaying power beyond anything Gokuu has seen before, he is forced to team up with his old nemesis, Piccolo, in order to rescue his son. But when Gokuu and Piccolo reveal the secret of the seven mystical wish-granting Dragon Balls to Raditz, he informs the duo that there is more of his race, the Saiyans, and they won’t pass up an opportunity to seize the power of the Dragon Balls for themselves.\\', \\'\\\\n\\', \\'\\\\n\\', \\'\\\\n\\', \\'\\\\r\\\\nThese events begin the saga of \\', <i>Dragon Ball Kai</i>, \\', a story that finds Gokuu and his friends and family constantly defending the galaxy from increasingly more powerful threats. Bizarre, comical, heartwarming and threatening characters come together in a series of battles that push the powers and abilities of Gokuu and his friends beyond anything they have ever experienced.\\']', 'https://myanimelist.net/anime/11755/009_Re_Cyborg\\n', 0.9805806756909202), (18503, 'Dragon Ball Super: Broly', '[\"Forty-one years ago on Planet Vegeta, home of the infamous Saiyan warrior race, King Vegeta noticed a baby named Broly whose latent power exceeded that of his own son. Believing that Broly\\'s power would one day surpass that of his child, Vegeta, the king sends Broly to the desolate planet Vampa. Broly\\'s father Paragus follows after him, intent on rescuing his son. However, his ship gets damaged, causing the two to spend years trapped on the barren world, unaware of the salvation that would one day come from an unlikely ally.\", \\'\\\\n\\', \\'\\\\n\\', \\'\\\\n\\', \\'\\\\r\\\\nYears later on Earth, Gokuu Son and Prince Vegeta—believed to be the last survivors of the Saiyan race—are busy training on a remote island. But their sparring is interrupted when the appearance of their old enemy Frieza drives them to search for the last of the wish-granting Dragon Balls on a frozen continent. Once there, Frieza shows off his new allies: Paragus and the now extremely powerful Broly. A legendary battle that shakes the foundation of the world ensues as Gokuu and Vegeta face off against Broly, a warrior without equal whose rage is just waiting to be unleashed.\\', \\'\\\\n\\', \\'\\\\n\\', \\'\\\\n\\', \\'\\\\r\\\\n[Written by MAL Rewrite]\\']', 'https://myanimelist.net/anime/2266/Gakuen_no_Shuryousha\\n', 0.9805806756909202), (11167, 'Dragon Ball Z Special 1: Tatta Hitori no Saishuu Kessen', '[\"Bardock, Son Goku\\'s father, is a low-ranking Saiyan soldier who was given the power to see into the future by the last remaining alien on a planet he just destroyed. He witnesses the destruction of his race and must now do his best to stop Frieza\\'s impending massacre.\", \\'\\\\n\\', \\'\\\\n\\', \\'\\\\n\\', \\'\\\\r\\\\n(Source: ANN)\\']', 'https://myanimelist.net/anime/8773/Nekko-kun\\n', 0.9578262852211514), (11167, 'Dragon Ball Z Special 1: Tatta Hitori no Saishuu Kessen', '[\"Bardock, Son Goku\\'s father, is a low-ranking Saiyan soldier who was given the power to see into the future by the last remaining alien on a planet he just destroyed. He witnesses the destruction of his race and must now do his best to stop Frieza\\'s impending massacre.\", \\'\\\\n\\', \\'\\\\n\\', \\'\\\\n\\', \\'\\\\r\\\\n(Source: ANN)\\']', 'https://myanimelist.net/anime/8773/Nekko-kun\\n', 0.9578262852211514), (17967, 'Dragon Ball Z', '[\"Five years after winning the World Martial Arts tournament, Gokuu is now living a peaceful life with his wife and son. This changes, however, with the arrival of a mysterious enemy named Raditz who presents himself as Gokuu\\'s long-lost brother. He reveals that Gokuu is a warrior from the once powerful but now virtually extinct Saiyan race, whose homeworld was completely annihilated. When he was sent to Earth as a baby, Gokuu\\'s sole purpose was to conquer and destroy the planet; but after suffering amnesia from a head injury, his violent and savage nature changed, and instead was raised as a kind and well-mannered boy, now fighting to protect others.\", \\'\\\\n\\', \\'\\\\n\\', \\'\\\\n\\', \"\\\\r\\\\nWith his failed attempt at forcibly recruiting Gokuu as an ally, Raditz warns Gokuu\\'s friends of a new threat that\\'s rapidly approaching Earth—one that could plunge Earth into an intergalactic conflict and cause the heavens themselves to shake. A war will be fought over the seven mystical dragon balls, and only the strongest will survive in \", <i>Dragon Ball Z</i>, \\'.\\', \\'\\\\n\\', \\'\\\\n\\', \\'\\\\n\\', \\'\\\\r\\\\n[Written by MAL Rewrite]\\']', 'https://myanimelist.net/anime/10695/Yume_Kui__Tsurumiku_Shiki_Game_Seisaku\\n', 0.9486832980505137), (17967, 'Dragon Ball Z', '[\"Five years after winning the World Martial Arts tournament, Gokuu is now living a peaceful life with his wife and son. This changes, however, with the arrival of a mysterious enemy named Raditz who presents himself as Gokuu\\'s long-lost brother. He reveals that Gokuu is a warrior from the once powerful but now virtually extinct Saiyan race, whose homeworld was completely annihilated. When he was sent to Earth as a baby, Gokuu\\'s sole purpose was to conquer and destroy the planet; but after suffering amnesia from a head injury, his violent and savage nature changed, and instead was raised as a kind and well-mannered boy, now fighting to protect others.\", \\'\\\\n\\', \\'\\\\n\\', \\'\\\\n\\', \"\\\\r\\\\nWith his failed attempt at forcibly recruiting Gokuu as an ally, Raditz warns Gokuu\\'s friends of a new threat that\\'s rapidly approaching Earth—one that could plunge Earth into an intergalactic conflict and cause the heavens themselves to shake. A war will be fought over the seven mystical dragon balls, and only the strongest will survive in \", <i>Dragon Ball Z</i>, \\'.\\', \\'\\\\n\\', \\'\\\\n\\', \\'\\\\n\\', \\'\\\\r\\\\n[Written by MAL Rewrite]\\']', 'https://myanimelist.net/anime/10695/Yume_Kui__Tsurumiku_Shiki_Game_Seisaku\\n', 0.9486832980505137), (18795, \"Bakusou Kyoudai Let's & Go\", '[\\'Based on the manga by Tetsuhiro Koshita, \\', <i>Bakusou Kyoudai Let\\'s &amp; Go!!</i>, \\' has two main seasons evolving around the Go brothers and the TRF Victorys. The third season, \\', <i>Bakusou Kyoudai Let\\'s &amp; Go!! MAX</i>, \\' evolves more around two new main characters, but the primary idea is the same... Racing!\\', \\'\\\\n\\', \\'\\\\n\\', \\'\\\\n\\', \\'\\\\n\\', <i>Let\\'s &amp; Go!!</i>, \\' focuses on Retsu and Go Seiba, two young brothers who receive racing cars called \"Mini 4WD\" by Dr. Tsuchia. From there on, the series portraits those two boys, training and customizing parts to later on participate on Japans Cup, where all of Japan\\\\\\'s racers enter to be the best of the best!\\']', 'https://myanimelist.net/anime/3380/Hana_Dorei\\n', 0.7071067811865476), (19050, 'Tokumu Sentai Shinesman', '[\\'Hiroya Matsumoto, hoping to become a great employee as his late father, has just been hired at Raito (Right) Trading Company. Little does he know that he has been recruited for a very mysterious department within the company - the Special Duty Combat Unit, known as SHINESMAN. Their purpose, to fight the terrible (often times hilarious) alien forces that threaten the earth.\\', \\'\\\\n\\', \\'\\\\n\\', \\'\\\\n\\', \\'\\\\r\\\\nLike most corporate employees, Matsumoto still has meetings to attend and deadlines to meet. But when the Shinesman rage war against the alien race from Planet Voice, led by their Prince Sasaki, Matsumoto and his co-workers don their office-coloured comat Pro-suits and become: Shinesman Red, Sepia, Salmon Pink, Grey, and Moss Green.\\', \\'\\\\n\\', \\'\\\\n\\', \\'\\\\n\\', \"\\\\r\\\\nIf you thought you\\'d seen it all in Power Rangers, Kamen Rider, or even Dynaman, wait until you take a look at the zaney but corporate world of SHINESMAN!\", \\'\\\\n\\', \\'\\\\n\\', \\'\\\\n\\', \\'\\\\r\\\\n(Source: Anime Works DVD)\\']', 'https://myanimelist.net/anime/29111/Onna_Spy_Goumon__Teki_no_Ajito_wa_Jotai_Goumonsho\\n', 0.7071067811865475)] \n",
      "\n"
     ]
    }
   ],
   "source": [
    "scoreHeap.sort(key=lambda x:x[1], reverse=True)\n",
    "out = []\n",
    "with open('https.txt', 'r', encoding='utf-8') as f:\n",
    "    lines = f.readlines()\n",
    "# list of urls\n",
    "list_txt = [line.strip() for line in lines]\n",
    "for x in range(len(scoreHeap)):\n",
    "    id = scoreHeap[x][0]\n",
    "    title = dataset['Title'][id]\n",
    "    des = dataset['Description'][id]\n",
    "    url = lines[id]\n",
    "    cosine = scoreHeap[x][1]\n",
    "    out.append((id,title,des,url,cosine))\n",
    "    print(out, '\\n')"
   ]
  },
  {
   "cell_type": "code",
   "execution_count": null,
   "id": "11edcb04",
   "metadata": {},
   "outputs": [],
   "source": []
  }
 ],
 "metadata": {
  "instance_type": "ml.t3.2xlarge",
  "kernelspec": {
   "display_name": "Python 3",
   "language": "python",
   "name": "python3"
  },
  "language_info": {
   "codemirror_mode": {
    "name": "ipython",
    "version": 3
   },
   "file_extension": ".py",
   "mimetype": "text/x-python",
   "name": "python",
   "nbconvert_exporter": "python",
   "pygments_lexer": "ipython3",
   "version": "3.8.8"
  }
 },
 "nbformat": 4,
 "nbformat_minor": 5
}