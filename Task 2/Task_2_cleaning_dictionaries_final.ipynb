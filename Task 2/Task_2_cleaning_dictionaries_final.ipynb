{
 "cells": [
  {
   "cell_type": "code",
   "execution_count": 1,
   "id": "384857d4",
   "metadata": {
    "scrolled": true
   },
   "outputs": [
    {
     "name": "stderr",
     "output_type": "stream",
     "text": [
      "[nltk_data] Downloading package stopwords to\n",
      "[nltk_data]     C:\\Users\\anton\\AppData\\Roaming\\nltk_data...\n",
      "[nltk_data]   Package stopwords is already up-to-date!\n"
     ]
    }
   ],
   "source": [
    "import pandas as pd\n",
    "\n",
    "import nltk\n",
    "tokenizer = nltk.RegexpTokenizer(r\"\\w+\")\n",
    "from nltk.corpus import stopwords\n",
    "nltk.download('stopwords')\n",
    "from nltk.stem import PorterStemmer \n",
    "ps = PorterStemmer()\n",
    "\n",
    "from collections import defaultdict\n",
    "import pickle\n",
    "\n",
    "from tqdm import tqdm"
   ]
  },
  {
   "cell_type": "code",
   "execution_count": 2,
   "id": "8cff1881",
   "metadata": {},
   "outputs": [],
   "source": [
    "dataset = pd.read_csv('anime_df.csv')"
   ]
  },
  {
   "cell_type": "code",
   "execution_count": 3,
   "id": "2a89b3f3",
   "metadata": {
    "scrolled": true
   },
   "outputs": [
    {
     "data": {
      "text/html": [
       "<div>\n",
       "<style scoped>\n",
       "    .dataframe tbody tr th:only-of-type {\n",
       "        vertical-align: middle;\n",
       "    }\n",
       "\n",
       "    .dataframe tbody tr th {\n",
       "        vertical-align: top;\n",
       "    }\n",
       "\n",
       "    .dataframe thead th {\n",
       "        text-align: right;\n",
       "    }\n",
       "</style>\n",
       "<table border=\"1\" class=\"dataframe\">\n",
       "  <thead>\n",
       "    <tr style=\"text-align: right;\">\n",
       "      <th></th>\n",
       "      <th>Title</th>\n",
       "      <th>Type</th>\n",
       "      <th>Episodes</th>\n",
       "      <th>Release date</th>\n",
       "      <th>End date</th>\n",
       "      <th>Members</th>\n",
       "      <th>Score</th>\n",
       "      <th>Users</th>\n",
       "      <th>Rank</th>\n",
       "      <th>Popularity</th>\n",
       "      <th>Description</th>\n",
       "      <th>Related</th>\n",
       "      <th>Characters</th>\n",
       "      <th>Voices</th>\n",
       "      <th>Staff</th>\n",
       "    </tr>\n",
       "  </thead>\n",
       "  <tbody>\n",
       "    <tr>\n",
       "      <th>0</th>\n",
       "      <td>Fullmetal Alchemist: Brotherhood</td>\n",
       "      <td>TV</td>\n",
       "      <td>64</td>\n",
       "      <td>2009-04-05</td>\n",
       "      <td>2010-07-04 00:00:00</td>\n",
       "      <td>2676639</td>\n",
       "      <td>9.16</td>\n",
       "      <td>1622384</td>\n",
       "      <td>1</td>\n",
       "      <td>3</td>\n",
       "      <td>[\"After a horrific alchemy experiment goes wro...</td>\n",
       "      <td>['Adaptation: Fullmetal Alchemist', 'Alternati...</td>\n",
       "      <td>['Elric, Edward', 'Elric, Alphonse', 'Mustang,...</td>\n",
       "      <td>['Park, Romi', 'Kugimiya, Rie', 'Miki, Shinich...</td>\n",
       "      <td>[['Cook, Justin', 'Producer'], ['Yonai, Norito...</td>\n",
       "    </tr>\n",
       "    <tr>\n",
       "      <th>1</th>\n",
       "      <td>Gintama: The Final</td>\n",
       "      <td>Movie</td>\n",
       "      <td>1</td>\n",
       "      <td>2021-01-08</td>\n",
       "      <td>-</td>\n",
       "      <td>79486</td>\n",
       "      <td>9.00</td>\n",
       "      <td>29979</td>\n",
       "      <td>10</td>\n",
       "      <td>1924</td>\n",
       "      <td>['New ', &lt;i&gt;Gintama&lt;/i&gt;, ' movie.']</td>\n",
       "      <td>['Adaptation: Gintama', 'Prequel: Gintama.: Sh...</td>\n",
       "      <td>['Sakata, Gintoki', 'Kagura', 'Shimura, Shinpa...</td>\n",
       "      <td>['Sugita, Tomokazu', 'Ishida, Akira', 'Hino, S...</td>\n",
       "      <td>[['Fujita, Youichi', 'Director'], ['Miyawaki, ...</td>\n",
       "    </tr>\n",
       "    <tr>\n",
       "      <th>2</th>\n",
       "      <td>Gintama.</td>\n",
       "      <td>TV</td>\n",
       "      <td>12</td>\n",
       "      <td>2017-01-09</td>\n",
       "      <td>2017-03-27 00:00:00</td>\n",
       "      <td>246290</td>\n",
       "      <td>8.98</td>\n",
       "      <td>108581</td>\n",
       "      <td>11</td>\n",
       "      <td>726</td>\n",
       "      <td>[\"After joining the resistance against the bak...</td>\n",
       "      <td>['Adaptation: Gintama', 'Prequel: Gintama°', '...</td>\n",
       "      <td>['Sakata, Gintoki', 'Kagura', 'Katsura, Kotaro...</td>\n",
       "      <td>['Sugita, Tomokazu', 'Kugimiya, Rie', 'Ishida,...</td>\n",
       "      <td>[['Fujita, Youichi', 'Director'], ['Miyawaki, ...</td>\n",
       "    </tr>\n",
       "    <tr>\n",
       "      <th>3</th>\n",
       "      <td>3-gatsu no Lion 2nd Season</td>\n",
       "      <td>TV</td>\n",
       "      <td>22</td>\n",
       "      <td>2017-10-14</td>\n",
       "      <td>2018-03-31 00:00:00</td>\n",
       "      <td>324393</td>\n",
       "      <td>8.97</td>\n",
       "      <td>155163</td>\n",
       "      <td>12</td>\n",
       "      <td>529</td>\n",
       "      <td>['Now in his second year of high school, Rei K...</td>\n",
       "      <td>['Adaptation: 3-gatsu no Lion', 'Prequel: 3-ga...</td>\n",
       "      <td>['Kiriyama, Rei', 'Kawamoto, Hinata', 'Kawamot...</td>\n",
       "      <td>['Kawanishi, Kengo', 'Hanazawa, Kana', 'Kayano...</td>\n",
       "      <td>[['Shinbou, Akiyuki', 'Director, Series Compos...</td>\n",
       "    </tr>\n",
       "    <tr>\n",
       "      <th>4</th>\n",
       "      <td>Koe no Katachi</td>\n",
       "      <td>Movie</td>\n",
       "      <td>1</td>\n",
       "      <td>2016-09-17</td>\n",
       "      <td>-</td>\n",
       "      <td>1780070</td>\n",
       "      <td>8.97</td>\n",
       "      <td>1208990</td>\n",
       "      <td>13</td>\n",
       "      <td>23</td>\n",
       "      <td>['As a wild youth, elementary school student S...</td>\n",
       "      <td>['Adaptation: Koe no Katachi', 'Other: Koe no ...</td>\n",
       "      <td>['Nishimiya, Shouko', 'Ishida, Shouya', 'Nishi...</td>\n",
       "      <td>['Hayami, Saori', 'Irino, Miyu', 'Yuuki, Aoi',...</td>\n",
       "      <td>[['Senami, Riri', 'Assistant Producer'], ['Yam...</td>\n",
       "    </tr>\n",
       "  </tbody>\n",
       "</table>\n",
       "</div>"
      ],
      "text/plain": [
       "                              Title   Type  Episodes Release date  \\\n",
       "0  Fullmetal Alchemist: Brotherhood     TV        64   2009-04-05   \n",
       "1                Gintama: The Final  Movie         1   2021-01-08   \n",
       "2                          Gintama.     TV        12   2017-01-09   \n",
       "3        3-gatsu no Lion 2nd Season     TV        22   2017-10-14   \n",
       "4                    Koe no Katachi  Movie         1   2016-09-17   \n",
       "\n",
       "              End date  Members  Score    Users  Rank  Popularity  \\\n",
       "0  2010-07-04 00:00:00  2676639   9.16  1622384     1           3   \n",
       "1                    -    79486   9.00    29979    10        1924   \n",
       "2  2017-03-27 00:00:00   246290   8.98   108581    11         726   \n",
       "3  2018-03-31 00:00:00   324393   8.97   155163    12         529   \n",
       "4                    -  1780070   8.97  1208990    13          23   \n",
       "\n",
       "                                         Description  \\\n",
       "0  [\"After a horrific alchemy experiment goes wro...   \n",
       "1                ['New ', <i>Gintama</i>, ' movie.']   \n",
       "2  [\"After joining the resistance against the bak...   \n",
       "3  ['Now in his second year of high school, Rei K...   \n",
       "4  ['As a wild youth, elementary school student S...   \n",
       "\n",
       "                                             Related  \\\n",
       "0  ['Adaptation: Fullmetal Alchemist', 'Alternati...   \n",
       "1  ['Adaptation: Gintama', 'Prequel: Gintama.: Sh...   \n",
       "2  ['Adaptation: Gintama', 'Prequel: Gintama°', '...   \n",
       "3  ['Adaptation: 3-gatsu no Lion', 'Prequel: 3-ga...   \n",
       "4  ['Adaptation: Koe no Katachi', 'Other: Koe no ...   \n",
       "\n",
       "                                          Characters  \\\n",
       "0  ['Elric, Edward', 'Elric, Alphonse', 'Mustang,...   \n",
       "1  ['Sakata, Gintoki', 'Kagura', 'Shimura, Shinpa...   \n",
       "2  ['Sakata, Gintoki', 'Kagura', 'Katsura, Kotaro...   \n",
       "3  ['Kiriyama, Rei', 'Kawamoto, Hinata', 'Kawamot...   \n",
       "4  ['Nishimiya, Shouko', 'Ishida, Shouya', 'Nishi...   \n",
       "\n",
       "                                              Voices  \\\n",
       "0  ['Park, Romi', 'Kugimiya, Rie', 'Miki, Shinich...   \n",
       "1  ['Sugita, Tomokazu', 'Ishida, Akira', 'Hino, S...   \n",
       "2  ['Sugita, Tomokazu', 'Kugimiya, Rie', 'Ishida,...   \n",
       "3  ['Kawanishi, Kengo', 'Hanazawa, Kana', 'Kayano...   \n",
       "4  ['Hayami, Saori', 'Irino, Miyu', 'Yuuki, Aoi',...   \n",
       "\n",
       "                                               Staff  \n",
       "0  [['Cook, Justin', 'Producer'], ['Yonai, Norito...  \n",
       "1  [['Fujita, Youichi', 'Director'], ['Miyawaki, ...  \n",
       "2  [['Fujita, Youichi', 'Director'], ['Miyawaki, ...  \n",
       "3  [['Shinbou, Akiyuki', 'Director, Series Compos...  \n",
       "4  [['Senami, Riri', 'Assistant Producer'], ['Yam...  "
      ]
     },
     "execution_count": 3,
     "metadata": {},
     "output_type": "execute_result"
    }
   ],
   "source": [
    "dataset.head()"
   ]
  },
  {
   "cell_type": "markdown",
   "id": "104a5a77",
   "metadata": {},
   "source": [
    "### Cleaning"
   ]
  },
  {
   "cell_type": "code",
   "execution_count": 4,
   "id": "06e45b7c",
   "metadata": {},
   "outputs": [],
   "source": [
    "def tokenizeandclean(description):\n",
    "    # input: string\n",
    "    # output: list of filtered words included in the string\n",
    "    \n",
    "    # to be applied also to the query\n",
    "    \n",
    "    low_descr = str.lower(description)\n",
    "    \n",
    "    # We tokenize the description and remove puncuation\n",
    "    tok_descr = tokenizer.tokenize(low_descr)\n",
    "    # Alternative way: first tokenize then remove punctuation\n",
    "    # tok_descr = nltk.word_tokenize(low_descr)\n",
    "    # nltk.download(\"punkt\")\n",
    "    # no_pun_descr = [word for word in tok_descr if word.isalnum()]\n",
    "    \n",
    "    # We remove stopwords from tokenized description\n",
    "    no_stop_descr = [word for word in tok_descr if not word in stopwords.words()]\n",
    "    \n",
    "    # We carry out stemming\n",
    "    stem_descr = [ps.stem(i) for i in no_stop_descr]\n",
    "    \n",
    "    # We remove isolated characters\n",
    "    final_descr = [i for i in stem_descr if len(i) > 1]\n",
    "    \n",
    "    return final_descr"
   ]
  },
  {
   "cell_type": "markdown",
   "id": "7a0567f5",
   "metadata": {},
   "source": [
    "#### example"
   ]
  },
  {
   "cell_type": "code",
   "execution_count": 5,
   "id": "34ddac5d",
   "metadata": {
    "scrolled": true
   },
   "outputs": [
    {
     "data": {
      "text/plain": [
       "'[\"After a horrific alchemy experiment goes wrong in the Elric household, brothers Edward and Alphonse are left in a catastrophic new reality. Ignoring the alchemical principle banning human transmutation, the boys attempted to bring their recently deceased mother back to life. Instead, they suffered brutal personal loss: Alphonse\\'s body disintegrated while Edward lost a leg and then sacrificed an arm to keep Alphonse\\'s soul in the physical realm by binding it to a hulking suit of armor.\", \\'\\\\n\\', \\'\\\\n\\', \\'\\\\n\\', \\'\\\\r\\\\nThe brothers are rescued by their neighbor Pinako Rockbell and her granddaughter Winry. Known as a bio-mechanical engineering prodigy, Winry creates prosthetic limbs for Edward by utilizing \"automail,\" a tough, versatile metal used in robots and combat armor. After years of training, the Elric brothers set off on a quest to restore their bodies by locating the Philosopher\\\\\\'s Stone—a powerful gem that allows an alchemist to defy the traditional laws of Equivalent Exchange.\\', \\'\\\\n\\', \\'\\\\n\\', \\'\\\\n\\', \\'\\\\r\\\\nAs Edward becomes an infamous alchemist and gains the nickname \"Fullmetal,\" the boys\\\\\\' journey embroils them in a growing conspiracy that threatens the fate of the world.\\', \\'\\\\n\\', \\'\\\\n\\', \\'\\\\n\\', \\'\\\\r\\\\n[Written by MAL Rewrite]\\']'"
      ]
     },
     "execution_count": 5,
     "metadata": {},
     "output_type": "execute_result"
    }
   ],
   "source": [
    "dataset['Description'][0]"
   ]
  },
  {
   "cell_type": "code",
   "execution_count": 7,
   "id": "be9524ab",
   "metadata": {
    "scrolled": true
   },
   "outputs": [
    {
     "data": {
      "text/plain": [
       "['horrif',\n",
       " 'alchemi',\n",
       " 'experi',\n",
       " 'goe',\n",
       " 'wrong',\n",
       " 'elric',\n",
       " 'household',\n",
       " 'brother',\n",
       " 'edward',\n",
       " 'alphons',\n",
       " 'left',\n",
       " 'catastroph',\n",
       " 'new',\n",
       " 'realiti',\n",
       " 'ignor',\n",
       " 'alchem',\n",
       " 'principl',\n",
       " 'ban',\n",
       " 'human',\n",
       " 'transmut',\n",
       " 'boy',\n",
       " 'attempt',\n",
       " 'bring',\n",
       " 'recent',\n",
       " 'deceas',\n",
       " 'mother',\n",
       " 'back',\n",
       " 'life',\n",
       " 'instead',\n",
       " 'suffer',\n",
       " 'brutal',\n",
       " 'person',\n",
       " 'loss',\n",
       " 'alphons',\n",
       " 'bodi',\n",
       " 'disintegr',\n",
       " 'edward',\n",
       " 'lost',\n",
       " 'leg',\n",
       " 'sacrif',\n",
       " 'arm',\n",
       " 'keep',\n",
       " 'alphons',\n",
       " 'soul',\n",
       " 'physic',\n",
       " 'realm',\n",
       " 'bind',\n",
       " 'hulk',\n",
       " 'suit',\n",
       " 'armor',\n",
       " 'nthe',\n",
       " 'brother',\n",
       " 'rescu',\n",
       " 'neighbor',\n",
       " 'pinako',\n",
       " 'rockbel',\n",
       " 'granddaught',\n",
       " 'winri',\n",
       " 'known',\n",
       " 'bio',\n",
       " 'mechan',\n",
       " 'engin',\n",
       " 'prodigi',\n",
       " 'winri',\n",
       " 'creat',\n",
       " 'prosthet',\n",
       " 'limb',\n",
       " 'edward',\n",
       " 'util',\n",
       " 'automail',\n",
       " 'tough',\n",
       " 'versatil',\n",
       " 'metal',\n",
       " 'use',\n",
       " 'robot',\n",
       " 'combat',\n",
       " 'armor',\n",
       " 'year',\n",
       " 'train',\n",
       " 'elric',\n",
       " 'brother',\n",
       " 'set',\n",
       " 'quest',\n",
       " 'restor',\n",
       " 'bodi',\n",
       " 'locat',\n",
       " 'philosoph',\n",
       " 'stone',\n",
       " 'power',\n",
       " 'gem',\n",
       " 'allow',\n",
       " 'alchemist',\n",
       " 'defi',\n",
       " 'tradit',\n",
       " 'law',\n",
       " 'equival',\n",
       " 'exchang',\n",
       " 'edward',\n",
       " 'becom',\n",
       " 'infam',\n",
       " 'alchemist',\n",
       " 'gain',\n",
       " 'nicknam',\n",
       " 'fullmet',\n",
       " 'boy',\n",
       " 'journey',\n",
       " 'embroil',\n",
       " 'grow',\n",
       " 'conspiraci',\n",
       " 'threaten',\n",
       " 'fate',\n",
       " 'world',\n",
       " 'written',\n",
       " 'mal',\n",
       " 'rewrit']"
      ]
     },
     "execution_count": 7,
     "metadata": {},
     "output_type": "execute_result"
    }
   ],
   "source": [
    "tokenizeandclean(dataset['Description'][0])"
   ]
  },
  {
   "cell_type": "markdown",
   "id": "c18de1a7",
   "metadata": {},
   "source": [
    "### Dictionaries\n",
    "\n",
    "- the first dictionary <code>word_2_id</code> maps word to word identification integer\n",
    "\n",
    "- the inverted index dictionary <code>id_2_anime</code> maps word identification integer to list of indexes (main dataset indexes) of anime whose cleaned description contains the word identified by the integer"
   ]
  },
  {
   "cell_type": "markdown",
   "id": "01d30ad0",
   "metadata": {},
   "source": [
    "#### Inverted Index without occurrences"
   ]
  },
  {
   "cell_type": "markdown",
   "id": "12940cb8",
   "metadata": {},
   "source": [
    "If a word is present more than once in the single description the index referring to the anime (anime_df index) in the <code>id_2_anime</code> dictionary is not repeated."
   ]
  },
  {
   "cell_type": "code",
   "execution_count": 6,
   "id": "7768cbc8",
   "metadata": {},
   "outputs": [],
   "source": [
    "def dictionaries(dataset):\n",
    "    # input: anime_df dataframe\n",
    "    # output 1: the dictionary word_2_id maps word to word identification integer  \n",
    "    # output 2: the inverted index dictionary id_2_anime maps word identification integer to list of indexes (main dataset indexes) of anime\n",
    "\n",
    "    word_2_id = defaultdict()\n",
    "    word_2_id['a'] = 0\n",
    "\n",
    "    id_2_anime = defaultdict()\n",
    "        \n",
    "    for i in tqdm(range(len(dataset))):\n",
    "        \n",
    "        tok_list = tokenizeandclean(dataset['Description'][i])\n",
    "        \n",
    "        if tok_list == []:\n",
    "            \n",
    "            pass\n",
    "        \n",
    "        else:\n",
    "\n",
    "            for j in list(set(tok_list)): # for j in tok_list -- inverted index with occurrences\n",
    "\n",
    "                if j not in word_2_id.keys():\n",
    "\n",
    "                    word_2_id[j] = word_2_id[list(word_2_id.keys())[-1]] + 1\n",
    "\n",
    "                    id_2_anime[word_2_id[j]] = [i]\n",
    "\n",
    "                else:\n",
    "\n",
    "                    id_2_anime[word_2_id[j]].append(i)\n",
    "    \n",
    "    # We save dictionaries as pkl\n",
    "    word_2_id_file = open(\"word_2_id.pkl\", \"wb\")\n",
    "    pickle.dump(word_2_id, word_2_id_file)\n",
    "    word_2_id_file.close()\n",
    "    \n",
    "    id_2_anime_file = open(\"id_2_anime.pkl\", \"wb\")\n",
    "    pickle.dump(id_2_anime, id_2_anime_file)\n",
    "    id_2_anime_file.close()\n",
    "\n",
    "    return word_2_id, id_2_anime"
   ]
  },
  {
   "cell_type": "code",
   "execution_count": 7,
   "id": "086d7ae5",
   "metadata": {},
   "outputs": [
    {
     "name": "stderr",
     "output_type": "stream",
     "text": [
      "100%|██████████████████████████████████████████████████████████████████████████| 19053/19053 [1:56:43<00:00,  2.72it/s]\n"
     ]
    }
   ],
   "source": [
    "word_2_id0, id_2_anime0 = dictionaries(dataset)"
   ]
  },
  {
   "cell_type": "code",
   "execution_count": 8,
   "id": "4be9360e",
   "metadata": {},
   "outputs": [
    {
     "data": {
      "text/plain": [
       "39334"
      ]
     },
     "execution_count": 8,
     "metadata": {},
     "output_type": "execute_result"
    }
   ],
   "source": [
    "len(word_2_id0)"
   ]
  },
  {
   "cell_type": "code",
   "execution_count": 11,
   "id": "38a58b48",
   "metadata": {},
   "outputs": [
    {
     "data": {
      "text/plain": [
       "True"
      ]
     },
     "execution_count": 11,
     "metadata": {},
     "output_type": "execute_result"
    }
   ],
   "source": [
    "len(id_2_anime0) == len(word_2_id0) - 1 # -1 inizialization value"
   ]
  },
  {
   "cell_type": "markdown",
   "id": "ca5a438b",
   "metadata": {},
   "source": [
    "### Search engine"
   ]
  },
  {
   "cell_type": "code",
   "execution_count": 5,
   "id": "08c0defc",
   "metadata": {},
   "outputs": [],
   "source": [
    "def search_engine(query):\n",
    "    # input: query as string\n",
    "    # output: list of indexes (anime_df dataframe) of anime whose description contains all the words in the query\n",
    "    \n",
    "    # We load dictionaries\n",
    "    word_2_id_file = open(\"word_2_id.pkl\", \"rb\")\n",
    "    word_2_id = pickle.load(word_2_id_file)\n",
    "    word_2_id_file.close()\n",
    "    id_2_anime_file = open(\"id_2_anime.pkl\", \"rb\")\n",
    "    id_2_anime = pickle.load(id_2_anime_file)\n",
    "    id_2_anime_file.close()\n",
    "    \n",
    "    # We filter query (apply tokenizeandclean function and remove duplicates)\n",
    "    cleaned_query = list(set(tokenizeandclean(query)))\n",
    "        \n",
    "    listoflists = []\n",
    "    \n",
    "    for i in range(len(cleaned_query)):\n",
    "        listoflists.append(set(id_2_anime[word_2_id[cleaned_query[i]]]))\n",
    "        \n",
    "    anime_intersection = list(set.intersection(*listoflists))\n",
    "    \n",
    "    return anime_intersection"
   ]
  },
  {
   "cell_type": "code",
   "execution_count": 9,
   "id": "dcc56af0",
   "metadata": {},
   "outputs": [],
   "source": [
    "q = search_engine(\"saiyan race\")"
   ]
  },
  {
   "cell_type": "code",
   "execution_count": 11,
   "id": "8457a673",
   "metadata": {},
   "outputs": [
    {
     "name": "stdout",
     "output_type": "stream",
     "text": [
      "[\"Bardock, Son Goku's father, is a low-ranking Saiyan soldier who was given the power to see into the future by the last remaining alien on a planet he just destroyed. He witnesses the destruction of his race and must now do his best to stop Frieza's impending massacre.\", '\\n', '\\n', '\\n', '\\r\\n(Source: ANN)']\n",
      "\n",
      "[\"Five years after the events of Dragon Ball, martial arts expert Gokuu is now a grown man married to his wife Chi-Chi, with a four-year old son named Gohan. While attending a reunion on Turtle Island with his old friends Master Roshi, Krillin, Bulma and others, the festivities are interrupted when a humanoid alien named Raditz not only reveals the truth behind Gokuu's past, but kidnaps Gohan as well.\", '\\n', '\\n', '\\n', '\\r\\nWith Raditz displaying power beyond anything Gokuu has seen before, he is forced to team up with his old nemesis, Piccolo, in order to rescue his son. But when Gokuu and Piccolo reveal the secret of the seven mystical wish-granting Dragon Balls to Raditz, he informs the duo that there is more of his race, the Saiyans, and they won’t pass up an opportunity to seize the power of the Dragon Balls for themselves.', '\\n', '\\n', '\\n', '\\r\\nThese events begin the saga of ', <i>Dragon Ball Kai</i>, ', a story that finds Gokuu and his friends and family constantly defending the galaxy from increasingly more powerful threats. Bizarre, comical, heartwarming and threatening characters come together in a series of battles that push the powers and abilities of Gokuu and his friends beyond anything they have ever experienced.']\n",
      "\n",
      "[\"Five years after winning the World Martial Arts tournament, Gokuu is now living a peaceful life with his wife and son. This changes, however, with the arrival of a mysterious enemy named Raditz who presents himself as Gokuu's long-lost brother. He reveals that Gokuu is a warrior from the once powerful but now virtually extinct Saiyan race, whose homeworld was completely annihilated. When he was sent to Earth as a baby, Gokuu's sole purpose was to conquer and destroy the planet; but after suffering amnesia from a head injury, his violent and savage nature changed, and instead was raised as a kind and well-mannered boy, now fighting to protect others.\", '\\n', '\\n', '\\n', \"\\r\\nWith his failed attempt at forcibly recruiting Gokuu as an ally, Raditz warns Gokuu's friends of a new threat that's rapidly approaching Earth—one that could plunge Earth into an intergalactic conflict and cause the heavens themselves to shake. A war will be fought over the seven mystical dragon balls, and only the strongest will survive in \", <i>Dragon Ball Z</i>, '.', '\\n', '\\n', '\\n', '\\r\\n[Written by MAL Rewrite]']\n",
      "\n",
      "[\"Forty-one years ago on Planet Vegeta, home of the infamous Saiyan warrior race, King Vegeta noticed a baby named Broly whose latent power exceeded that of his own son. Believing that Broly's power would one day surpass that of his child, Vegeta, the king sends Broly to the desolate planet Vampa. Broly's father Paragus follows after him, intent on rescuing his son. However, his ship gets damaged, causing the two to spend years trapped on the barren world, unaware of the salvation that would one day come from an unlikely ally.\", '\\n', '\\n', '\\n', '\\r\\nYears later on Earth, Gokuu Son and Prince Vegeta—believed to be the last survivors of the Saiyan race—are busy training on a remote island. But their sparring is interrupted when the appearance of their old enemy Frieza drives them to search for the last of the wish-granting Dragon Balls on a frozen continent. Once there, Frieza shows off his new allies: Paragus and the now extremely powerful Broly. A legendary battle that shakes the foundation of the world ensues as Gokuu and Vegeta face off against Broly, a warrior without equal whose rage is just waiting to be unleashed.', '\\n', '\\n', '\\n', '\\r\\n[Written by MAL Rewrite]']\n",
      "\n"
     ]
    }
   ],
   "source": [
    "for i in q:\n",
    "    print(dataset['Description'][i])\n",
    "    print('')"
   ]
  }
 ],
 "metadata": {
  "kernelspec": {
   "display_name": "Python 3",
   "language": "python",
   "name": "python3"
  },
  "language_info": {
   "codemirror_mode": {
    "name": "ipython",
    "version": 3
   },
   "file_extension": ".py",
   "mimetype": "text/x-python",
   "name": "python",
   "nbconvert_exporter": "python",
   "pygments_lexer": "ipython3",
   "version": "3.8.8"
  }
 },
 "nbformat": 4,
 "nbformat_minor": 5
}
