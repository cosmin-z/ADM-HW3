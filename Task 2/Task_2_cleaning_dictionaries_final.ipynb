{
 "cells": [
  {
   "cell_type": "code",
   "execution_count": 86,
   "metadata": {
    "scrolled": true
   },
   "outputs": [
    {
     "name": "stderr",
     "output_type": "stream",
     "text": [
      "[nltk_data] Downloading package stopwords to /root/nltk_data...\n",
      "[nltk_data]   Package stopwords is already up-to-date!\n"
     ]
    }
   ],
   "source": [
    "import pandas as pd\n",
    "\n",
    "import nltk\n",
    "tokenizer = nltk.RegexpTokenizer(r\"\\w+\")\n",
    "from nltk.corpus import stopwords\n",
    "nltk.download('stopwords')\n",
    "from nltk.stem import PorterStemmer \n",
    "ps = PorterStemmer()\n",
    "\n",
    "from collections import defaultdict\n",
    "import pickle\n",
    "\n",
    "from tqdm import tqdm\n",
    "\n",
    "import math\n",
    "\n",
    "import numpy as np"
   ]
  },
  {
   "cell_type": "code",
   "execution_count": 4,
   "metadata": {},
   "outputs": [],
   "source": [
    "dataset = pd.read_csv('anime_df.csv')"
   ]
  },
  {
   "cell_type": "code",
   "execution_count": null,
   "metadata": {
    "scrolled": true
   },
   "outputs": [],
   "source": [
    "dataset.head()"
   ]
  },
  {
   "cell_type": "markdown",
   "metadata": {},
   "source": [
    "### Cleaning"
   ]
  },
  {
   "cell_type": "code",
   "execution_count": 34,
   "metadata": {},
   "outputs": [],
   "source": [
    "def tokenizeandclean(description):\n",
    "    # input: string\n",
    "    # output: list of filtered words included in the string\n",
    "    \n",
    "    # to be applied also to the query\n",
    "    \n",
    "    low_descr = str.lower(description)\n",
    "    \n",
    "    # We tokenize the description and remove puncuation\n",
    "    tok_descr = tokenizer.tokenize(low_descr)\n",
    "    # Alternative way: first tokenize then remove punctuation\n",
    "    # tok_descr = nltk.word_tokenize(low_descr)\n",
    "    # nltk.download(\"punkt\")\n",
    "    # no_pun_descr = [word for word in tok_descr if word.isalnum()]\n",
    "    \n",
    "    # We remove stopwords from tokenized description\n",
    "    no_stop_descr = [word for word in tok_descr if not word in stopwords.words()]\n",
    "    \n",
    "    # We carry out stemming\n",
    "    stem_descr = [ps.stem(i) for i in no_stop_descr]\n",
    "    \n",
    "    # We remove isolated characters\n",
    "    final_descr = [i for i in stem_descr if len(i) > 1]\n",
    "    \n",
    "    return final_descr"
   ]
  },
  {
   "cell_type": "markdown",
   "metadata": {},
   "source": [
    "#### example"
   ]
  },
  {
   "cell_type": "code",
   "execution_count": 5,
   "metadata": {
    "scrolled": true
   },
   "outputs": [
    {
     "data": {
      "text/plain": [
       "'[\"After a horrific alchemy experiment goes wrong in the Elric household, brothers Edward and Alphonse are left in a catastrophic new reality. Ignoring the alchemical principle banning human transmutation, the boys attempted to bring their recently deceased mother back to life. Instead, they suffered brutal personal loss: Alphonse\\'s body disintegrated while Edward lost a leg and then sacrificed an arm to keep Alphonse\\'s soul in the physical realm by binding it to a hulking suit of armor.\", \\'\\\\n\\', \\'\\\\n\\', \\'\\\\n\\', \\'\\\\r\\\\nThe brothers are rescued by their neighbor Pinako Rockbell and her granddaughter Winry. Known as a bio-mechanical engineering prodigy, Winry creates prosthetic limbs for Edward by utilizing \"automail,\" a tough, versatile metal used in robots and combat armor. After years of training, the Elric brothers set off on a quest to restore their bodies by locating the Philosopher\\\\\\'s Stone—a powerful gem that allows an alchemist to defy the traditional laws of Equivalent Exchange.\\', \\'\\\\n\\', \\'\\\\n\\', \\'\\\\n\\', \\'\\\\r\\\\nAs Edward becomes an infamous alchemist and gains the nickname \"Fullmetal,\" the boys\\\\\\' journey embroils them in a growing conspiracy that threatens the fate of the world.\\', \\'\\\\n\\', \\'\\\\n\\', \\'\\\\n\\', \\'\\\\r\\\\n[Written by MAL Rewrite]\\']'"
      ]
     },
     "execution_count": 5,
     "metadata": {},
     "output_type": "execute_result"
    }
   ],
   "source": [
    "dataset['Description'][0]"
   ]
  },
  {
   "cell_type": "code",
   "execution_count": 190,
   "metadata": {
    "scrolled": true
   },
   "outputs": [
    {
     "data": {
      "text/plain": [
       "list"
      ]
     },
     "execution_count": 190,
     "metadata": {},
     "output_type": "execute_result"
    }
   ],
   "source": [
    "type(tokenizeandclean(dataset['Description'][i]))"
   ]
  },
  {
   "cell_type": "code",
   "execution_count": null,
   "metadata": {},
   "outputs": [],
   "source": [
    "datasetClean = defaultdict()\n",
    "for i in range(len(dataset)):\n",
    "    datasetClean[i]=(tokenizeandclean(dataset['Description'][i]))"
   ]
  },
  {
   "cell_type": "code",
   "execution_count": 10,
   "metadata": {},
   "outputs": [],
   "source": [
    "# We save dictionaries as pkl\n",
    "descriptionsDataset = open(\"descriptionsDataset.pkl\", \"wb\")\n",
    "pickle.dump(datasetClean, descriptionsDataset)\n",
    "descriptionsDataset.close()"
   ]
  },
  {
   "cell_type": "code",
   "execution_count": 5,
   "metadata": {},
   "outputs": [
    {
     "ename": "NameError",
     "evalue": "name 'datasetClean' is not defined",
     "output_type": "error",
     "traceback": [
      "\u001b[0;31m---------------------------------------------------------------------------\u001b[0m",
      "\u001b[0;31mNameError\u001b[0m                                 Traceback (most recent call last)",
      "\u001b[0;32m<ipython-input-5-1ae3fad0cba4>\u001b[0m in \u001b[0;36m<module>\u001b[0;34m\u001b[0m\n\u001b[0;32m----> 1\u001b[0;31m \u001b[0mlen\u001b[0m\u001b[0;34m(\u001b[0m\u001b[0mdatasetClean\u001b[0m\u001b[0;34m)\u001b[0m\u001b[0;34m\u001b[0m\u001b[0;34m\u001b[0m\u001b[0m\n\u001b[0m",
      "\u001b[0;31mNameError\u001b[0m: name 'datasetClean' is not defined"
     ]
    }
   ],
   "source": [
    "len(datasetClean)"
   ]
  },
  {
   "cell_type": "markdown",
   "metadata": {},
   "source": [
    "### Dictionaries\n",
    "\n",
    "- the first dictionary <code>word_2_id</code> maps word to word identification integer\n",
    "\n",
    "- the inverted index dictionary <code>id_2_anime</code> maps word identification integer to list of indexes (main dataset indexes) of anime whose cleaned description contains the word identified by the integer"
   ]
  },
  {
   "cell_type": "markdown",
   "metadata": {},
   "source": [
    "#### Inverted Index without occurrences"
   ]
  },
  {
   "cell_type": "markdown",
   "metadata": {},
   "source": [
    "If a word is present more than once in the single description the index referring to the anime (anime_df index) in the <code>id_2_anime</code> dictionary is not repeated."
   ]
  },
  {
   "cell_type": "code",
   "execution_count": 6,
   "metadata": {},
   "outputs": [],
   "source": [
    "def dictionaries(dataset):\n",
    "    # input: anime_df dataframe\n",
    "    # output 1: the dictionary word_2_id maps word to word identification integer  \n",
    "    # output 2: the inverted index dictionary id_2_anime maps word identification integer to list of indexes (main dataset indexes) of anime\n",
    "\n",
    "    word_2_id = defaultdict()\n",
    "    word_2_id['a'] = 0\n",
    "\n",
    "    id_2_anime = defaultdict()\n",
    "        \n",
    "    for i in tqdm(range(len(dataset))):\n",
    "        \n",
    "        tok_list = tokenizeandclean(dataset['Description'][i])\n",
    "        \n",
    "        if tok_list == []:\n",
    "            \n",
    "            pass\n",
    "        \n",
    "        else:\n",
    "\n",
    "            for j in list(set(tok_list)): # for j in tok_list -- inverted index with occurrences\n",
    "\n",
    "                if j not in word_2_id.keys():\n",
    "\n",
    "                    word_2_id[j] = word_2_id[list(word_2_id.keys())[-1]] + 1\n",
    "\n",
    "                    id_2_anime[word_2_id[j]] = [i]\n",
    "\n",
    "                else:\n",
    "\n",
    "                    id_2_anime[word_2_id[j]].append(i)\n",
    "    \n",
    "    # We save dictionaries as pkl\n",
    "    word_2_id_file = open(\"word_2_id.pkl\", \"wb\")\n",
    "    pickle.dump(word_2_id, word_2_id_file)\n",
    "    word_2_id_file.close()\n",
    "    \n",
    "    id_2_anime_file = open(\"id_2_anime.pkl\", \"wb\")\n",
    "    pickle.dump(id_2_anime, id_2_anime_file)\n",
    "    id_2_anime_file.close()\n",
    "\n",
    "    return word_2_id, id_2_anime"
   ]
  },
  {
   "cell_type": "code",
   "execution_count": 7,
   "metadata": {},
   "outputs": [
    {
     "name": "stderr",
     "output_type": "stream",
     "text": [
      "100%|██████████████████████████████████████████████████████████████████████████| 19053/19053 [1:56:43<00:00,  2.72it/s]\n"
     ]
    }
   ],
   "source": [
    "word_2_id0, id_2_anime0 = dictionaries(dataset)"
   ]
  },
  {
   "cell_type": "code",
   "execution_count": 8,
   "metadata": {},
   "outputs": [
    {
     "data": {
      "text/plain": [
       "39334"
      ]
     },
     "execution_count": 8,
     "metadata": {},
     "output_type": "execute_result"
    }
   ],
   "source": [
    "len(word_2_id0)"
   ]
  },
  {
   "cell_type": "code",
   "execution_count": 11,
   "metadata": {},
   "outputs": [
    {
     "data": {
      "text/plain": [
       "True"
      ]
     },
     "execution_count": 11,
     "metadata": {},
     "output_type": "execute_result"
    }
   ],
   "source": [
    "len(id_2_anime0) == len(word_2_id0) - 1 # -1 inizialization value"
   ]
  },
  {
   "cell_type": "markdown",
   "metadata": {},
   "source": [
    "### Search engine"
   ]
  },
  {
   "cell_type": "code",
   "execution_count": 5,
   "metadata": {},
   "outputs": [],
   "source": [
    "def search_engine(query):\n",
    "    # input: query as string\n",
    "    # output: list of indexes (anime_df dataframe) of anime whose description contains all the words in the query\n",
    "    \n",
    "    # We load dictionaries\n",
    "    word_2_id_file = open(\"word_2_id.pkl\", \"rb\")\n",
    "    word_2_id = pickle.load(word_2_id_file)\n",
    "    word_2_id_file.close()\n",
    "    id_2_anime_file = open(\"id_2_anime.pkl\", \"rb\")\n",
    "    id_2_anime = pickle.load(id_2_anime_file)\n",
    "    id_2_anime_file.close()\n",
    "    \n",
    "    # We filter query (apply tokenizeandclean function and remove duplicates)\n",
    "    cleaned_query = list(set(tokenizeandclean(query)))\n",
    "        \n",
    "    listoflists = []\n",
    "    \n",
    "    for i in range(len(cleaned_query)):\n",
    "        listoflists.append(set(id_2_anime[word_2_id[cleaned_query[i]]]))\n",
    "        \n",
    "    anime_intersection = list(set.intersection(*listoflists))\n",
    "    \n",
    "    return anime_intersection"
   ]
  },
  {
   "cell_type": "code",
   "execution_count": 9,
   "metadata": {},
   "outputs": [],
   "source": [
    "q = search_engine(\"saiyan race\")"
   ]
  },
  {
   "cell_type": "code",
   "execution_count": 11,
   "metadata": {},
   "outputs": [
    {
     "name": "stdout",
     "output_type": "stream",
     "text": [
      "[\"Bardock, Son Goku's father, is a low-ranking Saiyan soldier who was given the power to see into the future by the last remaining alien on a planet he just destroyed. He witnesses the destruction of his race and must now do his best to stop Frieza's impending massacre.\", '\\n', '\\n', '\\n', '\\r\\n(Source: ANN)']\n",
      "\n",
      "[\"Five years after the events of Dragon Ball, martial arts expert Gokuu is now a grown man married to his wife Chi-Chi, with a four-year old son named Gohan. While attending a reunion on Turtle Island with his old friends Master Roshi, Krillin, Bulma and others, the festivities are interrupted when a humanoid alien named Raditz not only reveals the truth behind Gokuu's past, but kidnaps Gohan as well.\", '\\n', '\\n', '\\n', '\\r\\nWith Raditz displaying power beyond anything Gokuu has seen before, he is forced to team up with his old nemesis, Piccolo, in order to rescue his son. But when Gokuu and Piccolo reveal the secret of the seven mystical wish-granting Dragon Balls to Raditz, he informs the duo that there is more of his race, the Saiyans, and they won’t pass up an opportunity to seize the power of the Dragon Balls for themselves.', '\\n', '\\n', '\\n', '\\r\\nThese events begin the saga of ', <i>Dragon Ball Kai</i>, ', a story that finds Gokuu and his friends and family constantly defending the galaxy from increasingly more powerful threats. Bizarre, comical, heartwarming and threatening characters come together in a series of battles that push the powers and abilities of Gokuu and his friends beyond anything they have ever experienced.']\n",
      "\n",
      "[\"Five years after winning the World Martial Arts tournament, Gokuu is now living a peaceful life with his wife and son. This changes, however, with the arrival of a mysterious enemy named Raditz who presents himself as Gokuu's long-lost brother. He reveals that Gokuu is a warrior from the once powerful but now virtually extinct Saiyan race, whose homeworld was completely annihilated. When he was sent to Earth as a baby, Gokuu's sole purpose was to conquer and destroy the planet; but after suffering amnesia from a head injury, his violent and savage nature changed, and instead was raised as a kind and well-mannered boy, now fighting to protect others.\", '\\n', '\\n', '\\n', \"\\r\\nWith his failed attempt at forcibly recruiting Gokuu as an ally, Raditz warns Gokuu's friends of a new threat that's rapidly approaching Earth—one that could plunge Earth into an intergalactic conflict and cause the heavens themselves to shake. A war will be fought over the seven mystical dragon balls, and only the strongest will survive in \", <i>Dragon Ball Z</i>, '.', '\\n', '\\n', '\\n', '\\r\\n[Written by MAL Rewrite]']\n",
      "\n",
      "[\"Forty-one years ago on Planet Vegeta, home of the infamous Saiyan warrior race, King Vegeta noticed a baby named Broly whose latent power exceeded that of his own son. Believing that Broly's power would one day surpass that of his child, Vegeta, the king sends Broly to the desolate planet Vampa. Broly's father Paragus follows after him, intent on rescuing his son. However, his ship gets damaged, causing the two to spend years trapped on the barren world, unaware of the salvation that would one day come from an unlikely ally.\", '\\n', '\\n', '\\n', '\\r\\nYears later on Earth, Gokuu Son and Prince Vegeta—believed to be the last survivors of the Saiyan race—are busy training on a remote island. But their sparring is interrupted when the appearance of their old enemy Frieza drives them to search for the last of the wish-granting Dragon Balls on a frozen continent. Once there, Frieza shows off his new allies: Paragus and the now extremely powerful Broly. A legendary battle that shakes the foundation of the world ensues as Gokuu and Vegeta face off against Broly, a warrior without equal whose rage is just waiting to be unleashed.', '\\n', '\\n', '\\n', '\\r\\n[Written by MAL Rewrite]']\n",
      "\n"
     ]
    }
   ],
   "source": [
    "for i in q:\n",
    "    print(dataset['Description'][i])\n",
    "    print('')"
   ]
  },
  {
   "cell_type": "code",
   "execution_count": 111,
   "metadata": {},
   "outputs": [],
   "source": [
    "import pickle\n",
    "\n",
    "\n",
    "with open('dictionaries/id_2_anime.pkl', 'rb') as f:\n",
    "    firstDictionary = pickle.load(f)\n",
    "    \n",
    "with open('dictionaries/word_2_id.pkl', 'rb') as f:\n",
    "    dataWord = pickle.load(f)\n",
    "    \n",
    "with open('descriptionsDataset.pkl', 'rb') as f:\n",
    "    dataDescriptionClean = pickle.load(f)"
   ]
  },
  {
   "cell_type": "code",
   "execution_count": 7,
   "metadata": {},
   "outputs": [
    {
     "data": {
      "text/plain": [
       "19053"
      ]
     },
     "execution_count": 7,
     "metadata": {},
     "output_type": "execute_result"
    }
   ],
   "source": []
  },
  {
   "cell_type": "markdown",
   "metadata": {},
   "source": [
    "### 2.2"
   ]
  },
  {
   "cell_type": "markdown",
   "metadata": {},
   "source": [
    "For the second search engine, given a query, we want to get the top-k (the choice of k it's up to you!) documents related to the query. In particular:\n",
    "\n",
    "- Find all the documents that contains all the words in the query.\n",
    "- Sort them by their similarity with the query.\n",
    "- Return in output k documents, or all the documents with non-zero similarity with the query when the results are less than k. You must use a heap data structure (you can use Python libraries) for maintaining the top-k documents.\n",
    "- To solve this task, you will have to use the tfIdf score, and the Cosine similarity. The field to consider it is still the synopsis."
   ]
  },
  {
   "cell_type": "code",
   "execution_count": 112,
   "metadata": {},
   "outputs": [],
   "source": [
    "def calculate_TfIdf(lenghtDictionary, lenghtTerm, numberOfOccurence, wordsDocument):\n",
    "    TF = numberOfOccurence / wordsDocument #number of the occurence in the document / #numer of total words in this single document.\n",
    "    IDF = math.log10(lenghtDictionary / lenghtTerm) #lenght of dictonarty / number of documents that containg the term j\n",
    "    return round(TF*IDF,2) #just two decimal "
   ]
  },
  {
   "cell_type": "code",
   "execution_count": 117,
   "metadata": {},
   "outputs": [],
   "source": [
    "def number_occurence(document, word):\n",
    "    return np.sum( word in s for s in document) #count the occurence of a word in a document"
   ]
  },
  {
   "cell_type": "code",
   "execution_count": 114,
   "metadata": {},
   "outputs": [],
   "source": [
    "lengthDic = len(firstDictionary)"
   ]
  },
  {
   "cell_type": "code",
   "execution_count": 115,
   "metadata": {},
   "outputs": [],
   "source": [
    "tfidf_invIndex = defaultdict() #starting a dictiornary\n",
    "\n",
    "dataWordList = list(dataWord.copy()) #copy of the dictionary which contains the words\n",
    "tfidf_invIndex = firstDictionary.copy() #copy of the dictionary which containts the documents where each word of dataword is present\n",
    "dataDescription = dataDescriptionClean.copy()"
   ]
  },
  {
   "cell_type": "code",
   "execution_count": 118,
   "metadata": {},
   "outputs": [
    {
     "name": "stderr",
     "output_type": "stream",
     "text": [
      "  0%|          | 0/39332 [00:00<?, ?it/s]/opt/conda/lib/python3.7/site-packages/ipykernel_launcher.py:2: DeprecationWarning: Calling np.sum(generator) is deprecated, and in the future will give a different result. Use np.sum(np.fromiter(generator)) or the python sum builtin instead.\n",
      "  \n",
      "100%|██████████| 39332/39332 [00:06<00:00, 6077.23it/s] \n"
     ]
    }
   ],
   "source": [
    "for i in tqdm(range(1,len(firstDictionary))):\n",
    "    lenghtTerm = len(firstDictionary[i]) #lenght of a single term_id_i\n",
    "    \n",
    "    for j in range(len(firstDictionary[i])):\n",
    "        synopsis = dataDescription[firstDictionary[i][j]] #the description that contains the word\n",
    "        wordsDocument = len(synopsis) #the lenght\n",
    "        numberOfOccurence = number_occurence(synopsis, dataWordList[i])\n",
    "        tfidf_invIndex[i][j]=(firstDictionary[i][j], calculate_TfIdf(lengthDic, lenghtTerm, numberOfOccurence, wordsDocument)) #return ( id-document, tfIdf_{term,documenti})"
   ]
  },
  {
   "cell_type": "code",
   "execution_count": 89,
   "metadata": {},
   "outputs": [],
   "source": [
    "from numpy import inner\n",
    "from numpy.linalg import norm\n",
    "searchWord = tokenizeandclean('saiyan race')\n",
    "scoreHeap, k = [], 10\n",
    "\n",
    "q =  np.zeros((len(dataWord),), dtype=int)\n",
    "\n",
    "for word in searchWord:\n",
    "    for key,values in dataWord.items():\n",
    "        if word in key:\n",
    "            q[values] +=1 #fill the query q\n",
    "normq = norm(q)"
   ]
  },
  {
   "cell_type": "code",
   "execution_count": null,
   "metadata": {},
   "outputs": [],
   "source": [
    "for i in range(len(dataset)):\n",
    "    sum = 0;\n",
    "    occurence = 0;\n",
    "    norm = 0;\n",
    "    for k in range(1,len(tfidf_invIndex)):\n",
    "        for j in range(1,len(tfidf_invIndex[k])):\n",
    "            if(i == tfidf_invIndex[k][j][0]):\n",
    "                sum += q[i]*tfidf_invIndex[k][j][1]\n",
    "                norm += tfidf_invIndex[k][j][1]*tfidf_invIndex[k][j][1]\n",
    "\n",
    "        if(sum/math.sqrt(norm) != 0):\n",
    "            print(i,sum/math.sqrt(norm))"
   ]
  },
  {
   "cell_type": "code",
   "execution_count": 41,
   "metadata": {},
   "outputs": [],
   "source": [
    "#dataWord\n",
    "#print([x for x in q])"
   ]
  },
  {
   "cell_type": "code",
   "execution_count": null,
   "metadata": {},
   "outputs": [],
   "source": []
  },
  {
   "cell_type": "code",
   "execution_count": null,
   "metadata": {},
   "outputs": [],
   "source": []
  }
 ],
 "metadata": {
  "instance_type": "ml.t3.2xlarge",
  "kernelspec": {
   "display_name": "Python 3 (Data Science)",
   "language": "python",
   "name": "python3__SAGEMAKER_INTERNAL__arn:aws:sagemaker:us-east-1:081325390199:image/datascience-1.0"
  },
  "language_info": {
   "codemirror_mode": {
    "name": "ipython",
    "version": 3
   },
   "file_extension": ".py",
   "mimetype": "text/x-python",
   "name": "python",
   "nbconvert_exporter": "python",
   "pygments_lexer": "ipython3",
   "version": "3.7.10"
  }
 },
 "nbformat": 4,
 "nbformat_minor": 5
}
