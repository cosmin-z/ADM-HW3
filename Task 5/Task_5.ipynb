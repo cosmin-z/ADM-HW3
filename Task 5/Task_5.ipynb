{
 "cells": [
  {
   "cell_type": "code",
   "execution_count": 1,
   "id": "3217164c",
   "metadata": {},
   "outputs": [],
   "source": [
    "from itertools import combinations\n",
    "import numpy as np"
   ]
  },
  {
   "cell_type": "code",
   "execution_count": 2,
   "id": "9d6ff721",
   "metadata": {},
   "outputs": [],
   "source": [
    "def best_comb(lis, n):\n",
    "    lis0 = list(enumerate(lis))\n",
    "    lis1 = [tuple(lis0[j+i] for i, j in enumerate(comb)) for comb in combinations(range(len(lis0)-n+1), n)]\n",
    "    arr = np.array(lis1)\n",
    "    aux = np.amax(arr.sum(axis=1), axis=1)\n",
    "    result = [max(aux), lis1[np.argmax(aux)]]\n",
    "    return result"
   ]
  },
  {
   "cell_type": "code",
   "execution_count": 3,
   "id": "84ab9f3a",
   "metadata": {},
   "outputs": [],
   "source": [
    "def find_schedule(in_list):\n",
    "    if in_list == []:\n",
    "        pass\n",
    "    elif (len(in_list) % 2) == 0:\n",
    "        n0 = len(in_list) // 2\n",
    "        n1 = n0 - 1\n",
    "        sched0 = best_comb(in_list, n0)\n",
    "        sched1 = best_comb(in_list, n1)\n",
    "        ind = np.argmax(np.array([sched0[0], sched1[0]]))\n",
    "        if ind == 0:\n",
    "            return sched0\n",
    "        else:\n",
    "            return sched1\n",
    "    else:\n",
    "        n0 = len(in_list) // 2\n",
    "        n1 = n0 + 1\n",
    "        n2 = n0 - 1\n",
    "        sched0 = best_comb(in_list, n0)\n",
    "        sched1 = best_comb(in_list, n1)\n",
    "        sched2 = best_comb(in_list, n2)\n",
    "        ind = np.argmax(np.array([sched0[0], sched1[0], sched2[0]]))\n",
    "        if ind == 0:\n",
    "            return sched0\n",
    "        elif ind == 1:\n",
    "            return sched1\n",
    "        else:\n",
    "            return sched2"
   ]
  },
  {
   "cell_type": "code",
   "execution_count": 4,
   "id": "897fa7b0",
   "metadata": {
    "scrolled": false
   },
   "outputs": [
    {
     "data": {
      "text/plain": [
       "[110, ((1, 40), (3, 50), (5, 20))]"
      ]
     },
     "execution_count": 4,
     "metadata": {},
     "output_type": "execute_result"
    }
   ],
   "source": [
    "find_schedule([30, 40, 25, 50, 30, 20])"
   ]
  },
  {
   "cell_type": "code",
   "execution_count": 5,
   "id": "74d81157",
   "metadata": {},
   "outputs": [
    {
     "data": {
      "text/plain": [
       "[2050, ((0, 50), (3, 1000), (6, 1000))]"
      ]
     },
     "execution_count": 5,
     "metadata": {},
     "output_type": "execute_result"
    }
   ],
   "source": [
    "find_schedule([50, 40, 25, 1000, 30, 20, 1000])"
   ]
  },
  {
   "cell_type": "code",
   "execution_count": 8,
   "id": "6ecee9cb",
   "metadata": {
    "scrolled": true
   },
   "outputs": [
    {
     "data": {
      "text/plain": [
       "[3000, ((1, 1000), (4, 1000), (7, 1000))]"
      ]
     },
     "execution_count": 8,
     "metadata": {},
     "output_type": "execute_result"
    }
   ],
   "source": [
    "find_schedule([30, 1000, 25, 50, 1000, 20, 20, 1000, 20])"
   ]
  }
 ],
 "metadata": {
  "kernelspec": {
   "display_name": "Python 3",
   "language": "python",
   "name": "python3"
  },
  "language_info": {
   "codemirror_mode": {
    "name": "ipython",
    "version": 3
   },
   "file_extension": ".py",
   "mimetype": "text/x-python",
   "name": "python",
   "nbconvert_exporter": "python",
   "pygments_lexer": "ipython3",
   "version": "3.8.8"
  }
 },
 "nbformat": 4,
 "nbformat_minor": 5
}
